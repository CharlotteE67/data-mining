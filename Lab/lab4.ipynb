{
 "cells": [
  {
   "cell_type": "code",
   "execution_count": 13,
   "metadata": {
    "scrolled": true
   },
   "outputs": [
    {
     "data": {
      "text/plain": [
       "<AxesSubplot:xlabel='date'>"
      ]
     },
     "execution_count": 13,
     "metadata": {},
     "output_type": "execute_result"
    },
    {
     "data": {
      "image/png": "[encoded data removed]",
      "text/plain": [
       "<Figure size 432x288 with 1 Axes>"
      ]
     },
     "metadata": {
      "needs_background": "light"
     },
     "output_type": "display_data"
    }
   ],
   "source": [
    "import pandas\n",
    "import seaborn as sns\n",
    "#landslide\n",
    "ls = pandas.read_csv(\"landslide_catalog.csv\")\n",
    "# print(ls['date'].head(30))\n",
    "ls['date'] = pandas.to_datetime(ls['date'], utc=True)\n",
    "# print(ls['date'].head(30))\n",
    "# day_of_month_earthquakes = ls['date'].dt.day\n",
    "# sns.distplot(day_of_month_earthquakes, kde=False, bins=31)\n",
    "\n",
    "#day of week\n",
    "day_of_week_earthquakes = ls['date'].dt.dayofweek\n",
    "sns.distplot(day_of_week_earthquakes, kde=False, bins=7)"
   ]
  },
  {
   "cell_type": "code",
   "execution_count": 22,
   "metadata": {
    "scrolled": true
   },
   "outputs": [
    {
     "name": "stdout",
     "output_type": "stream",
     "text": [
      "{'encoding': 'Windows-1252', 'confidence': 0.73, 'language': ''}\n",
      "Windows-1252\n",
      "          ID                                               name   \\\n",
      "0  1000002330                    The Songs of Adelaide & Abullah   \n",
      "1  1000004038                                     Where is Hank?   \n",
      "2  1000007540  ToshiCapital Rekordz Needs Help to Complete Album   \n",
      "3  1000011046  Community Film Project: The Art of Neighborhoo...   \n",
      "4  1000014025                               Monarch Espresso Bar   \n",
      "\n",
      "        category  main_category  currency             deadline   goal   \\\n",
      "0          Poetry     Publishing       GBP  2015-10-09 11:36:00   1000   \n",
      "1  Narrative Film   Film & Video       USD  2013-02-26 00:20:50  45000   \n",
      "2           Music          Music       USD  2012-04-16 04:24:11   5000   \n",
      "3    Film & Video   Film & Video       USD  2015-08-29 01:00:00  19500   \n",
      "4     Restaurants           Food       USD  2016-04-01 13:38:27  50000   \n",
      "\n",
      "             launched  pledged       state  backers  country  usd pledged   \\\n",
      "0  2015-08-11 12:12:28        0      failed        0       GB            0   \n",
      "1  2013-01-12 00:20:50      220      failed        3       US          220   \n",
      "2  2012-03-17 03:24:11        1      failed        1       US            1   \n",
      "3  2015-07-04 08:35:03     1283    canceled       14       US         1283   \n",
      "4  2016-02-26 13:38:27    52375  successful      224       US        52375   \n",
      "\n",
      "  Unnamed: 13 Unnamed: 14 Unnamed: 15  Unnamed: 16  \n",
      "0         NaN         NaN         NaN          NaN  \n",
      "1         NaN         NaN         NaN          NaN  \n",
      "2         NaN         NaN         NaN          NaN  \n",
      "3         NaN         NaN         NaN          NaN  \n",
      "4         NaN         NaN         NaN          NaN  \n",
      "{'encoding': 'Windows-1252', 'confidence': 0.73, 'language': ''}\n",
      "Windows-1252\n",
      "          ID                                               name   \\\n",
      "0  1000002330                    The Songs of Adelaide & Abullah   \n",
      "1  1000004038                                     Where is Hank?   \n",
      "2  1000007540  ToshiCapital Rekordz Needs Help to Complete Album   \n",
      "3  1000011046  Community Film Project: The Art of Neighborhoo...   \n",
      "4  1000014025                               Monarch Espresso Bar   \n",
      "\n",
      "        category  main_category  currency             deadline   goal   \\\n",
      "0          Poetry     Publishing       GBP  2015-10-09 11:36:00   1000   \n",
      "1  Narrative Film   Film & Video       USD  2013-02-26 00:20:50  45000   \n",
      "2           Music          Music       USD  2012-04-16 04:24:11   5000   \n",
      "3    Film & Video   Film & Video       USD  2015-08-29 01:00:00  19500   \n",
      "4     Restaurants           Food       USD  2016-04-01 13:38:27  50000   \n",
      "\n",
      "             launched  pledged       state  backers  country  usd pledged   \\\n",
      "0  2015-08-11 12:12:28        0      failed        0       GB            0   \n",
      "1  2013-01-12 00:20:50      220      failed        3       US          220   \n",
      "2  2012-03-17 03:24:11        1      failed        1       US            1   \n",
      "3  2015-07-04 08:35:03     1283    canceled       14       US         1283   \n",
      "4  2016-02-26 13:38:27    52375  successful      224       US        52375   \n",
      "\n",
      "  Unnamed: 13 Unnamed: 14 Unnamed: 15  Unnamed: 16  \n",
      "0         NaN         NaN         NaN          NaN  \n",
      "1         NaN         NaN         NaN          NaN  \n",
      "2         NaN         NaN         NaN          NaN  \n",
      "3         NaN         NaN         NaN          NaN  \n",
      "4         NaN         NaN         NaN          NaN  \n"
     ]
    }
   ],
   "source": [
    "import chardet\n",
    "import pandas\n",
    "with open(\"ks-projects-201612.csv\", \"rb\") as rawdata:\n",
    "    result = chardet.detect(rawdata.read(10000))\n",
    "print(result)\n",
    "print(result['encoding'])\n",
    "ks = pandas.read_csv(\"ks-projects-201612.csv\", encoding=result['encoding'], low_memory=False)\n",
    "print(ks.head())\n",
    "\n",
    "with open(\"PoliceKillingsUS.csv\", \"rb\") as rawdata:\n",
    "    result = chardet.detect(rawdata.read(30000))\n",
    "print(result)\n",
    "print(result['encoding'])\n",
    "pk = pandas.read_csv(\"PoliceKillingsUS.csv\", encoding=result['encoding'], low_memory=False)\n",
    "print(ks.head())"
   ]
  },
  {
   "cell_type": "code",
   "execution_count": 26,
   "metadata": {
    "scrolled": true
   },
   "outputs": [
    {
     "name": "stdout",
     "output_type": "stream",
     "text": [
      "   Id   ProductId          UserId                      ProfileName  \\\n",
      "0   1  B001E4KFG0  A3SGXH7AUHU8GW                       delmartian   \n",
      "1   2  B00813GRG4  A1D87F6ZCVE5NK                           dll pa   \n",
      "2   3  B000LQOCH0   ABXLMWJIXXAIN  Natalia Corres \"Natalia Corres\"   \n",
      "3   4  B000UA0QIQ  A395BORC6FGVXV                             Karl   \n",
      "4   5  B006K2ZZ7K  A1UQRSCLF8GW1T    Michael D. Bigham \"M. Wassir\"   \n",
      "\n",
      "   HelpfulnessNumerator  HelpfulnessDenominator  Score        Time  \\\n",
      "0                     1                       1      5  1303862400   \n",
      "1                     0                       0      1  1346976000   \n",
      "2                     1                       1      4  1219017600   \n",
      "3                     3                       3      2  1307923200   \n",
      "4                     0                       0      5  1350777600   \n",
      "\n",
      "                 Summary                                               Text  \n",
      "0  Good Quality Dog Food  I have bought several of the Vitality canned d...  \n",
      "1      Not as Advertised  Product arrived labeled as Jumbo Salted Peanut...  \n",
      "2  \"Delight\" says it all  This is a confection that has been around a fe...  \n",
      "3         Cough Medicine  If you are looking for the secret ingredient i...  \n",
      "4            Great taffy  Great taffy at a great price.  There was a wid...  \n",
      "initial len:  568454 , after drop duplicates len:  560804 . Remain percentage:  0.9865424467063298\n"
     ]
    }
   ],
   "source": [
    "import pandas\n",
    "reviews = pandas.read_csv(\"Reviews.csv\")\n",
    "print(reviews.head())\n",
    "init_len = len(reviews)\n",
    "new_reviews = reviews.drop_duplicates(subset=['ProductId', 'UserId'])\n",
    "after_len = len(new_reviews)\n",
    "print(\"initial len: \", init_len, \", after drop duplicates len: \",after_len,\n",
    "              \". Remain percentage: \",after_len/init_len )"
   ]
  },
  {
   "cell_type": "code",
   "execution_count": null,
   "metadata": {},
   "outputs": [],
   "source": []
  }
 ],
 "metadata": {
  "kernelspec": {
   "display_name": "Python 3",
   "language": "python",
   "name": "python3"
  },
  "language_info": {
   "codemirror_mode": {
    "name": "ipython",
    "version": 3
   },
   "file_extension": ".py",
   "mimetype": "text/x-python",
   "name": "python",
   "nbconvert_exporter": "python",
   "pygments_lexer": "ipython3",
   "version": "3.8.5"
  }
 },
 "nbformat": 4,
 "nbformat_minor": 4
}
