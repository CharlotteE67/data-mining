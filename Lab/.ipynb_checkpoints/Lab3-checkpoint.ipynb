{
 "cells": [
  {
   "cell_type": "code",
   "execution_count": null,
   "metadata": {},
   "outputs": [],
   "source": [
    "import pandas\n",
    "permits = pandas.read_csv(\"Building_Permits.csv\", low_memory=False)\n",
    "# print(permits.isnull().sum())\n",
    "print(permits.shape)\n",
    "# print(permits.sample(10))\n",
    "permits_1_1 = permits.dropna(axis=0, how=\"any\", inplace=False)\n",
    "print(permits_1_1.shape)\n",
    "permits_1_2 = permits.dropna(axis=1, how=\"any\", inplace=False)\n",
    "print(permits_1_2.shape)\n",
    "# print(permits.sample(10))\n",
    "permits_2 = permits.fillna(0)\n",
    "# print(permits_2.sample(10))\n",
    "permits_3_1 = permits.fillna(method='ffill',axis=0)\n",
    "permits_3_2 = permits.fillna(method='bfill',axis=0)\n",
    "permits_4_1 = permits.fillna(value=permits.mean(),axis=0)\n",
    "permits_4_2 = permits.fillna(value=permits.median(),axis=0)\n",
    "print(finished!)\n",
    "\n"
   ]
  },
  {
   "cell_type": "code",
   "execution_count": null,
   "metadata": {},
   "outputs": [],
   "source": []
  }
 ],
 "metadata": {
  "kernelspec": {
   "display_name": "Python 3",
   "language": "python",
   "name": "python3"
  },
  "language_info": {
   "codemirror_mode": {
    "name": "ipython",
    "version": 3
   },
   "file_extension": ".py",
   "mimetype": "text/x-python",
   "name": "python",
   "nbconvert_exporter": "python",
   "pygments_lexer": "ipython3",
   "version": "3.8.5"
  }
 },
 "nbformat": 4,
 "nbformat_minor": 4
}
