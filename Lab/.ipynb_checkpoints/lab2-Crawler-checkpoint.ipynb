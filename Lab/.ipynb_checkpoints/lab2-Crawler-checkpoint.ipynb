{
 "cells": [
  {
   "cell_type": "code",
   "execution_count": null,
   "metadata": {},
   "outputs": [],
   "source": [
    "from urllib.request import urlopen\n",
    "from bs4 import BeautifulSoup\n",
    "url = \"https://blog.scrapinghub.com\"\n",
    "html = urlopen(url)\n",
    "soup = BeautifulSoup(html, 'html.parser')\n",
    "# print(soup.h2.a)\n",
    "# while soup.h2.a.find_next_siblings(\"h2.a\") is not None:\n",
    "# print(soup.a.find_next_siblings(\"a\"))\n",
    "h2a = soup.select('[class~=author]')\n",
    "print(type(h2a[0]))\n",
    "for i in range(len(h2a)):\n",
    "#     print(h2a[i])\n",
    "#     print(h2a[i].string)\n",
    "    print(h2a[i].a.string)\n",
    "#     sout = soup.h2.a.find_next_siblings(\"h2.a\")\n",
    "# # soup = soup.h2\n",
    "# h2 = soup.find_all(\"a\", attrs = {\"class\": \"\"})\n",
    "# print(h2)\n",
    "# print(h2.contents)\n",
    "body = soup.body\n",
    "# print(body.find_all(h2))\n",
    "# a = h2.find_all('a')\n",
    "# print(a)\n",
    "type(soup)\n",
    "text = soup.get_text()\n",
    "# print(soup.text)\n",
    "# print (text.h2.a)"
   ]
  },
  {
   "cell_type": "code",
   "execution_count": null,
   "metadata": {},
   "outputs": [],
   "source": [
    "from urllib.request import urlopen\n",
    "from bs4 import BeautifulSoup\n",
    "import time\n",
    "seed = \"https://blog.scrapinghub.com\"\n",
    "\n",
    "resultSet = []\n",
    "url = []\n",
    "# visited = set()\n",
    "url.append(seed)\n",
    "# print(type(h2a[0]))\n",
    "while url is not None:\n",
    "    newUrl = []\n",
    "    for i in range(len(url)):\n",
    "        html = urlopen(url[i])\n",
    "        soup = BeautifulSoup(html, 'html.parser')\n",
    "        h2a = soup.select(\"h2 > a\")\n",
    "        date = soup.select('[class~=date]')\n",
    "        author = soup.select('[class~=author]')\n",
    "        for i in range(len(h2a)):\n",
    "#             print(h2a[i])\n",
    "#             print()\n",
    "            if h2a[i].string is not None:\n",
    "                temp = []\n",
    "                temp.append(h2a[i].string)\n",
    "                temp.append(date[i].a.string)\n",
    "                temp.append(author[i].a.string)\n",
    "                print(temp)\n",
    "                resultSet.append(temp)\n",
    "#             print(h2a[i].attrs['href'])\n",
    "#             if str(h2a[i].attrs['href']) is not in visited:\n",
    "            newUrl.append(str(h2a[i].attrs['href'] ))\n",
    "        time.sleep(60)\n",
    "        print(\"sleep!\")\n",
    "    url = newUrl\n",
    "for i in range(len(resultSet)):\n",
    "    print(\"'title': '\" + resultSet[i][0] + \"', 'date': '\" + resultSet[i][1] + \"', 'author': '\" + resultSet[i][2]+\"''}\")\n",
    "print(len(resultSet))"
   ]
  },
  {
   "cell_type": "code",
   "execution_count": null,
   "metadata": {},
   "outputs": [],
   "source": []
  }
 ],
 "metadata": {
  "kernelspec": {
   "display_name": "Python 3",
   "language": "python",
   "name": "python3"
  },
  "language_info": {
   "codemirror_mode": {
    "name": "ipython",
    "version": 3
   },
   "file_extension": ".py",
   "mimetype": "text/x-python",
   "name": "python",
   "nbconvert_exporter": "python",
   "pygments_lexer": "ipython3",
   "version": "3.8.5"
  }
 },
 "nbformat": 4,
 "nbformat_minor": 4
}
