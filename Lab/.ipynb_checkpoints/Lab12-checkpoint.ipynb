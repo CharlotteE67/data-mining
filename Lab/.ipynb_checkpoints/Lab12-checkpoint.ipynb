{
 "cells": [
  {
   "cell_type": "code",
   "execution_count": 34,
   "metadata": {},
   "outputs": [
    {
     "name": "stdout",
     "output_type": "stream",
     "text": [
      "TITLE: Empire Burlesque\n",
      "TITLE: Hide your heart\n",
      "TITLE: Greatest Hits\n",
      "TITLE: Still got the blues\n",
      "TITLE: Eros\n",
      "TITLE: One night only\n",
      "TITLE: Sylvias Mother\n",
      "TITLE: Maggie May\n",
      "TITLE: Romanza\n",
      "TITLE: When a man loves a woman\n",
      "TITLE: Black angel\n",
      "TITLE: 1999 Grammy Nominees\n",
      "TITLE: For the good times\n",
      "TITLE: Big Willie style\n",
      "TITLE: Tupelo Honey\n",
      "TITLE: The very best of\n",
      "TITLE: Stop\n",
      "TITLE: Bridge of Spies\n",
      "TITLE: Private Dancer\n",
      "TITLE: Midt om natten\n",
      "TITLE: Pavarotti Gala Concert\n",
      "TITLE: The dock of the bay\n",
      "TITLE: Picture book\n",
      "TITLE: Red\n",
      "TITLE: Unchain my heart\n"
     ]
    }
   ],
   "source": [
    "from xml.dom.minidom import parse\n",
    "\n",
    "DOMTree = parse(\"cd.xml\") # parse an XML file by name\n",
    "# print(DOMTree.nodeName)\n",
    "# print(DOMTree.firstChild.tagName)\n",
    "# test = DOMTree.getElementsByTagName(\"CD\")\n",
    "# print(test.length)\n",
    "# for name in test:\n",
    "#     title = name.getElementsByTagName(\"TITLE\")[0]\n",
    "#     print(title.value)\n",
    "# for name in names:\n",
    "#     print(name.getAttribute(\"TITLE\"))\n",
    "CATALOG = DOMTree.documentElement\n",
    "# print(CATALOG.nodeName)\n",
    "cds = CATALOG.getElementsByTagName(\"CD\")\n",
    "\n",
    "for cd in cds:\n",
    "    TITLE = cd.getElementsByTagName(\"TITLE\")[0]\n",
    "    print(\"TITLE: %s\" % TITLE.childNodes[0].data)"
   ]
  },
  {
   "cell_type": "code",
   "execution_count": 36,
   "metadata": {},
   "outputs": [
    {
     "name": "stdout",
     "output_type": "stream",
     "text": [
      "<Element 'CATALOG' at 0x000001F2FE1A2450>\n",
      "TITLE:  Empire Burlesque\n",
      "TITLE:  Hide your heart\n",
      "TITLE:  Greatest Hits\n",
      "TITLE:  Still got the blues\n",
      "TITLE:  Eros\n",
      "TITLE:  One night only\n",
      "TITLE:  Sylvias Mother\n",
      "TITLE:  Maggie May\n",
      "TITLE:  Romanza\n",
      "TITLE:  When a man loves a woman\n",
      "TITLE:  Black angel\n",
      "TITLE:  1999 Grammy Nominees\n",
      "TITLE:  For the good times\n",
      "TITLE:  Big Willie style\n",
      "TITLE:  Tupelo Honey\n",
      "TITLE:  The very best of\n",
      "TITLE:  Stop\n",
      "TITLE:  Bridge of Spies\n",
      "TITLE:  Private Dancer\n",
      "TITLE:  Midt om natten\n",
      "TITLE:  Pavarotti Gala Concert\n",
      "TITLE:  The dock of the bay\n",
      "TITLE:  Picture book\n",
      "TITLE:  Red\n",
      "TITLE:  Unchain my heart\n"
     ]
    }
   ],
   "source": [
    "import xml.etree.ElementTree as ET\n",
    "\n",
    "tree = ET.ElementTree(file='./cd.xml')\n",
    "root = tree.getroot() #获取根节点\n",
    "print(root)\n",
    "for cd in root:\n",
    "    TITLE = cd.find('TITLE').text\n",
    "    print(\"TITLE: \",TITLE)"
   ]
  },
  {
   "cell_type": "code",
   "execution_count": 67,
   "metadata": {},
   "outputs": [
    {
     "name": "stdout",
     "output_type": "stream",
     "text": [
      "Finished DOM!\n",
      "Finished ELEMENT!\n"
     ]
    }
   ],
   "source": [
    "# Task 1\n",
    "import csv\n",
    "attributes = [\"COMMON\", \"BOTANICAL\", \"ZONE\", \"LIGHT\", \"PRICE\", \"AVAILABILITY\"]\n",
    "# DOM tree\n",
    "from xml.dom.minidom import parse\n",
    "DOMTree = parse(\"./plant_catalog.xml\")\n",
    "rootNode = DOMTree.documentElement\n",
    "plants = rootNode.getElementsByTagName(\"PLANT\")\n",
    "# print(rootNode.childNode[0].nodeName)\n",
    "data = [[], [], [], [], [], []]\n",
    "# print(len(data))\n",
    "\n",
    "for plant in plants:\n",
    "    for i in range(len(attributes)):\n",
    "        content = plant.getElementsByTagName(attributes[i])[0]\n",
    "#         print(content.childNodes[0].data)\n",
    "        data[i].append(content.childNodes[0].data)\n",
    "# print(data)\n",
    "\n",
    "row = []\n",
    "for i in range(len(data[0])):\n",
    "    temp = []\n",
    "    for j in range(len(data)):\n",
    "        temp.append(data[j][i])\n",
    "    row.append(temp)\n",
    "# print(row)\n",
    "\n",
    "with open(\"Lab12-DOM.csv\",\"w\", newline=\"\") as csvfile: \n",
    "    writer = csv.writer(csvfile)\n",
    "    writer.writerow(attributes)\n",
    "    writer.writerows(row)\n",
    "#     #先写入columns_name\n",
    "#     writer.writerow([\"index\",\"a_name\",\"b_name\"])\n",
    "#     #写入多行用writerows\n",
    "#     writer.writerows([[0,1,3],[1,2,3],[2,3,4]])\n",
    "print(\"Finished DOM!\")\n",
    "\n",
    "\n",
    "#ELement Tree\n",
    "import xml.etree.ElementTree as ET\n",
    "\n",
    "tree = ET.ElementTree(file='./plant_catalog.xml')\n",
    "plants = tree.getroot()\n",
    "rows = []\n",
    "for plant in plants:\n",
    "    temp = []\n",
    "    for i in range(len(attributes)):\n",
    "        content = plant.find(attributes[i]).text\n",
    "        temp.append(content)\n",
    "#         data[i].append(content)\n",
    "    rows.append(temp)\n",
    "\n",
    "with open(\"Lab12-ELEMENT.csv\",\"w\", newline=\"\") as csvfile: \n",
    "    writer = csv.writer(csvfile)\n",
    "    writer.writerow(attributes)\n",
    "    writer.writerows(rows)\n",
    "#     #先写入columns_name\n",
    "#     writer.writerow([\"index\",\"a_name\",\"b_name\"])\n",
    "#     #写入多行用writerows\n",
    "#     writer.writerows([[0,1,3],[1,2,3],[2,3,4]])\n",
    "print(\"Finished ELEMENT!\")    "
   ]
  }
 ],
 "metadata": {
  "kernelspec": {
   "display_name": "Python 3",
   "language": "python",
   "name": "python3"
  },
  "language_info": {
   "codemirror_mode": {
    "name": "ipython",
    "version": 3
   },
   "file_extension": ".py",
   "mimetype": "text/x-python",
   "name": "python",
   "nbconvert_exporter": "python",
   "pygments_lexer": "ipython3",
   "version": "3.8.5"
  }
 },
 "nbformat": 4,
 "nbformat_minor": 4
}
