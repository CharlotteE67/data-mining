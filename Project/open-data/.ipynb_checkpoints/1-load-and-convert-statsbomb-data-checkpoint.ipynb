{
 "cells": [
  {
   "cell_type": "markdown",
   "metadata": {},
   "source": [
    "**Disclaimer**: this notebook's compatibility with StatsBomb event data 4.0.0 was last checked on January 3rd, 2021"
   ]
  },
  {
   "cell_type": "code",
   "execution_count": 3,
   "metadata": {
    "execution": {
     "iopub.execute_input": "2021-01-16T13:57:07.728957Z",
     "iopub.status.busy": "2021-01-16T13:57:07.716549Z",
     "iopub.status.idle": "2021-01-16T13:57:08.500125Z",
     "shell.execute_reply": "2021-01-16T13:57:08.498658Z"
    }
   },
   "outputs": [
    {
     "name": "stdout",
     "output_type": "stream",
     "text": [
      "The autoreload extension is already loaded. To reload it, use:\n",
      "  %reload_ext autoreload\n"
     ]
    }
   ],
   "source": [
    "%load_ext autoreload\n",
    "%autoreload 2\n",
    "import os;\n",
    "import warnings\n",
    "import pandas as pd\n",
    "pd.set_option('display.max_columns', None)\n",
    "warnings.simplefilter(action='ignore', category=pd.errors.PerformanceWarning)\n",
    "import tqdm"
   ]
  },
  {
   "cell_type": "code",
   "execution_count": 4,
   "metadata": {
    "execution": {
     "iopub.execute_input": "2021-01-16T13:57:08.504535Z",
     "iopub.status.busy": "2021-01-16T13:57:08.503925Z",
     "iopub.status.idle": "2021-01-16T13:57:09.316993Z",
     "shell.execute_reply": "2021-01-16T13:57:09.315664Z"
    }
   },
   "outputs": [],
   "source": [
    "import socceraction.spadl as spadl\n",
    "import socceraction.spadl.statsbomb as statsbomb"
   ]
  },
  {
   "cell_type": "markdown",
   "metadata": {},
   "source": [
    "## Set up the statsbombloader"
   ]
  },
  {
   "cell_type": "code",
   "execution_count": 6,
   "metadata": {
    "execution": {
     "iopub.execute_input": "2021-01-16T13:57:09.321757Z",
     "iopub.status.busy": "2021-01-16T13:57:09.321126Z",
     "iopub.status.idle": "2021-01-16T13:57:09.347791Z",
     "shell.execute_reply": "2021-01-16T13:57:09.348316Z"
    }
   },
   "outputs": [],
   "source": [
    "# Use this if you only want to use the free public statsbomb data\n",
    "# free_open_data_remote = \"https://raw.githubusercontent.com/statsbomb/open-data/master/data/\"\n",
    "# SBL = statsbomb.StatsBombLoader(root=free_open_data_remote, getter=\"remote\")\n",
    "\n",
    "# # Uncomment the code below if you have a local folder on your computer with statsbomb data\n",
    "datafolder = \"./data/\" # Example of local folder with statsbomb data\n",
    "SBL = statsbomb.StatsBombLoader(root=datafolder,getter=\"local\")"
   ]
  },
  {
   "cell_type": "markdown",
   "metadata": {},
   "source": [
    "## Select competitions to load and convert"
   ]
  },
  {
   "cell_type": "code",
   "execution_count": 7,
   "metadata": {
    "execution": {
     "iopub.execute_input": "2021-01-16T13:57:09.351848Z",
     "iopub.status.busy": "2021-01-16T13:57:09.351235Z",
     "iopub.status.idle": "2021-01-16T13:57:09.625055Z",
     "shell.execute_reply": "2021-01-16T13:57:09.625791Z"
    }
   },
   "outputs": [
    {
     "data": {
      "text/plain": [
       "{'Champions League',\n",
       " \"FA Women's Super League\",\n",
       " 'FIFA World Cup',\n",
       " 'La Liga',\n",
       " 'NWSL',\n",
       " 'Premier League',\n",
       " \"Women's World Cup\"}"
      ]
     },
     "execution_count": 7,
     "metadata": {},
     "output_type": "execute_result"
    }
   ],
   "source": [
    "# View all available competitions\n",
    "competitions = SBL.competitions()\n",
    "set(competitions.competition_name)"
   ]
  },
  {
   "cell_type": "code",
   "execution_count": 8,
   "metadata": {
    "execution": {
     "iopub.execute_input": "2021-01-16T13:57:09.630899Z",
     "iopub.status.busy": "2021-01-16T13:57:09.629743Z",
     "iopub.status.idle": "2021-01-16T13:57:09.674902Z",
     "shell.execute_reply": "2021-01-16T13:57:09.674328Z"
    }
   },
   "outputs": [
    {
     "data": {
      "text/html": [
       "<div>\n",
       "<style scoped>\n",
       "    .dataframe tbody tr th:only-of-type {\n",
       "        vertical-align: middle;\n",
       "    }\n",
       "\n",
       "    .dataframe tbody tr th {\n",
       "        vertical-align: top;\n",
       "    }\n",
       "\n",
       "    .dataframe thead th {\n",
       "        text-align: right;\n",
       "    }\n",
       "</style>\n",
       "<table border=\"1\" class=\"dataframe\">\n",
       "  <thead>\n",
       "    <tr style=\"text-align: right;\">\n",
       "      <th></th>\n",
       "      <th>season_id</th>\n",
       "      <th>competition_id</th>\n",
       "      <th>competition_name</th>\n",
       "      <th>country_name</th>\n",
       "      <th>competition_gender</th>\n",
       "      <th>season_name</th>\n",
       "    </tr>\n",
       "  </thead>\n",
       "  <tbody>\n",
       "    <tr>\n",
       "      <th>17</th>\n",
       "      <td>3</td>\n",
       "      <td>43</td>\n",
       "      <td>FIFA World Cup</td>\n",
       "      <td>International</td>\n",
       "      <td>male</td>\n",
       "      <td>2018</td>\n",
       "    </tr>\n",
       "  </tbody>\n",
       "</table>\n",
       "</div>"
      ],
      "text/plain": [
       "    season_id  competition_id competition_name   country_name  \\\n",
       "17          3              43   FIFA World Cup  International   \n",
       "\n",
       "   competition_gender season_name  \n",
       "17               male        2018  "
      ]
     },
     "execution_count": 8,
     "metadata": {},
     "output_type": "execute_result"
    }
   ],
   "source": [
    "# Fifa world cup\n",
    "selected_competitions = competitions[competitions.competition_name==\"FIFA World Cup\"]\n",
    "\n",
    "# # Messi data\n",
    "# selected_competitions = competitions[competitions.competition_name==\"La Liga\"]\n",
    "\n",
    "# # FA Women's Super League\n",
    "# selected_competitions = competitions[competitions.competition_name==\"FA Women's Super League\"]\n",
    "\n",
    "selected_competitions"
   ]
  },
  {
   "cell_type": "code",
   "execution_count": 9,
   "metadata": {
    "execution": {
     "iopub.execute_input": "2021-01-16T13:57:09.680332Z",
     "iopub.status.busy": "2021-01-16T13:57:09.679246Z",
     "iopub.status.idle": "2021-01-16T13:57:09.990844Z",
     "shell.execute_reply": "2021-01-16T13:57:09.991398Z"
    },
    "scrolled": true
   },
   "outputs": [
    {
     "data": {
      "text/html": [
       "<div>\n",
       "<style scoped>\n",
       "    .dataframe tbody tr th:only-of-type {\n",
       "        vertical-align: middle;\n",
       "    }\n",
       "\n",
       "    .dataframe tbody tr th {\n",
       "        vertical-align: top;\n",
       "    }\n",
       "\n",
       "    .dataframe thead th {\n",
       "        text-align: right;\n",
       "    }\n",
       "</style>\n",
       "<table border=\"1\" class=\"dataframe\">\n",
       "  <thead>\n",
       "    <tr style=\"text-align: right;\">\n",
       "      <th></th>\n",
       "      <th>home_team_id</th>\n",
       "      <th>away_team_id</th>\n",
       "      <th>game_date</th>\n",
       "      <th>home_score</th>\n",
       "      <th>away_score</th>\n",
       "    </tr>\n",
       "  </thead>\n",
       "  <tbody>\n",
       "    <tr>\n",
       "      <th>0</th>\n",
       "      <td>785</td>\n",
       "      <td>776</td>\n",
       "      <td>2018-07-01 20:00:00</td>\n",
       "      <td>1</td>\n",
       "      <td>1</td>\n",
       "    </tr>\n",
       "    <tr>\n",
       "      <th>1</th>\n",
       "      <td>775</td>\n",
       "      <td>793</td>\n",
       "      <td>2018-06-22 17:00:00</td>\n",
       "      <td>2</td>\n",
       "      <td>0</td>\n",
       "    </tr>\n",
       "    <tr>\n",
       "      <th>2</th>\n",
       "      <td>789</td>\n",
       "      <td>769</td>\n",
       "      <td>2018-06-24 20:00:00</td>\n",
       "      <td>0</td>\n",
       "      <td>3</td>\n",
       "    </tr>\n",
       "    <tr>\n",
       "      <th>3</th>\n",
       "      <td>785</td>\n",
       "      <td>775</td>\n",
       "      <td>2018-06-16 21:00:00</td>\n",
       "      <td>2</td>\n",
       "      <td>0</td>\n",
       "    </tr>\n",
       "    <tr>\n",
       "      <th>4</th>\n",
       "      <td>781</td>\n",
       "      <td>795</td>\n",
       "      <td>2018-06-22 14:00:00</td>\n",
       "      <td>2</td>\n",
       "      <td>0</td>\n",
       "    </tr>\n",
       "    <tr>\n",
       "      <th>...</th>\n",
       "      <td>...</td>\n",
       "      <td>...</td>\n",
       "      <td>...</td>\n",
       "      <td>...</td>\n",
       "      <td>...</td>\n",
       "    </tr>\n",
       "    <tr>\n",
       "      <th>59</th>\n",
       "      <td>782</td>\n",
       "      <td>768</td>\n",
       "      <td>2018-07-14 16:00:00</td>\n",
       "      <td>2</td>\n",
       "      <td>0</td>\n",
       "    </tr>\n",
       "    <tr>\n",
       "      <th>60</th>\n",
       "      <td>796</td>\n",
       "      <td>774</td>\n",
       "      <td>2018-06-19 20:00:00</td>\n",
       "      <td>3</td>\n",
       "      <td>1</td>\n",
       "    </tr>\n",
       "    <tr>\n",
       "      <th>61</th>\n",
       "      <td>770</td>\n",
       "      <td>790</td>\n",
       "      <td>2018-06-23 20:00:00</td>\n",
       "      <td>2</td>\n",
       "      <td>1</td>\n",
       "    </tr>\n",
       "    <tr>\n",
       "      <th>62</th>\n",
       "      <td>786</td>\n",
       "      <td>773</td>\n",
       "      <td>2018-06-22 20:00:00</td>\n",
       "      <td>1</td>\n",
       "      <td>2</td>\n",
       "    </tr>\n",
       "    <tr>\n",
       "      <th>63</th>\n",
       "      <td>777</td>\n",
       "      <td>768</td>\n",
       "      <td>2018-06-18 20:00:00</td>\n",
       "      <td>1</td>\n",
       "      <td>2</td>\n",
       "    </tr>\n",
       "  </tbody>\n",
       "</table>\n",
       "<p>64 rows × 5 columns</p>\n",
       "</div>"
      ],
      "text/plain": [
       "    home_team_id  away_team_id           game_date  home_score  away_score\n",
       "0            785           776 2018-07-01 20:00:00           1           1\n",
       "1            775           793 2018-06-22 17:00:00           2           0\n",
       "2            789           769 2018-06-24 20:00:00           0           3\n",
       "3            785           775 2018-06-16 21:00:00           2           0\n",
       "4            781           795 2018-06-22 14:00:00           2           0\n",
       "..           ...           ...                 ...         ...         ...\n",
       "59           782           768 2018-07-14 16:00:00           2           0\n",
       "60           796           774 2018-06-19 20:00:00           3           1\n",
       "61           770           790 2018-06-23 20:00:00           2           1\n",
       "62           786           773 2018-06-22 20:00:00           1           2\n",
       "63           777           768 2018-06-18 20:00:00           1           2\n",
       "\n",
       "[64 rows x 5 columns]"
      ]
     },
     "execution_count": 9,
     "metadata": {},
     "output_type": "execute_result"
    }
   ],
   "source": [
    "# Get games from all selected competitions\n",
    "games = list(\n",
    "    SBL.games(row.competition_id, row.season_id)\n",
    "    for row in selected_competitions.itertuples()\n",
    ")\n",
    "games = pd.concat(games, sort=True).reset_index(drop=True)\n",
    "games[[\"home_team_id\", \"away_team_id\", \"game_date\", \"home_score\", \"away_score\"]]"
   ]
  },
  {
   "cell_type": "markdown",
   "metadata": {},
   "source": [
    "## Load and convert match data"
   ]
  },
  {
   "cell_type": "code",
   "execution_count": 10,
   "metadata": {
    "execution": {
     "iopub.execute_input": "2021-01-16T13:57:09.998480Z",
     "iopub.status.busy": "2021-01-16T13:57:09.997292Z",
     "iopub.status.idle": "2021-01-16T13:58:54.885617Z",
     "shell.execute_reply": "2021-01-16T13:58:54.884735Z"
    }
   },
   "outputs": [
    {
     "name": "stderr",
     "output_type": "stream",
     "text": [
      "Loading game data: 100%|███████████████████████████████████████████████████████████████| 64/64 [00:50<00:00,  1.26it/s]\n"
     ]
    }
   ],
   "source": [
    "games_verbose = tqdm.tqdm(list(games.itertuples()), desc=\"Loading game data\")\n",
    "teams, players = [],[]\n",
    "actions = {}\n",
    "for game in games_verbose:\n",
    "    # load data\n",
    "    teams.append(SBL.teams(game.game_id))\n",
    "    players.append(SBL.players(game.game_id))\n",
    "    events = SBL.events(game.game_id)\n",
    "    # convert data\n",
    "    actions[game.game_id] = statsbomb.convert_to_actions(events, game.home_team_id)\n",
    "\n",
    "teams = pd.concat(teams).drop_duplicates(\"team_id\").reset_index(drop=True)\n",
    "players = pd.concat(players).reset_index(drop=True)\n",
    "#player_games = pd.concat(player_games).reset_index(drop=True)"
   ]
  },
  {
   "cell_type": "markdown",
   "metadata": {},
   "source": [
    "## Store converted spadl data in a h5-file"
   ]
  },
  {
   "cell_type": "code",
   "execution_count": 11,
   "metadata": {
    "execution": {
     "iopub.execute_input": "2021-01-16T13:58:54.896950Z",
     "iopub.status.busy": "2021-01-16T13:58:54.895880Z",
     "iopub.status.idle": "2021-01-16T13:58:57.838598Z",
     "shell.execute_reply": "2021-01-16T13:58:57.837767Z"
    },
    "scrolled": true
   },
   "outputs": [
    {
     "name": "stdout",
     "output_type": "stream",
     "text": [
      "Directory ../data-fifa created.\n"
     ]
    }
   ],
   "source": [
    "datafolder = \"../data-fifa\"\n",
    "\n",
    "# Create data folder if it doesn't exist\n",
    "if not os.path.exists(datafolder):\n",
    "    os.mkdir(datafolder)\n",
    "    print(f\"Directory {datafolder} created.\")\n",
    "\n",
    "spadl_h5 = os.path.join(datafolder, \"spadl-statsbomb.h5\")\n",
    "\n",
    "# Store all spadl data in h5-file\n",
    "with pd.HDFStore(spadl_h5) as spadlstore:\n",
    "    spadlstore[\"competitions\"] = selected_competitions\n",
    "    spadlstore[\"games\"] = games\n",
    "    spadlstore[\"teams\"] = teams\n",
    "    spadlstore[\"players\"] = players[['player_id', 'player_name', 'nickname']].drop_duplicates(subset='player_id')\n",
    "    spadlstore[\"player_games\"] = players[['player_id', 'game_id', 'team_id', 'is_starter', 'starting_position_id', 'starting_position_name', 'minutes_played']]\n",
    "    for game_id in actions.keys():\n",
    "        spadlstore[f\"actions/game_{game_id}\"] = actions[game_id]\n",
    "        \n",
    "    spadlstore[\"actiontypes\"] = spadl.actiontypes_df()\n",
    "    spadlstore[\"results\"] = spadl.results_df()\n",
    "    spadlstore[\"bodyparts\"] = spadl.bodyparts_df()"
   ]
  },
  {
   "cell_type": "markdown",
   "metadata": {},
   "source": [
    "## Plot the spadl data\n",
    "Extra library required: ```pip install matplotsoccer```"
   ]
  },
  {
   "cell_type": "code",
   "execution_count": 12,
   "metadata": {
    "execution": {
     "iopub.execute_input": "2021-01-16T13:58:57.848680Z",
     "iopub.status.busy": "2021-01-16T13:58:57.847904Z",
     "iopub.status.idle": "2021-01-16T13:58:58.270405Z",
     "shell.execute_reply": "2021-01-16T13:58:58.270893Z"
    }
   },
   "outputs": [
    {
     "data": {
      "text/html": [
       "<div>\n",
       "<style scoped>\n",
       "    .dataframe tbody tr th:only-of-type {\n",
       "        vertical-align: middle;\n",
       "    }\n",
       "\n",
       "    .dataframe tbody tr th {\n",
       "        vertical-align: top;\n",
       "    }\n",
       "\n",
       "    .dataframe thead th {\n",
       "        text-align: right;\n",
       "    }\n",
       "</style>\n",
       "<table border=\"1\" class=\"dataframe\">\n",
       "  <thead>\n",
       "    <tr style=\"text-align: right;\">\n",
       "      <th></th>\n",
       "      <th>game_id</th>\n",
       "      <th>original_event_id</th>\n",
       "      <th>period_id</th>\n",
       "      <th>time_seconds</th>\n",
       "      <th>team_id</th>\n",
       "      <th>player_id</th>\n",
       "      <th>start_x</th>\n",
       "      <th>start_y</th>\n",
       "      <th>end_x</th>\n",
       "      <th>end_y</th>\n",
       "      <th>type_id</th>\n",
       "      <th>result_id</th>\n",
       "      <th>bodypart_id</th>\n",
       "      <th>action_id</th>\n",
       "      <th>type_name</th>\n",
       "      <th>result_name</th>\n",
       "      <th>bodypart_name</th>\n",
       "      <th>player_name</th>\n",
       "      <th>team_name</th>\n",
       "    </tr>\n",
       "  </thead>\n",
       "  <tbody>\n",
       "    <tr>\n",
       "      <th>0</th>\n",
       "      <td>8657</td>\n",
       "      <td>a7ec7898-799e-4e79-bc54-54d4cba812cf</td>\n",
       "      <td>1</td>\n",
       "      <td>0.0</td>\n",
       "      <td>782</td>\n",
       "      <td>3289</td>\n",
       "      <td>52.941176</td>\n",
       "      <td>33.569620</td>\n",
       "      <td>44.117647</td>\n",
       "      <td>33.569620</td>\n",
       "      <td>0</td>\n",
       "      <td>1</td>\n",
       "      <td>0</td>\n",
       "      <td>0</td>\n",
       "      <td>pass</td>\n",
       "      <td>success</td>\n",
       "      <td>foot</td>\n",
       "      <td>Romelu Lukaku</td>\n",
       "      <td>Belgium</td>\n",
       "    </tr>\n",
       "    <tr>\n",
       "      <th>1</th>\n",
       "      <td>8657</td>\n",
       "      <td>f6046ebb-23b5-4ca2-ad94-f6428e1dd073</td>\n",
       "      <td>1</td>\n",
       "      <td>1.0</td>\n",
       "      <td>782</td>\n",
       "      <td>5642</td>\n",
       "      <td>44.117647</td>\n",
       "      <td>33.569620</td>\n",
       "      <td>44.117647</td>\n",
       "      <td>34.430380</td>\n",
       "      <td>21</td>\n",
       "      <td>1</td>\n",
       "      <td>0</td>\n",
       "      <td>1</td>\n",
       "      <td>dribble</td>\n",
       "      <td>success</td>\n",
       "      <td>foot</td>\n",
       "      <td>Axel Witsel</td>\n",
       "      <td>Belgium</td>\n",
       "    </tr>\n",
       "    <tr>\n",
       "      <th>2</th>\n",
       "      <td>8657</td>\n",
       "      <td>ff0b59e3-4c63-48cf-a81d-024dd69e1c95</td>\n",
       "      <td>1</td>\n",
       "      <td>2.0</td>\n",
       "      <td>782</td>\n",
       "      <td>5642</td>\n",
       "      <td>44.117647</td>\n",
       "      <td>34.430380</td>\n",
       "      <td>31.764706</td>\n",
       "      <td>53.367089</td>\n",
       "      <td>0</td>\n",
       "      <td>1</td>\n",
       "      <td>0</td>\n",
       "      <td>2</td>\n",
       "      <td>pass</td>\n",
       "      <td>success</td>\n",
       "      <td>foot</td>\n",
       "      <td>Axel Witsel</td>\n",
       "      <td>Belgium</td>\n",
       "    </tr>\n",
       "    <tr>\n",
       "      <th>3</th>\n",
       "      <td>8657</td>\n",
       "      <td>6133b1ef-1489-4851-9eef-b1d66f898461</td>\n",
       "      <td>1</td>\n",
       "      <td>3.0</td>\n",
       "      <td>782</td>\n",
       "      <td>3077</td>\n",
       "      <td>31.764706</td>\n",
       "      <td>53.367089</td>\n",
       "      <td>28.235294</td>\n",
       "      <td>53.367089</td>\n",
       "      <td>21</td>\n",
       "      <td>1</td>\n",
       "      <td>0</td>\n",
       "      <td>3</td>\n",
       "      <td>dribble</td>\n",
       "      <td>success</td>\n",
       "      <td>foot</td>\n",
       "      <td>Jan Vertonghen</td>\n",
       "      <td>Belgium</td>\n",
       "    </tr>\n",
       "    <tr>\n",
       "      <th>4</th>\n",
       "      <td>8657</td>\n",
       "      <td>9c0d9486-4c63-4d5d-bb31-4e2a06c5a486</td>\n",
       "      <td>1</td>\n",
       "      <td>4.0</td>\n",
       "      <td>782</td>\n",
       "      <td>3077</td>\n",
       "      <td>28.235294</td>\n",
       "      <td>53.367089</td>\n",
       "      <td>23.823529</td>\n",
       "      <td>38.734177</td>\n",
       "      <td>0</td>\n",
       "      <td>1</td>\n",
       "      <td>0</td>\n",
       "      <td>4</td>\n",
       "      <td>pass</td>\n",
       "      <td>success</td>\n",
       "      <td>foot</td>\n",
       "      <td>Jan Vertonghen</td>\n",
       "      <td>Belgium</td>\n",
       "    </tr>\n",
       "  </tbody>\n",
       "</table>\n",
       "</div>"
      ],
      "text/plain": [
       "   game_id                     original_event_id  period_id  time_seconds  \\\n",
       "0     8657  a7ec7898-799e-4e79-bc54-54d4cba812cf          1           0.0   \n",
       "1     8657  f6046ebb-23b5-4ca2-ad94-f6428e1dd073          1           1.0   \n",
       "2     8657  ff0b59e3-4c63-48cf-a81d-024dd69e1c95          1           2.0   \n",
       "3     8657  6133b1ef-1489-4851-9eef-b1d66f898461          1           3.0   \n",
       "4     8657  9c0d9486-4c63-4d5d-bb31-4e2a06c5a486          1           4.0   \n",
       "\n",
       "   team_id  player_id    start_x    start_y      end_x      end_y  type_id  \\\n",
       "0      782       3289  52.941176  33.569620  44.117647  33.569620        0   \n",
       "1      782       5642  44.117647  33.569620  44.117647  34.430380       21   \n",
       "2      782       5642  44.117647  34.430380  31.764706  53.367089        0   \n",
       "3      782       3077  31.764706  53.367089  28.235294  53.367089       21   \n",
       "4      782       3077  28.235294  53.367089  23.823529  38.734177        0   \n",
       "\n",
       "   result_id  bodypart_id  action_id type_name result_name bodypart_name  \\\n",
       "0          1            0          0      pass     success          foot   \n",
       "1          1            0          1   dribble     success          foot   \n",
       "2          1            0          2      pass     success          foot   \n",
       "3          1            0          3   dribble     success          foot   \n",
       "4          1            0          4      pass     success          foot   \n",
       "\n",
       "      player_name team_name  \n",
       "0   Romelu Lukaku   Belgium  \n",
       "1     Axel Witsel   Belgium  \n",
       "2     Axel Witsel   Belgium  \n",
       "3  Jan Vertonghen   Belgium  \n",
       "4  Jan Vertonghen   Belgium  "
      ]
     },
     "execution_count": 12,
     "metadata": {},
     "output_type": "execute_result"
    }
   ],
   "source": [
    "# Select England vs Belgium game at World Cup\n",
    "with pd.HDFStore(spadl_h5) as spadlstore:\n",
    "    games = (\n",
    "        spadlstore[\"games\"]\n",
    "        .merge(spadlstore[\"competitions\"], how='left')\n",
    "        .merge(spadlstore[\"teams\"].add_prefix('home_'), how='left')\n",
    "        .merge(spadlstore[\"teams\"].add_prefix('away_'), how='left'))\n",
    "    game = games[(games.competition_name == \"FIFA World Cup\") \n",
    "                  & (games.away_team_name == \"England\")\n",
    "                  & (games.home_team_name == \"Belgium\")]\n",
    "    game_id = game.game_id.values[0]\n",
    "    actions = spadlstore[f\"actions/game_{game_id}\"]\n",
    "    actions = (\n",
    "        actions.merge(spadlstore[\"actiontypes\"], how=\"left\")\n",
    "        .merge(spadlstore[\"results\"], how=\"left\")\n",
    "        .merge(spadlstore[\"bodyparts\"], how=\"left\")\n",
    "        .merge(spadlstore[\"players\"], how=\"left\")\n",
    "        .merge(spadlstore[\"teams\"], how=\"left\")\n",
    "    )\n",
    "\n",
    "# use nickname if available else use full name\n",
    "actions[\"player_name\"] = actions[[\"nickname\", \"player_name\"]].apply(lambda x: x[0] if x[0] else x[1], axis=1)\n",
    "del actions['nickname']\n",
    "actions[:5]"
   ]
  },
  {
   "cell_type": "code",
   "execution_count": 14,
   "metadata": {
    "execution": {
     "iopub.execute_input": "2021-01-16T13:58:58.277841Z",
     "iopub.status.busy": "2021-01-16T13:58:58.277215Z",
     "iopub.status.idle": "2021-01-16T13:58:59.079450Z",
     "shell.execute_reply": "2021-01-16T13:58:59.079927Z"
    }
   },
   "outputs": [
    {
     "name": "stdout",
     "output_type": "stream",
     "text": [
      "2018-07-14 16:00:00 Belgium 2-0 England 82'\n"
     ]
    },
    {
     "data": {
      "image/png": "[encoded data removed]",
      "text/plain": [
       "<Figure size 432x288 with 1 Axes>"
      ]
     },
     "metadata": {
      "needs_background": "light"
     },
     "output_type": "display_data"
    }
   ],
   "source": [
    "import matplotsoccer\n",
    "\n",
    "# Select the 5 actions preceding the 2-0\n",
    "shot = 2201\n",
    "a = actions[shot-4:shot+1].copy()\n",
    "\n",
    "# Print the game date and timestamp of the goal\n",
    "g = game.iloc[0]\n",
    "minute = int((a.period_id.values[0]-1) * 45 + a.time_seconds.values[0] // 60)\n",
    "game_info = f\"{g.game_date} {g.home_team_name} {g.home_score}-{g.away_score} {g.away_team_name} {minute + 1}'\"\n",
    "print(game_info)\n",
    "\n",
    "# Plot the actions\n",
    "def nice_time(row):\n",
    "    minute = int((row.period_id-1)*45 +row.time_seconds // 60)\n",
    "    second = int(row.time_seconds % 60)\n",
    "    return f\"{minute}m{second}s\"\n",
    "\n",
    "a[\"nice_time\"] = a.apply(nice_time, axis=1)\n",
    "labels = a[[\"nice_time\", \"type_name\", \"player_name\", \"team_name\"]]\n",
    "\n",
    "ax = matplotsoccer.actions(\n",
    "    location=a[[\"start_x\", \"start_y\", \"end_x\", \"end_y\"]],\n",
    "    action_type=a.type_name,\n",
    "    team= a.team_name,\n",
    "    result= a.result_name == \"success\",\n",
    "    label=labels,\n",
    "    labeltitle=[\"time\", \"actiontype\", \"player\", \"team\"],\n",
    "    zoom=False,\n",
    "    figsize=6\n",
    ")"
   ]
  },
  {
   "cell_type": "code",
   "execution_count": null,
   "metadata": {},
   "outputs": [],
   "source": []
  }
 ],
 "metadata": {
  "kernelspec": {
   "display_name": "Python 3",
   "language": "python",
   "name": "python3"
  },
  "language_info": {
   "codemirror_mode": {
    "name": "ipython",
    "version": 3
   },
   "file_extension": ".py",
   "mimetype": "text/x-python",
   "name": "python",
   "nbconvert_exporter": "python",
   "pygments_lexer": "ipython3",
   "version": "3.8.5"
  },
  "varInspector": {
   "cols": {
    "lenName": 16,
    "lenType": 16,
    "lenVar": 40
   },
   "kernels_config": {
    "python": {
     "delete_cmd_postfix": "",
     "delete_cmd_prefix": "del ",
     "library": "var_list.py",
     "varRefreshCmd": "print(var_dic_list())"
    },
    "r": {
     "delete_cmd_postfix": ") ",
     "delete_cmd_prefix": "rm(",
     "library": "var_list.r",
     "varRefreshCmd": "cat(var_dic_list()) "
    }
   },
   "types_to_exclude": [
    "module",
    "function",
    "builtin_function_or_method",
    "instance",
    "_Feature"
   ],
   "window_display": false
  }
 },
 "nbformat": 4,
 "nbformat_minor": 2
}
