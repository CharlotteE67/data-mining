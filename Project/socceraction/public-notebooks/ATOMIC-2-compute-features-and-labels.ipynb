{
 "cells": [
  {
   "cell_type": "code",
   "execution_count": 1,
   "metadata": {
    "execution": {
     "iopub.execute_input": "2021-01-16T14:02:04.008725Z",
     "iopub.status.busy": "2021-01-16T14:02:04.008071Z",
     "iopub.status.idle": "2021-01-16T14:02:05.948376Z",
     "shell.execute_reply": "2021-01-16T14:02:05.947114Z"
    }
   },
   "outputs": [],
   "source": [
    "%load_ext autoreload\n",
    "%autoreload 2\n",
    "import os\n",
    "import warnings\n",
    "import tqdm\n",
    "import pandas as pd\n",
    "warnings.simplefilter(action='ignore', category=pd.errors.PerformanceWarning)\n",
    "\n",
    "import socceraction.atomic.vaep.features as fs\n",
    "import socceraction.atomic.vaep.labels as lab"
   ]
  },
  {
   "cell_type": "code",
   "execution_count": 2,
   "metadata": {
    "execution": {
     "iopub.execute_input": "2021-01-16T14:02:05.953677Z",
     "iopub.status.busy": "2021-01-16T14:02:05.952936Z",
     "iopub.status.idle": "2021-01-16T14:02:05.980603Z",
     "shell.execute_reply": "2021-01-16T14:02:05.981093Z"
    }
   },
   "outputs": [],
   "source": [
    "## Configure file and folder names\n",
    "datafolder = \"../data-fifa\"\n",
    "spadl_h5 = os.path.join(datafolder, \"atomic-spadl-statsbomb.h5\")\n",
    "features_h5 = os.path.join(datafolder, \"atomic-features.h5\")\n",
    "labels_h5 = os.path.join(datafolder, \"atomic-labels.h5\")\n",
    "predictions_h5 = os.path.join(datafolder, \"atomic-predictions.h5\")"
   ]
  },
  {
   "cell_type": "code",
   "execution_count": 3,
   "metadata": {
    "execution": {
     "iopub.execute_input": "2021-01-16T14:02:05.984916Z",
     "iopub.status.busy": "2021-01-16T14:02:05.984324Z",
     "iopub.status.idle": "2021-01-16T14:02:06.120184Z",
     "shell.execute_reply": "2021-01-16T14:02:06.119171Z"
    }
   },
   "outputs": [
    {
     "name": "stdout",
     "output_type": "stream",
     "text": [
      "nb of games: 64\n"
     ]
    }
   ],
   "source": [
    "games = pd.read_hdf(spadl_h5, \"games\")\n",
    "print(\"nb of games:\", len(games))\n",
    "\n",
    "actiontypes = pd.read_hdf(spadl_h5, \"atomic_actiontypes\")\n",
    "bodyparts = pd.read_hdf(spadl_h5, \"bodyparts\")"
   ]
  },
  {
   "cell_type": "code",
   "execution_count": 4,
   "metadata": {
    "execution": {
     "iopub.execute_input": "2021-01-16T14:02:06.127952Z",
     "iopub.status.busy": "2021-01-16T14:02:06.127235Z",
     "iopub.status.idle": "2021-01-16T14:02:19.168484Z",
     "shell.execute_reply": "2021-01-16T14:02:19.167296Z"
    }
   },
   "outputs": [
    {
     "name": "stderr",
     "output_type": "stream",
     "text": [
      "Generating and storing features in ../data-fifa/atomic-features.h5: 100%|██████████| 64/64 [00:12<00:00,  5.22it/s]\n"
     ]
    }
   ],
   "source": [
    "xfns = [\n",
    "    fs.actiontype,\n",
    "    fs.actiontype_onehot,\n",
    "    fs.bodypart,\n",
    "    fs.bodypart_onehot,\n",
    "    fs.goalscore,\n",
    "    fs.location,\n",
    "    fs.polar,\n",
    "    fs.direction,\n",
    "    fs.team,\n",
    "    fs.time,\n",
    "    fs.time_delta\n",
    "]\n",
    "\n",
    "with pd.HDFStore(spadl_h5) as spadlstore, pd.HDFStore(features_h5) as featurestore:\n",
    "    for game in tqdm.tqdm(list(games.itertuples()),desc=f\"Generating and storing features in {features_h5}\"):\n",
    "        actions = spadlstore[f\"atomic_actions/game_{game.game_id}\"]\n",
    "        actions = (\n",
    "            actions.merge(actiontypes, how=\"left\")\n",
    "            .merge(bodyparts, how=\"left\")\n",
    "            .reset_index(drop=True)\n",
    "        )\n",
    "        gamestates = fs.gamestates(actions,2)\n",
    "        gamestates = fs.play_left_to_right(gamestates, game.home_team_id)\n",
    "\n",
    "        X = pd.concat([fn(gamestates) for fn in xfns],axis=1)\n",
    "        featurestore[f\"game_{game.game_id}\"] = X"
   ]
  },
  {
   "cell_type": "code",
   "execution_count": 5,
   "metadata": {
    "execution": {
     "iopub.execute_input": "2021-01-16T14:02:19.177987Z",
     "iopub.status.busy": "2021-01-16T14:02:19.177292Z",
     "iopub.status.idle": "2021-01-16T14:02:31.255443Z",
     "shell.execute_reply": "2021-01-16T14:02:31.256325Z"
    }
   },
   "outputs": [
    {
     "name": "stderr",
     "output_type": "stream",
     "text": [
      "Computing and storing labels in ../data-fifa/atomic-labels.h5: 100%|██████████| 64/64 [00:10<00:00,  6.36it/s]\n"
     ]
    }
   ],
   "source": [
    "yfns = [lab.scores, lab.concedes, lab.goal_from_shot]\n",
    "\n",
    "with pd.HDFStore(spadl_h5) as spadlstore, pd.HDFStore(labels_h5) as labelstore:\n",
    "    for game in tqdm.tqdm(list(games.itertuples()), desc=f\"Computing and storing labels in {labels_h5}\"):\n",
    "        actions = spadlstore[f\"atomic_actions/game_{game.game_id}\"]\n",
    "        actions = (\n",
    "            actions.merge(actiontypes, how=\"left\")\n",
    "            .merge(bodyparts, how=\"left\")\n",
    "            .reset_index(drop=True)\n",
    "        )\n",
    "        Y = pd.concat([fn(actions) for fn in yfns], axis=1)\n",
    "        labelstore[f\"game_{game.game_id}\"] = Y"
   ]
  },
  {
   "cell_type": "code",
   "execution_count": null,
   "metadata": {},
   "outputs": [],
   "source": []
  }
 ],
 "metadata": {
  "kernelspec": {
   "display_name": "socceraction",
   "language": "python",
   "name": "socceraction"
  },
  "language_info": {
   "codemirror_mode": {
    "name": "ipython",
    "version": 3
   },
   "file_extension": ".py",
   "mimetype": "text/x-python",
   "name": "python",
   "nbconvert_exporter": "python",
   "pygments_lexer": "ipython3",
   "version": "3.6.2"
  },
  "varInspector": {
   "cols": {
    "lenName": 16,
    "lenType": 16,
    "lenVar": 40
   },
   "kernels_config": {
    "python": {
     "delete_cmd_postfix": "",
     "delete_cmd_prefix": "del ",
     "library": "var_list.py",
     "varRefreshCmd": "print(var_dic_list())"
    },
    "r": {
     "delete_cmd_postfix": ") ",
     "delete_cmd_prefix": "rm(",
     "library": "var_list.r",
     "varRefreshCmd": "cat(var_dic_list()) "
    }
   },
   "types_to_exclude": [
    "module",
    "function",
    "builtin_function_or_method",
    "instance",
    "_Feature"
   ],
   "window_display": false
  }
 },
 "nbformat": 4,
 "nbformat_minor": 2
}
