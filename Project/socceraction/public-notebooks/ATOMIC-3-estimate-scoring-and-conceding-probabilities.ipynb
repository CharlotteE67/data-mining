{
 "cells": [
  {
   "cell_type": "code",
   "execution_count": 1,
   "metadata": {
    "execution": {
     "iopub.execute_input": "2021-01-16T14:02:33.341474Z",
     "iopub.status.busy": "2021-01-16T14:02:33.340335Z",
     "iopub.status.idle": "2021-01-16T14:02:35.231624Z",
     "shell.execute_reply": "2021-01-16T14:02:35.230572Z"
    }
   },
   "outputs": [],
   "source": [
    "%load_ext autoreload\n",
    "%autoreload 2\n",
    "import os\n",
    "import warnings\n",
    "import tqdm\n",
    "import pandas as pd\n",
    "warnings.simplefilter(action='ignore', category=pd.errors.PerformanceWarning)\n",
    "\n",
    "import socceraction.atomic.vaep.features as fs\n",
    "import socceraction.atomic.vaep.labels as lab"
   ]
  },
  {
   "cell_type": "code",
   "execution_count": 2,
   "metadata": {
    "execution": {
     "iopub.execute_input": "2021-01-16T14:02:35.236453Z",
     "iopub.status.busy": "2021-01-16T14:02:35.235841Z",
     "iopub.status.idle": "2021-01-16T14:02:35.264569Z",
     "shell.execute_reply": "2021-01-16T14:02:35.263542Z"
    }
   },
   "outputs": [],
   "source": [
    "## Configure file and folder names\n",
    "datafolder = \"../data-fifa\"\n",
    "spadl_h5 = os.path.join(datafolder, \"atomic-spadl-statsbomb.h5\")\n",
    "features_h5 = os.path.join(datafolder, \"atomic-features.h5\")\n",
    "labels_h5 = os.path.join(datafolder, \"atomic-labels.h5\")\n",
    "predictions_h5 = os.path.join(datafolder, \"atomic-predictions-one-action.h5\")"
   ]
  },
  {
   "cell_type": "code",
   "execution_count": 3,
   "metadata": {
    "execution": {
     "iopub.execute_input": "2021-01-16T14:02:35.268607Z",
     "iopub.status.busy": "2021-01-16T14:02:35.267996Z",
     "iopub.status.idle": "2021-01-16T14:02:35.379184Z",
     "shell.execute_reply": "2021-01-16T14:02:35.378421Z"
    }
   },
   "outputs": [
    {
     "name": "stdout",
     "output_type": "stream",
     "text": [
      "nb of games: 64 64\n"
     ]
    }
   ],
   "source": [
    "games = pd.read_hdf(spadl_h5, \"games\")\n",
    "traingames = games\n",
    "testgames = games\n",
    "print(\"nb of games:\", len(traingames), len(testgames))"
   ]
  },
  {
   "cell_type": "code",
   "execution_count": 4,
   "metadata": {
    "execution": {
     "iopub.execute_input": "2021-01-16T14:02:35.391014Z",
     "iopub.status.busy": "2021-01-16T14:02:35.388343Z",
     "iopub.status.idle": "2021-01-16T14:02:37.898284Z",
     "shell.execute_reply": "2021-01-16T14:02:37.898791Z"
    },
    "scrolled": true
   },
   "outputs": [
    {
     "name": "stderr",
     "output_type": "stream",
     "text": [
      "Selecting features: 100%|██████████| 64/64 [00:01<00:00, 51.07it/s]\n",
      "Selecting label: 100%|██████████| 64/64 [00:01<00:00, 57.69it/s]"
     ]
    },
    {
     "name": "stdout",
     "output_type": "stream",
     "text": [
      "X: ['type_pass_a0', 'type_cross_a0', 'type_throw_in_a0', 'type_freekick_crossed_a0', 'type_freekick_short_a0', 'type_corner_crossed_a0', 'type_corner_short_a0', 'type_take_on_a0', 'type_foul_a0', 'type_tackle_a0', 'type_interception_a0', 'type_shot_a0', 'type_shot_penalty_a0', 'type_shot_freekick_a0', 'type_keeper_save_a0', 'type_keeper_claim_a0', 'type_keeper_punch_a0', 'type_keeper_pick_up_a0', 'type_clearance_a0', 'type_bad_touch_a0', 'type_non_action_a0', 'type_dribble_a0', 'type_goalkick_a0', 'type_receival_a0', 'type_out_a0', 'type_offside_a0', 'type_goal_a0', 'type_owngoal_a0', 'type_yellow_card_a0', 'type_red_card_a0', 'type_corner_a0', 'type_freekick_a0', 'bodypart_foot_a0', 'bodypart_head_a0', 'bodypart_other_a0', 'bodypart_head/other_a0', 'goalscore_team', 'goalscore_opponent', 'goalscore_diff', 'x_a0', 'y_a0', 'dist_to_goal_a0', 'angle_to_goal_a0', 'dx_a0', 'dy_a0', 'period_id_a0', 'time_seconds_a0', 'time_seconds_overall_a0']\n",
      "Y: ['scores', 'concedes']\n"
     ]
    },
    {
     "name": "stderr",
     "output_type": "stream",
     "text": [
      "\n"
     ]
    }
   ],
   "source": [
    "# 1. Select feature set X\n",
    "xfns = [\n",
    "    #fs.actiontype,\n",
    "    fs.actiontype_onehot,\n",
    "    #fs.bodypart,\n",
    "    fs.bodypart_onehot,\n",
    "    fs.goalscore,\n",
    "    fs.location,\n",
    "    fs.polar,\n",
    "    fs.direction,\n",
    "    fs.team,\n",
    "    fs.time,\n",
    "    fs.time_delta\n",
    "]\n",
    "nb_prev_actions = 1\n",
    "\n",
    "Xcols = fs.feature_column_names(xfns, nb_prev_actions)\n",
    "\n",
    "def getXY(games, Xcols):\n",
    "    # generate the columns of the selected feature\n",
    "    X = []\n",
    "    for game_id in tqdm.tqdm(games.game_id, desc=\"Selecting features\"):\n",
    "        Xi = pd.read_hdf(features_h5, f\"game_{game_id}\")\n",
    "        X.append(Xi[Xcols])\n",
    "    X = pd.concat(X).reset_index(drop=True)\n",
    "\n",
    "    # 2. Select label Y\n",
    "    Ycols = [\"scores\", \"concedes\"]\n",
    "    Y = []\n",
    "    for game_id in tqdm.tqdm(games.game_id, desc=\"Selecting label\"):\n",
    "        Yi = pd.read_hdf(labels_h5, f\"game_{game_id}\")\n",
    "        Y.append(Yi[Ycols])\n",
    "    Y = pd.concat(Y).reset_index(drop=True)\n",
    "    return X, Y\n",
    "\n",
    "X,Y = getXY(traingames, Xcols)\n",
    "print(\"X:\", list(X.columns))\n",
    "print(\"Y:\", list(Y.columns))\n",
    "X = X.fillna(0)"
   ]
  },
  {
   "cell_type": "code",
   "execution_count": 5,
   "metadata": {
    "execution": {
     "iopub.execute_input": "2021-01-16T14:02:37.902825Z",
     "iopub.status.busy": "2021-01-16T14:02:37.902111Z",
     "iopub.status.idle": "2021-01-16T14:02:44.081978Z",
     "shell.execute_reply": "2021-01-16T14:02:44.081438Z"
    }
   },
   "outputs": [
    {
     "name": "stderr",
     "output_type": "stream",
     "text": [
      "/cw/dtaijupiter/NoCsBack/dtai/pieterr/Projects/socceraction/.venv/lib/python3.6/site-packages/xgboost/sklearn.py:892: UserWarning: The use of label encoder in XGBClassifier is deprecated and will be removed in a future release. To remove this warning, do the following: 1) Pass option use_label_encoder=False when constructing XGBClassifier object; and 2) Encode your labels (y) as integers starting with 0, i.e. 0, 1, 2, ..., [num_class - 1].\n",
      "  warnings.warn(label_encoder_deprecation_msg, UserWarning)\n"
     ]
    },
    {
     "name": "stdout",
     "output_type": "stream",
     "text": [
      "scores\n",
      "[15:02:38] INFO: /tmp/pip-build-aomoa2hx/xgboost/build/temp.linux-x86_64-3.6/xgboost/src/tree/updater_prune.cc:101: tree pruning end, 8 extra nodes, 0 pruned nodes, max_depth=3\n",
      "[15:02:38] WARNING: /tmp/pip-build-aomoa2hx/xgboost/build/temp.linux-x86_64-3.6/xgboost/src/learner.cc:1061: Starting in XGBoost 1.3.0, the default evaluation metric used with the objective 'binary:logistic' was changed from 'error' to 'logloss'. Explicitly set eval_metric if you'd like to restore the old behavior.\n",
      "[15:02:38] INFO: /tmp/pip-build-aomoa2hx/xgboost/build/temp.linux-x86_64-3.6/xgboost/src/tree/updater_prune.cc:101: tree pruning end, 8 extra nodes, 0 pruned nodes, max_depth=3\n",
      "[15:02:38] INFO: /tmp/pip-build-aomoa2hx/xgboost/build/temp.linux-x86_64-3.6/xgboost/src/tree/updater_prune.cc:101: tree pruning end, 8 extra nodes, 0 pruned nodes, max_depth=3\n",
      "[15:02:38] INFO: /tmp/pip-build-aomoa2hx/xgboost/build/temp.linux-x86_64-3.6/xgboost/src/tree/updater_prune.cc:101: tree pruning end, 12 extra nodes, 0 pruned nodes, max_depth=3\n",
      "[15:02:38] INFO: /tmp/pip-build-aomoa2hx/xgboost/build/temp.linux-x86_64-3.6/xgboost/src/tree/updater_prune.cc:101: tree pruning end, 12 extra nodes, 0 pruned nodes, max_depth=3\n",
      "[15:02:38] INFO: /tmp/pip-build-aomoa2hx/xgboost/build/temp.linux-x86_64-3.6/xgboost/src/tree/updater_prune.cc:101: tree pruning end, 14 extra nodes, 0 pruned nodes, max_depth=3\n",
      "[15:02:38] INFO: /tmp/pip-build-aomoa2hx/xgboost/build/temp.linux-x86_64-3.6/xgboost/src/tree/updater_prune.cc:101: tree pruning end, 14 extra nodes, 0 pruned nodes, max_depth=3\n",
      "[15:02:38] INFO: /tmp/pip-build-aomoa2hx/xgboost/build/temp.linux-x86_64-3.6/xgboost/src/tree/updater_prune.cc:101: tree pruning end, 14 extra nodes, 0 pruned nodes, max_depth=3\n",
      "[15:02:39] INFO: /tmp/pip-build-aomoa2hx/xgboost/build/temp.linux-x86_64-3.6/xgboost/src/tree/updater_prune.cc:101: tree pruning end, 14 extra nodes, 0 pruned nodes, max_depth=3\n",
      "[15:02:39] INFO: /tmp/pip-build-aomoa2hx/xgboost/build/temp.linux-x86_64-3.6/xgboost/src/tree/updater_prune.cc:101: tree pruning end, 14 extra nodes, 0 pruned nodes, max_depth=3\n",
      "[15:02:39] INFO: /tmp/pip-build-aomoa2hx/xgboost/build/temp.linux-x86_64-3.6/xgboost/src/tree/updater_prune.cc:101: tree pruning end, 14 extra nodes, 0 pruned nodes, max_depth=3\n",
      "[15:02:39] INFO: /tmp/pip-build-aomoa2hx/xgboost/build/temp.linux-x86_64-3.6/xgboost/src/tree/updater_prune.cc:101: tree pruning end, 14 extra nodes, 0 pruned nodes, max_depth=3\n",
      "[15:02:39] INFO: /tmp/pip-build-aomoa2hx/xgboost/build/temp.linux-x86_64-3.6/xgboost/src/tree/updater_prune.cc:101: tree pruning end, 14 extra nodes, 0 pruned nodes, max_depth=3\n",
      "[15:02:39] INFO: /tmp/pip-build-aomoa2hx/xgboost/build/temp.linux-x86_64-3.6/xgboost/src/tree/updater_prune.cc:101: tree pruning end, 14 extra nodes, 0 pruned nodes, max_depth=3\n",
      "[15:02:39] INFO: /tmp/pip-build-aomoa2hx/xgboost/build/temp.linux-x86_64-3.6/xgboost/src/tree/updater_prune.cc:101: tree pruning end, 14 extra nodes, 0 pruned nodes, max_depth=3\n",
      "[15:02:39] INFO: /tmp/pip-build-aomoa2hx/xgboost/build/temp.linux-x86_64-3.6/xgboost/src/tree/updater_prune.cc:101: tree pruning end, 14 extra nodes, 0 pruned nodes, max_depth=3\n",
      "[15:02:39] INFO: /tmp/pip-build-aomoa2hx/xgboost/build/temp.linux-x86_64-3.6/xgboost/src/tree/updater_prune.cc:101: tree pruning end, 14 extra nodes, 0 pruned nodes, max_depth=3\n",
      "[15:02:39] INFO: /tmp/pip-build-aomoa2hx/xgboost/build/temp.linux-x86_64-3.6/xgboost/src/tree/updater_prune.cc:101: tree pruning end, 14 extra nodes, 0 pruned nodes, max_depth=3\n",
      "[15:02:39] INFO: /tmp/pip-build-aomoa2hx/xgboost/build/temp.linux-x86_64-3.6/xgboost/src/tree/updater_prune.cc:101: tree pruning end, 14 extra nodes, 0 pruned nodes, max_depth=3\n",
      "[15:02:39] INFO: /tmp/pip-build-aomoa2hx/xgboost/build/temp.linux-x86_64-3.6/xgboost/src/tree/updater_prune.cc:101: tree pruning end, 14 extra nodes, 0 pruned nodes, max_depth=3\n",
      "[15:02:39] INFO: /tmp/pip-build-aomoa2hx/xgboost/build/temp.linux-x86_64-3.6/xgboost/src/tree/updater_prune.cc:101: tree pruning end, 14 extra nodes, 0 pruned nodes, max_depth=3\n",
      "[15:02:39] INFO: /tmp/pip-build-aomoa2hx/xgboost/build/temp.linux-x86_64-3.6/xgboost/src/tree/updater_prune.cc:101: tree pruning end, 14 extra nodes, 0 pruned nodes, max_depth=3\n",
      "[15:02:39] INFO: /tmp/pip-build-aomoa2hx/xgboost/build/temp.linux-x86_64-3.6/xgboost/src/tree/updater_prune.cc:101: tree pruning end, 14 extra nodes, 0 pruned nodes, max_depth=3\n",
      "[15:02:39] INFO: /tmp/pip-build-aomoa2hx/xgboost/build/temp.linux-x86_64-3.6/xgboost/src/tree/updater_prune.cc:101: tree pruning end, 14 extra nodes, 0 pruned nodes, max_depth=3\n",
      "[15:02:39] INFO: /tmp/pip-build-aomoa2hx/xgboost/build/temp.linux-x86_64-3.6/xgboost/src/tree/updater_prune.cc:101: tree pruning end, 12 extra nodes, 0 pruned nodes, max_depth=3\n",
      "[15:02:39] INFO: /tmp/pip-build-aomoa2hx/xgboost/build/temp.linux-x86_64-3.6/xgboost/src/tree/updater_prune.cc:101: tree pruning end, 10 extra nodes, 0 pruned nodes, max_depth=3\n",
      "[15:02:39] INFO: /tmp/pip-build-aomoa2hx/xgboost/build/temp.linux-x86_64-3.6/xgboost/src/tree/updater_prune.cc:101: tree pruning end, 14 extra nodes, 0 pruned nodes, max_depth=3\n",
      "[15:02:39] INFO: /tmp/pip-build-aomoa2hx/xgboost/build/temp.linux-x86_64-3.6/xgboost/src/tree/updater_prune.cc:101: tree pruning end, 10 extra nodes, 0 pruned nodes, max_depth=3\n",
      "[15:02:40] INFO: /tmp/pip-build-aomoa2hx/xgboost/build/temp.linux-x86_64-3.6/xgboost/src/tree/updater_prune.cc:101: tree pruning end, 12 extra nodes, 0 pruned nodes, max_depth=3\n",
      "[15:02:40] INFO: /tmp/pip-build-aomoa2hx/xgboost/build/temp.linux-x86_64-3.6/xgboost/src/tree/updater_prune.cc:101: tree pruning end, 8 extra nodes, 0 pruned nodes, max_depth=3\n",
      "[15:02:40] INFO: /tmp/pip-build-aomoa2hx/xgboost/build/temp.linux-x86_64-3.6/xgboost/src/tree/updater_prune.cc:101: tree pruning end, 14 extra nodes, 0 pruned nodes, max_depth=3\n",
      "[15:02:40] INFO: /tmp/pip-build-aomoa2hx/xgboost/build/temp.linux-x86_64-3.6/xgboost/src/tree/updater_prune.cc:101: tree pruning end, 10 extra nodes, 0 pruned nodes, max_depth=3\n",
      "[15:02:40] INFO: /tmp/pip-build-aomoa2hx/xgboost/build/temp.linux-x86_64-3.6/xgboost/src/tree/updater_prune.cc:101: tree pruning end, 10 extra nodes, 0 pruned nodes, max_depth=3\n",
      "[15:02:40] INFO: /tmp/pip-build-aomoa2hx/xgboost/build/temp.linux-x86_64-3.6/xgboost/src/tree/updater_prune.cc:101: tree pruning end, 6 extra nodes, 0 pruned nodes, max_depth=3\n",
      "[15:02:40] INFO: /tmp/pip-build-aomoa2hx/xgboost/build/temp.linux-x86_64-3.6/xgboost/src/tree/updater_prune.cc:101: tree pruning end, 14 extra nodes, 0 pruned nodes, max_depth=3\n",
      "[15:02:40] INFO: /tmp/pip-build-aomoa2hx/xgboost/build/temp.linux-x86_64-3.6/xgboost/src/tree/updater_prune.cc:101: tree pruning end, 14 extra nodes, 0 pruned nodes, max_depth=3\n",
      "[15:02:40] INFO: /tmp/pip-build-aomoa2hx/xgboost/build/temp.linux-x86_64-3.6/xgboost/src/tree/updater_prune.cc:101: tree pruning end, 14 extra nodes, 0 pruned nodes, max_depth=3\n",
      "[15:02:40] INFO: /tmp/pip-build-aomoa2hx/xgboost/build/temp.linux-x86_64-3.6/xgboost/src/tree/updater_prune.cc:101: tree pruning end, 12 extra nodes, 0 pruned nodes, max_depth=3\n",
      "[15:02:40] INFO: /tmp/pip-build-aomoa2hx/xgboost/build/temp.linux-x86_64-3.6/xgboost/src/tree/updater_prune.cc:101: tree pruning end, 14 extra nodes, 0 pruned nodes, max_depth=3\n",
      "[15:02:40] INFO: /tmp/pip-build-aomoa2hx/xgboost/build/temp.linux-x86_64-3.6/xgboost/src/tree/updater_prune.cc:101: tree pruning end, 14 extra nodes, 0 pruned nodes, max_depth=3\n",
      "[15:02:40] INFO: /tmp/pip-build-aomoa2hx/xgboost/build/temp.linux-x86_64-3.6/xgboost/src/tree/updater_prune.cc:101: tree pruning end, 14 extra nodes, 0 pruned nodes, max_depth=3\n",
      "[15:02:40] INFO: /tmp/pip-build-aomoa2hx/xgboost/build/temp.linux-x86_64-3.6/xgboost/src/tree/updater_prune.cc:101: tree pruning end, 14 extra nodes, 0 pruned nodes, max_depth=3\n",
      "[15:02:40] INFO: /tmp/pip-build-aomoa2hx/xgboost/build/temp.linux-x86_64-3.6/xgboost/src/tree/updater_prune.cc:101: tree pruning end, 14 extra nodes, 0 pruned nodes, max_depth=3\n",
      "[15:02:40] INFO: /tmp/pip-build-aomoa2hx/xgboost/build/temp.linux-x86_64-3.6/xgboost/src/tree/updater_prune.cc:101: tree pruning end, 14 extra nodes, 0 pruned nodes, max_depth=3\n",
      "[15:02:40] INFO: /tmp/pip-build-aomoa2hx/xgboost/build/temp.linux-x86_64-3.6/xgboost/src/tree/updater_prune.cc:101: tree pruning end, 12 extra nodes, 0 pruned nodes, max_depth=3\n",
      "[15:02:40] INFO: /tmp/pip-build-aomoa2hx/xgboost/build/temp.linux-x86_64-3.6/xgboost/src/tree/updater_prune.cc:101: tree pruning end, 8 extra nodes, 0 pruned nodes, max_depth=3\n",
      "[15:02:40] INFO: /tmp/pip-build-aomoa2hx/xgboost/build/temp.linux-x86_64-3.6/xgboost/src/tree/updater_prune.cc:101: tree pruning end, 14 extra nodes, 0 pruned nodes, max_depth=3\n",
      "[15:02:40] INFO: /tmp/pip-build-aomoa2hx/xgboost/build/temp.linux-x86_64-3.6/xgboost/src/tree/updater_prune.cc:101: tree pruning end, 10 extra nodes, 0 pruned nodes, max_depth=3\n",
      "[15:02:40] INFO: /tmp/pip-build-aomoa2hx/xgboost/build/temp.linux-x86_64-3.6/xgboost/src/tree/updater_prune.cc:101: tree pruning end, 10 extra nodes, 0 pruned nodes, max_depth=3\n",
      "[15:02:40] INFO: /tmp/pip-build-aomoa2hx/xgboost/build/temp.linux-x86_64-3.6/xgboost/src/tree/updater_prune.cc:101: tree pruning end, 14 extra nodes, 0 pruned nodes, max_depth=3\n",
      "concedes\n",
      "[15:02:41] INFO: /tmp/pip-build-aomoa2hx/xgboost/build/temp.linux-x86_64-3.6/xgboost/src/tree/updater_prune.cc:101: tree pruning end, 12 extra nodes, 0 pruned nodes, max_depth=3\n",
      "[15:02:41] WARNING: /tmp/pip-build-aomoa2hx/xgboost/build/temp.linux-x86_64-3.6/xgboost/src/learner.cc:1061: Starting in XGBoost 1.3.0, the default evaluation metric used with the objective 'binary:logistic' was changed from 'error' to 'logloss'. Explicitly set eval_metric if you'd like to restore the old behavior.\n",
      "[15:02:41] INFO: /tmp/pip-build-aomoa2hx/xgboost/build/temp.linux-x86_64-3.6/xgboost/src/tree/updater_prune.cc:101: tree pruning end, 10 extra nodes, 0 pruned nodes, max_depth=3\n",
      "[15:02:41] INFO: /tmp/pip-build-aomoa2hx/xgboost/build/temp.linux-x86_64-3.6/xgboost/src/tree/updater_prune.cc:101: tree pruning end, 10 extra nodes, 0 pruned nodes, max_depth=3\n",
      "[15:02:41] INFO: /tmp/pip-build-aomoa2hx/xgboost/build/temp.linux-x86_64-3.6/xgboost/src/tree/updater_prune.cc:101: tree pruning end, 12 extra nodes, 0 pruned nodes, max_depth=3\n",
      "[15:02:41] INFO: /tmp/pip-build-aomoa2hx/xgboost/build/temp.linux-x86_64-3.6/xgboost/src/tree/updater_prune.cc:101: tree pruning end, 12 extra nodes, 0 pruned nodes, max_depth=3\n",
      "[15:02:41] INFO: /tmp/pip-build-aomoa2hx/xgboost/build/temp.linux-x86_64-3.6/xgboost/src/tree/updater_prune.cc:101: tree pruning end, 14 extra nodes, 0 pruned nodes, max_depth=3\n",
      "[15:02:42] INFO: /tmp/pip-build-aomoa2hx/xgboost/build/temp.linux-x86_64-3.6/xgboost/src/tree/updater_prune.cc:101: tree pruning end, 12 extra nodes, 0 pruned nodes, max_depth=3\n",
      "[15:02:42] INFO: /tmp/pip-build-aomoa2hx/xgboost/build/temp.linux-x86_64-3.6/xgboost/src/tree/updater_prune.cc:101: tree pruning end, 12 extra nodes, 0 pruned nodes, max_depth=3\n",
      "[15:02:42] INFO: /tmp/pip-build-aomoa2hx/xgboost/build/temp.linux-x86_64-3.6/xgboost/src/tree/updater_prune.cc:101: tree pruning end, 14 extra nodes, 0 pruned nodes, max_depth=3\n",
      "[15:02:42] INFO: /tmp/pip-build-aomoa2hx/xgboost/build/temp.linux-x86_64-3.6/xgboost/src/tree/updater_prune.cc:101: tree pruning end, 14 extra nodes, 0 pruned nodes, max_depth=3\n",
      "[15:02:42] INFO: /tmp/pip-build-aomoa2hx/xgboost/build/temp.linux-x86_64-3.6/xgboost/src/tree/updater_prune.cc:101: tree pruning end, 14 extra nodes, 0 pruned nodes, max_depth=3\n",
      "[15:02:42] INFO: /tmp/pip-build-aomoa2hx/xgboost/build/temp.linux-x86_64-3.6/xgboost/src/tree/updater_prune.cc:101: tree pruning end, 14 extra nodes, 0 pruned nodes, max_depth=3\n",
      "[15:02:42] INFO: /tmp/pip-build-aomoa2hx/xgboost/build/temp.linux-x86_64-3.6/xgboost/src/tree/updater_prune.cc:101: tree pruning end, 14 extra nodes, 0 pruned nodes, max_depth=3\n",
      "[15:02:42] INFO: /tmp/pip-build-aomoa2hx/xgboost/build/temp.linux-x86_64-3.6/xgboost/src/tree/updater_prune.cc:101: tree pruning end, 14 extra nodes, 0 pruned nodes, max_depth=3\n",
      "[15:02:42] INFO: /tmp/pip-build-aomoa2hx/xgboost/build/temp.linux-x86_64-3.6/xgboost/src/tree/updater_prune.cc:101: tree pruning end, 8 extra nodes, 0 pruned nodes, max_depth=3\n",
      "[15:02:42] INFO: /tmp/pip-build-aomoa2hx/xgboost/build/temp.linux-x86_64-3.6/xgboost/src/tree/updater_prune.cc:101: tree pruning end, 12 extra nodes, 0 pruned nodes, max_depth=3\n",
      "[15:02:42] INFO: /tmp/pip-build-aomoa2hx/xgboost/build/temp.linux-x86_64-3.6/xgboost/src/tree/updater_prune.cc:101: tree pruning end, 14 extra nodes, 0 pruned nodes, max_depth=3\n",
      "[15:02:42] INFO: /tmp/pip-build-aomoa2hx/xgboost/build/temp.linux-x86_64-3.6/xgboost/src/tree/updater_prune.cc:101: tree pruning end, 14 extra nodes, 0 pruned nodes, max_depth=3\n",
      "[15:02:42] INFO: /tmp/pip-build-aomoa2hx/xgboost/build/temp.linux-x86_64-3.6/xgboost/src/tree/updater_prune.cc:101: tree pruning end, 14 extra nodes, 0 pruned nodes, max_depth=3\n",
      "[15:02:42] INFO: /tmp/pip-build-aomoa2hx/xgboost/build/temp.linux-x86_64-3.6/xgboost/src/tree/updater_prune.cc:101: tree pruning end, 14 extra nodes, 0 pruned nodes, max_depth=3\n",
      "[15:02:42] INFO: /tmp/pip-build-aomoa2hx/xgboost/build/temp.linux-x86_64-3.6/xgboost/src/tree/updater_prune.cc:101: tree pruning end, 10 extra nodes, 0 pruned nodes, max_depth=3\n",
      "[15:02:42] INFO: /tmp/pip-build-aomoa2hx/xgboost/build/temp.linux-x86_64-3.6/xgboost/src/tree/updater_prune.cc:101: tree pruning end, 12 extra nodes, 0 pruned nodes, max_depth=3\n",
      "[15:02:42] INFO: /tmp/pip-build-aomoa2hx/xgboost/build/temp.linux-x86_64-3.6/xgboost/src/tree/updater_prune.cc:101: tree pruning end, 12 extra nodes, 0 pruned nodes, max_depth=3\n",
      "[15:02:42] INFO: /tmp/pip-build-aomoa2hx/xgboost/build/temp.linux-x86_64-3.6/xgboost/src/tree/updater_prune.cc:101: tree pruning end, 12 extra nodes, 0 pruned nodes, max_depth=3\n",
      "[15:02:42] INFO: /tmp/pip-build-aomoa2hx/xgboost/build/temp.linux-x86_64-3.6/xgboost/src/tree/updater_prune.cc:101: tree pruning end, 14 extra nodes, 0 pruned nodes, max_depth=3\n",
      "[15:02:42] INFO: /tmp/pip-build-aomoa2hx/xgboost/build/temp.linux-x86_64-3.6/xgboost/src/tree/updater_prune.cc:101: tree pruning end, 8 extra nodes, 0 pruned nodes, max_depth=3\n",
      "[15:02:42] INFO: /tmp/pip-build-aomoa2hx/xgboost/build/temp.linux-x86_64-3.6/xgboost/src/tree/updater_prune.cc:101: tree pruning end, 12 extra nodes, 0 pruned nodes, max_depth=3\n",
      "[15:02:43] INFO: /tmp/pip-build-aomoa2hx/xgboost/build/temp.linux-x86_64-3.6/xgboost/src/tree/updater_prune.cc:101: tree pruning end, 12 extra nodes, 0 pruned nodes, max_depth=3\n",
      "[15:02:43] INFO: /tmp/pip-build-aomoa2hx/xgboost/build/temp.linux-x86_64-3.6/xgboost/src/tree/updater_prune.cc:101: tree pruning end, 14 extra nodes, 0 pruned nodes, max_depth=3\n",
      "[15:02:43] INFO: /tmp/pip-build-aomoa2hx/xgboost/build/temp.linux-x86_64-3.6/xgboost/src/tree/updater_prune.cc:101: tree pruning end, 12 extra nodes, 0 pruned nodes, max_depth=3\n",
      "[15:02:43] INFO: /tmp/pip-build-aomoa2hx/xgboost/build/temp.linux-x86_64-3.6/xgboost/src/tree/updater_prune.cc:101: tree pruning end, 8 extra nodes, 0 pruned nodes, max_depth=3\n",
      "[15:02:43] INFO: /tmp/pip-build-aomoa2hx/xgboost/build/temp.linux-x86_64-3.6/xgboost/src/tree/updater_prune.cc:101: tree pruning end, 14 extra nodes, 0 pruned nodes, max_depth=3\n",
      "[15:02:43] INFO: /tmp/pip-build-aomoa2hx/xgboost/build/temp.linux-x86_64-3.6/xgboost/src/tree/updater_prune.cc:101: tree pruning end, 14 extra nodes, 0 pruned nodes, max_depth=3\n",
      "[15:02:43] INFO: /tmp/pip-build-aomoa2hx/xgboost/build/temp.linux-x86_64-3.6/xgboost/src/tree/updater_prune.cc:101: tree pruning end, 8 extra nodes, 0 pruned nodes, max_depth=3\n",
      "[15:02:43] INFO: /tmp/pip-build-aomoa2hx/xgboost/build/temp.linux-x86_64-3.6/xgboost/src/tree/updater_prune.cc:101: tree pruning end, 14 extra nodes, 0 pruned nodes, max_depth=3\n",
      "[15:02:43] INFO: /tmp/pip-build-aomoa2hx/xgboost/build/temp.linux-x86_64-3.6/xgboost/src/tree/updater_prune.cc:101: tree pruning end, 12 extra nodes, 0 pruned nodes, max_depth=3\n",
      "[15:02:43] INFO: /tmp/pip-build-aomoa2hx/xgboost/build/temp.linux-x86_64-3.6/xgboost/src/tree/updater_prune.cc:101: tree pruning end, 14 extra nodes, 0 pruned nodes, max_depth=3\n",
      "[15:02:43] INFO: /tmp/pip-build-aomoa2hx/xgboost/build/temp.linux-x86_64-3.6/xgboost/src/tree/updater_prune.cc:101: tree pruning end, 10 extra nodes, 0 pruned nodes, max_depth=3\n",
      "[15:02:43] INFO: /tmp/pip-build-aomoa2hx/xgboost/build/temp.linux-x86_64-3.6/xgboost/src/tree/updater_prune.cc:101: tree pruning end, 12 extra nodes, 0 pruned nodes, max_depth=3\n",
      "[15:02:43] INFO: /tmp/pip-build-aomoa2hx/xgboost/build/temp.linux-x86_64-3.6/xgboost/src/tree/updater_prune.cc:101: tree pruning end, 14 extra nodes, 0 pruned nodes, max_depth=3\n",
      "[15:02:43] INFO: /tmp/pip-build-aomoa2hx/xgboost/build/temp.linux-x86_64-3.6/xgboost/src/tree/updater_prune.cc:101: tree pruning end, 14 extra nodes, 0 pruned nodes, max_depth=3\n",
      "[15:02:43] INFO: /tmp/pip-build-aomoa2hx/xgboost/build/temp.linux-x86_64-3.6/xgboost/src/tree/updater_prune.cc:101: tree pruning end, 14 extra nodes, 0 pruned nodes, max_depth=3\n",
      "[15:02:43] INFO: /tmp/pip-build-aomoa2hx/xgboost/build/temp.linux-x86_64-3.6/xgboost/src/tree/updater_prune.cc:101: tree pruning end, 14 extra nodes, 0 pruned nodes, max_depth=3\n",
      "[15:02:43] INFO: /tmp/pip-build-aomoa2hx/xgboost/build/temp.linux-x86_64-3.6/xgboost/src/tree/updater_prune.cc:101: tree pruning end, 14 extra nodes, 0 pruned nodes, max_depth=3\n",
      "[15:02:43] INFO: /tmp/pip-build-aomoa2hx/xgboost/build/temp.linux-x86_64-3.6/xgboost/src/tree/updater_prune.cc:101: tree pruning end, 8 extra nodes, 0 pruned nodes, max_depth=3\n",
      "[15:02:43] INFO: /tmp/pip-build-aomoa2hx/xgboost/build/temp.linux-x86_64-3.6/xgboost/src/tree/updater_prune.cc:101: tree pruning end, 14 extra nodes, 0 pruned nodes, max_depth=3\n",
      "[15:02:43] INFO: /tmp/pip-build-aomoa2hx/xgboost/build/temp.linux-x86_64-3.6/xgboost/src/tree/updater_prune.cc:101: tree pruning end, 12 extra nodes, 0 pruned nodes, max_depth=3\n",
      "[15:02:43] INFO: /tmp/pip-build-aomoa2hx/xgboost/build/temp.linux-x86_64-3.6/xgboost/src/tree/updater_prune.cc:101: tree pruning end, 14 extra nodes, 0 pruned nodes, max_depth=3\n",
      "[15:02:44] INFO: /tmp/pip-build-aomoa2hx/xgboost/build/temp.linux-x86_64-3.6/xgboost/src/tree/updater_prune.cc:101: tree pruning end, 8 extra nodes, 0 pruned nodes, max_depth=3\n",
      "[15:02:44] INFO: /tmp/pip-build-aomoa2hx/xgboost/build/temp.linux-x86_64-3.6/xgboost/src/tree/updater_prune.cc:101: tree pruning end, 14 extra nodes, 0 pruned nodes, max_depth=3\n",
      "CPU times: user 39.9 s, sys: 217 ms, total: 40.1 s\n",
      "Wall time: 6.15 s\n"
     ]
    }
   ],
   "source": [
    "%%time\n",
    "# train classifiers F(X) = Y\n",
    "import xgboost\n",
    "#from sklearn.linear_model import LogisticRegression\n",
    "\n",
    "Y_hat = pd.DataFrame()\n",
    "models = {}\n",
    "for col in list(Y.columns):\n",
    "    print(col)\n",
    "    model = xgboost.XGBClassifier(n_estimators=50, max_depth=3, n_jobs=-3, verbosity=2)\n",
    "    #model = LogisticRegression(solver=\"lbfgs\")\n",
    "    model.fit(X, Y[col])\n",
    "    models[col] = model"
   ]
  },
  {
   "cell_type": "code",
   "execution_count": 6,
   "metadata": {
    "execution": {
     "iopub.execute_input": "2021-01-16T14:02:44.085586Z",
     "iopub.status.busy": "2021-01-16T14:02:44.084981Z",
     "iopub.status.idle": "2021-01-16T14:02:44.111834Z",
     "shell.execute_reply": "2021-01-16T14:02:44.112350Z"
    }
   },
   "outputs": [],
   "source": [
    "testX, testY = X, Y"
   ]
  },
  {
   "cell_type": "code",
   "execution_count": 7,
   "metadata": {
    "execution": {
     "iopub.execute_input": "2021-01-16T14:02:44.118329Z",
     "iopub.status.busy": "2021-01-16T14:02:44.117700Z",
     "iopub.status.idle": "2021-01-16T14:02:45.880534Z",
     "shell.execute_reply": "2021-01-16T14:02:45.879916Z"
    }
   },
   "outputs": [
    {
     "name": "stdout",
     "output_type": "stream",
     "text": [
      "### Y: scores ###\n",
      "  Brier score: 0.00558 (0.73146)\n",
      "  log loss score: 0.02655 (0.58867)\n",
      "  ROC AUC: 0.93506\n",
      "### Y: concedes ###\n",
      "  Brier score: 0.00108 (0.61117)\n",
      "  log loss score: 0.00592 (0.45511)\n",
      "  ROC AUC: 0.96487\n"
     ]
    }
   ],
   "source": [
    "from sklearn.metrics import brier_score_loss, roc_auc_score, log_loss\n",
    "\n",
    "def evaluate(y, y_hat):\n",
    "    p = sum(y) / len(y)\n",
    "    base = [p] * len(y)\n",
    "    brier = brier_score_loss(y, y_hat)\n",
    "    print(f\"  Brier score: %.5f (%.5f)\" % (brier, brier / brier_score_loss(y, base)))\n",
    "    ll = log_loss(y, y_hat)\n",
    "    print(f\"  log loss score: %.5f (%.5f)\" % (ll, ll / log_loss(y, base)))\n",
    "    print(f\"  ROC AUC: %.5f\" % roc_auc_score(y, y_hat))\n",
    "\n",
    "for col in testY.columns:\n",
    "    Y_hat[col] = [p[1] for p in models[col].predict_proba(testX)]\n",
    "    print(f\"### Y: {col} ###\")\n",
    "    evaluate(testY[col], Y_hat[col])"
   ]
  },
  {
   "cell_type": "markdown",
   "metadata": {},
   "source": [
    "### Save predictions"
   ]
  },
  {
   "cell_type": "code",
   "execution_count": 8,
   "metadata": {
    "execution": {
     "iopub.execute_input": "2021-01-16T14:02:45.886259Z",
     "iopub.status.busy": "2021-01-16T14:02:45.885644Z",
     "iopub.status.idle": "2021-01-16T14:02:51.744324Z",
     "shell.execute_reply": "2021-01-16T14:02:51.744814Z"
    }
   },
   "outputs": [
    {
     "name": "stderr",
     "output_type": "stream",
     "text": [
      "Loading actions of each game: 100%|██████████| 64/64 [00:01<00:00, 51.38it/s]\n",
      "Saving predictions per game: 100%|██████████| 64/64 [00:04<00:00, 14.04it/s]\n"
     ]
    }
   ],
   "source": [
    "# get rows with game id per action\n",
    "A = []\n",
    "for game_id in tqdm.tqdm(testgames.game_id, \"Loading actions of each game\"):\n",
    "    Ai = pd.read_hdf(spadl_h5,f\"atomic_actions/game_{game_id}\")\n",
    "    A.append(Ai[[\"game_id\"]])\n",
    "A = pd.concat(A)\n",
    "A = A.reset_index(drop=True)\n",
    "\n",
    "# concatenate action game id rows with predictions and save per game\n",
    "grouped_predictions = pd.concat([A, Y_hat], axis=1).groupby(\"game_id\")\n",
    "for k,df in tqdm.tqdm(grouped_predictions, desc=\"Saving predictions per game\"):\n",
    "    df = df.reset_index(drop=True)\n",
    "    df[Y_hat.columns].to_hdf(predictions_h5, f\"game_{int(k)}\")"
   ]
  },
  {
   "cell_type": "code",
   "execution_count": null,
   "metadata": {},
   "outputs": [],
   "source": []
  }
 ],
 "metadata": {
  "kernelspec": {
   "display_name": "socceraction",
   "language": "python",
   "name": "socceraction"
  },
  "language_info": {
   "codemirror_mode": {
    "name": "ipython",
    "version": 3
   },
   "file_extension": ".py",
   "mimetype": "text/x-python",
   "name": "python",
   "nbconvert_exporter": "python",
   "pygments_lexer": "ipython3",
   "version": "3.6.2"
  },
  "toc": {
   "base_numbering": 1,
   "nav_menu": {},
   "number_sections": true,
   "sideBar": true,
   "skip_h1_title": false,
   "title_cell": "Table of Contents",
   "title_sidebar": "Contents",
   "toc_cell": false,
   "toc_position": {},
   "toc_section_display": true,
   "toc_window_display": true
  },
  "varInspector": {
   "cols": {
    "lenName": 16,
    "lenType": 16,
    "lenVar": 40
   },
   "kernels_config": {
    "python": {
     "delete_cmd_postfix": "",
     "delete_cmd_prefix": "del ",
     "library": "var_list.py",
     "varRefreshCmd": "print(var_dic_list())"
    },
    "r": {
     "delete_cmd_postfix": ") ",
     "delete_cmd_prefix": "rm(",
     "library": "var_list.r",
     "varRefreshCmd": "cat(var_dic_list()) "
    }
   },
   "types_to_exclude": [
    "module",
    "function",
    "builtin_function_or_method",
    "instance",
    "_Feature"
   ],
   "window_display": false
  }
 },
 "nbformat": 4,
 "nbformat_minor": 2
}
