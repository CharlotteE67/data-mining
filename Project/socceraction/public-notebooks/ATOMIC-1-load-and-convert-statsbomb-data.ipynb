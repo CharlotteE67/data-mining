{
 "cells": [
  {
   "cell_type": "markdown",
   "metadata": {},
   "source": [
    "**Disclaimer**: this notebook's compatibility with StatsBomb event data 4.0.0 was last checked on January 3rd, 2021"
   ]
  },
  {
   "cell_type": "code",
   "execution_count": 1,
   "metadata": {
    "execution": {
     "iopub.execute_input": "2021-01-16T14:00:29.681278Z",
     "iopub.status.busy": "2021-01-16T14:00:29.671155Z",
     "iopub.status.idle": "2021-01-16T14:00:30.376347Z",
     "shell.execute_reply": "2021-01-16T14:00:30.374839Z"
    }
   },
   "outputs": [],
   "source": [
    "%load_ext autoreload\n",
    "%autoreload 2\n",
    "import os\n",
    "import warnings\n",
    "import pandas as pd\n",
    "warnings.simplefilter(action='ignore', category=pd.errors.PerformanceWarning)\n",
    "import tqdm"
   ]
  },
  {
   "cell_type": "code",
   "execution_count": 2,
   "metadata": {
    "execution": {
     "iopub.execute_input": "2021-01-16T14:00:30.380994Z",
     "iopub.status.busy": "2021-01-16T14:00:30.380380Z",
     "iopub.status.idle": "2021-01-16T14:00:31.069958Z",
     "shell.execute_reply": "2021-01-16T14:00:31.068550Z"
    }
   },
   "outputs": [],
   "source": [
    "import socceraction.spadl as spadl\n",
    "import socceraction.spadl.statsbomb as statsbomb\n",
    "import socceraction.atomic.spadl as atomicspadl"
   ]
  },
  {
   "cell_type": "markdown",
   "metadata": {},
   "source": [
    "## Set up the statsbombloader"
   ]
  },
  {
   "cell_type": "code",
   "execution_count": 3,
   "metadata": {
    "execution": {
     "iopub.execute_input": "2021-01-16T14:00:31.074922Z",
     "iopub.status.busy": "2021-01-16T14:00:31.074324Z",
     "iopub.status.idle": "2021-01-16T14:00:31.100839Z",
     "shell.execute_reply": "2021-01-16T14:00:31.100215Z"
    }
   },
   "outputs": [],
   "source": [
    "# Use this if you only want to use the free public statsbomb data\n",
    "free_open_data_remote = \"https://raw.githubusercontent.com/statsbomb/open-data/master/data/\"\n",
    "SBL = statsbomb.StatsBombLoader(root=free_open_data_remote, getter=\"remote\")\n",
    "\n",
    "# # Uncomment the code below if you have a local folder on your computer with statsbomb data\n",
    "#datafolder = \"../data-epl\" # Example of local folder with statsbomb data\n",
    "#SBL = statsbomb.StatsBombLoader(root=datafolder,getter=\"local\")"
   ]
  },
  {
   "cell_type": "markdown",
   "metadata": {},
   "source": [
    "## Select competitions to load and convert"
   ]
  },
  {
   "cell_type": "code",
   "execution_count": 4,
   "metadata": {
    "execution": {
     "iopub.execute_input": "2021-01-16T14:00:31.104407Z",
     "iopub.status.busy": "2021-01-16T14:00:31.103765Z",
     "iopub.status.idle": "2021-01-16T14:00:31.214396Z",
     "shell.execute_reply": "2021-01-16T14:00:31.214930Z"
    }
   },
   "outputs": [
    {
     "data": {
      "text/plain": [
       "{'Champions League',\n",
       " \"FA Women's Super League\",\n",
       " 'FIFA World Cup',\n",
       " 'La Liga',\n",
       " 'NWSL',\n",
       " 'Premier League',\n",
       " \"Women's World Cup\"}"
      ]
     },
     "execution_count": 1,
     "metadata": {},
     "output_type": "execute_result"
    }
   ],
   "source": [
    "# View all available competitions\n",
    "competitions = SBL.competitions()\n",
    "set(competitions.competition_name)"
   ]
  },
  {
   "cell_type": "code",
   "execution_count": 5,
   "metadata": {
    "execution": {
     "iopub.execute_input": "2021-01-16T14:00:31.219798Z",
     "iopub.status.busy": "2021-01-16T14:00:31.219204Z",
     "iopub.status.idle": "2021-01-16T14:00:31.258563Z",
     "shell.execute_reply": "2021-01-16T14:00:31.258024Z"
    }
   },
   "outputs": [
    {
     "data": {
      "text/html": [
       "<div>\n",
       "<style scoped>\n",
       "    .dataframe tbody tr th:only-of-type {\n",
       "        vertical-align: middle;\n",
       "    }\n",
       "\n",
       "    .dataframe tbody tr th {\n",
       "        vertical-align: top;\n",
       "    }\n",
       "\n",
       "    .dataframe thead th {\n",
       "        text-align: right;\n",
       "    }\n",
       "</style>\n",
       "<table border=\"1\" class=\"dataframe\">\n",
       "  <thead>\n",
       "    <tr style=\"text-align: right;\">\n",
       "      <th></th>\n",
       "      <th>season_id</th>\n",
       "      <th>competition_id</th>\n",
       "      <th>competition_name</th>\n",
       "      <th>country_name</th>\n",
       "      <th>competition_gender</th>\n",
       "      <th>season_name</th>\n",
       "    </tr>\n",
       "  </thead>\n",
       "  <tbody>\n",
       "    <tr>\n",
       "      <th>17</th>\n",
       "      <td>3</td>\n",
       "      <td>43</td>\n",
       "      <td>FIFA World Cup</td>\n",
       "      <td>International</td>\n",
       "      <td>male</td>\n",
       "      <td>2018</td>\n",
       "    </tr>\n",
       "  </tbody>\n",
       "</table>\n",
       "</div>"
      ],
      "text/plain": [
       "    season_id  competition_id competition_name   country_name  \\\n",
       "17          3              43   FIFA World Cup  International   \n",
       "\n",
       "   competition_gender season_name  \n",
       "17               male        2018  "
      ]
     },
     "execution_count": 1,
     "metadata": {},
     "output_type": "execute_result"
    }
   ],
   "source": [
    "# Fifa world cup\n",
    "selected_competitions = competitions[competitions.competition_name == \"FIFA World Cup\"]\n",
    "\n",
    "# # Messi data\n",
    "# selected_competitions = competitions[competitions.competition_name == \"La Liga\"]\n",
    "\n",
    "# # FA Women's Super League\n",
    "# selected_competitions = competitions[competitions.competition_name == \"FA Women's Super League\"]\n",
    "selected_competitions"
   ]
  },
  {
   "cell_type": "code",
   "execution_count": 6,
   "metadata": {
    "execution": {
     "iopub.execute_input": "2021-01-16T14:00:31.263724Z",
     "iopub.status.busy": "2021-01-16T14:00:31.263028Z",
     "iopub.status.idle": "2021-01-16T14:00:31.374703Z",
     "shell.execute_reply": "2021-01-16T14:00:31.375223Z"
    },
    "scrolled": true
   },
   "outputs": [
    {
     "data": {
      "text/html": [
       "<div>\n",
       "<style scoped>\n",
       "    .dataframe tbody tr th:only-of-type {\n",
       "        vertical-align: middle;\n",
       "    }\n",
       "\n",
       "    .dataframe tbody tr th {\n",
       "        vertical-align: top;\n",
       "    }\n",
       "\n",
       "    .dataframe thead th {\n",
       "        text-align: right;\n",
       "    }\n",
       "</style>\n",
       "<table border=\"1\" class=\"dataframe\">\n",
       "  <thead>\n",
       "    <tr style=\"text-align: right;\">\n",
       "      <th></th>\n",
       "      <th>home_team_id</th>\n",
       "      <th>away_team_id</th>\n",
       "      <th>game_date</th>\n",
       "      <th>home_score</th>\n",
       "      <th>away_score</th>\n",
       "    </tr>\n",
       "  </thead>\n",
       "  <tbody>\n",
       "    <tr>\n",
       "      <th>0</th>\n",
       "      <td>785</td>\n",
       "      <td>776</td>\n",
       "      <td>2018-07-01 20:00:00</td>\n",
       "      <td>1</td>\n",
       "      <td>1</td>\n",
       "    </tr>\n",
       "    <tr>\n",
       "      <th>1</th>\n",
       "      <td>775</td>\n",
       "      <td>793</td>\n",
       "      <td>2018-06-22 17:00:00</td>\n",
       "      <td>2</td>\n",
       "      <td>0</td>\n",
       "    </tr>\n",
       "    <tr>\n",
       "      <th>2</th>\n",
       "      <td>789</td>\n",
       "      <td>769</td>\n",
       "      <td>2018-06-24 20:00:00</td>\n",
       "      <td>0</td>\n",
       "      <td>3</td>\n",
       "    </tr>\n",
       "    <tr>\n",
       "      <th>3</th>\n",
       "      <td>785</td>\n",
       "      <td>775</td>\n",
       "      <td>2018-06-16 21:00:00</td>\n",
       "      <td>2</td>\n",
       "      <td>0</td>\n",
       "    </tr>\n",
       "    <tr>\n",
       "      <th>4</th>\n",
       "      <td>781</td>\n",
       "      <td>795</td>\n",
       "      <td>2018-06-22 14:00:00</td>\n",
       "      <td>2</td>\n",
       "      <td>0</td>\n",
       "    </tr>\n",
       "    <tr>\n",
       "      <th>...</th>\n",
       "      <td>...</td>\n",
       "      <td>...</td>\n",
       "      <td>...</td>\n",
       "      <td>...</td>\n",
       "      <td>...</td>\n",
       "    </tr>\n",
       "    <tr>\n",
       "      <th>59</th>\n",
       "      <td>769</td>\n",
       "      <td>778</td>\n",
       "      <td>2018-06-19 14:00:00</td>\n",
       "      <td>1</td>\n",
       "      <td>2</td>\n",
       "    </tr>\n",
       "    <tr>\n",
       "      <th>60</th>\n",
       "      <td>771</td>\n",
       "      <td>782</td>\n",
       "      <td>2018-07-10 20:00:00</td>\n",
       "      <td>1</td>\n",
       "      <td>0</td>\n",
       "    </tr>\n",
       "    <tr>\n",
       "      <th>61</th>\n",
       "      <td>782</td>\n",
       "      <td>768</td>\n",
       "      <td>2018-07-14 16:00:00</td>\n",
       "      <td>2</td>\n",
       "      <td>0</td>\n",
       "    </tr>\n",
       "    <tr>\n",
       "      <th>62</th>\n",
       "      <td>796</td>\n",
       "      <td>774</td>\n",
       "      <td>2018-06-19 20:00:00</td>\n",
       "      <td>3</td>\n",
       "      <td>1</td>\n",
       "    </tr>\n",
       "    <tr>\n",
       "      <th>63</th>\n",
       "      <td>770</td>\n",
       "      <td>790</td>\n",
       "      <td>2018-06-23 20:00:00</td>\n",
       "      <td>2</td>\n",
       "      <td>1</td>\n",
       "    </tr>\n",
       "  </tbody>\n",
       "</table>\n",
       "<p>64 rows × 5 columns</p>\n",
       "</div>"
      ],
      "text/plain": [
       "    home_team_id  away_team_id           game_date  home_score  away_score\n",
       "0            785           776 2018-07-01 20:00:00           1           1\n",
       "1            775           793 2018-06-22 17:00:00           2           0\n",
       "2            789           769 2018-06-24 20:00:00           0           3\n",
       "3            785           775 2018-06-16 21:00:00           2           0\n",
       "4            781           795 2018-06-22 14:00:00           2           0\n",
       "..           ...           ...                 ...         ...         ...\n",
       "59           769           778 2018-06-19 14:00:00           1           2\n",
       "60           771           782 2018-07-10 20:00:00           1           0\n",
       "61           782           768 2018-07-14 16:00:00           2           0\n",
       "62           796           774 2018-06-19 20:00:00           3           1\n",
       "63           770           790 2018-06-23 20:00:00           2           1\n",
       "\n",
       "[64 rows x 5 columns]"
      ]
     },
     "execution_count": 1,
     "metadata": {},
     "output_type": "execute_result"
    }
   ],
   "source": [
    "# Get matches from all selected competitions\n",
    "games = list(\n",
    "    SBL.games(row.competition_id, row.season_id)\n",
    "    for row in selected_competitions.itertuples()\n",
    ")\n",
    "games = pd.concat(games, sort=True).reset_index(drop=True)\n",
    "games[[\"home_team_id\", \"away_team_id\", \"game_date\", \"home_score\", \"away_score\"]]"
   ]
  },
  {
   "cell_type": "markdown",
   "metadata": {},
   "source": [
    "## Load and convert match data"
   ]
  },
  {
   "cell_type": "code",
   "execution_count": 7,
   "metadata": {
    "execution": {
     "iopub.execute_input": "2021-01-16T14:00:31.381217Z",
     "iopub.status.busy": "2021-01-16T14:00:31.380599Z",
     "iopub.status.idle": "2021-01-16T14:01:55.348490Z",
     "shell.execute_reply": "2021-01-16T14:01:55.349283Z"
    }
   },
   "outputs": [
    {
     "name": "stderr",
     "output_type": "stream",
     "text": [
      "Loading game data: 100%|██████████| 64/64 [01:23<00:00,  1.31s/it]\n"
     ]
    }
   ],
   "source": [
    "games_verbose = tqdm.tqdm(list(games.itertuples()), desc=\"Loading game data\")\n",
    "teams, players = [],[]\n",
    "actions = {}\n",
    "atomic_actions = {}\n",
    "for game in games_verbose:\n",
    "    # load data\n",
    "    teams.append(SBL.teams(game.game_id))\n",
    "    players.append(SBL.players(game.game_id))\n",
    "    events = SBL.events(game.game_id)\n",
    "    \n",
    "    # convert data\n",
    "    actions = statsbomb.convert_to_actions(events, game.home_team_id)\n",
    "    atomic_actions[game.game_id] = atomicspadl.convert_to_atomic(actions)\n",
    "\n",
    "teams = pd.concat(teams).drop_duplicates(\"team_id\").reset_index(drop=True)\n",
    "players = pd.concat(players).reset_index(drop=True)"
   ]
  },
  {
   "cell_type": "markdown",
   "metadata": {},
   "source": [
    "## Store converted spadl data in a h5-file"
   ]
  },
  {
   "cell_type": "code",
   "execution_count": 8,
   "metadata": {
    "execution": {
     "iopub.execute_input": "2021-01-16T14:01:55.359774Z",
     "iopub.status.busy": "2021-01-16T14:01:55.358589Z",
     "iopub.status.idle": "2021-01-16T14:01:59.902819Z",
     "shell.execute_reply": "2021-01-16T14:01:59.901413Z"
    },
    "scrolled": true
   },
   "outputs": [],
   "source": [
    "datafolder = \"../data-fifa\"\n",
    "\n",
    "# Create data folder if it doesn't exist\n",
    "if not os.path.exists(datafolder):\n",
    "    os.mkdir(datafolder)\n",
    "    print(f\"Directory {datafolder} created.\")\n",
    "\n",
    "spadl_h5 = os.path.join(datafolder, \"atomic-spadl-statsbomb.h5\")\n",
    "\n",
    "# Store all spadl data in h5-file\n",
    "with pd.HDFStore(spadl_h5) as spadlstore:\n",
    "    spadlstore[\"competitions\"] = selected_competitions\n",
    "    spadlstore[\"games\"] = games\n",
    "    spadlstore[\"teams\"] = teams\n",
    "    spadlstore[\"players\"] = players[['player_id', 'player_name', 'nickname']].drop_duplicates(subset='player_id')\n",
    "    spadlstore[\"player_games\"] = players[['player_id', 'game_id', 'team_id', 'is_starter', 'starting_position_id', 'starting_position_name', 'minutes_played']]\n",
    "    for game_id in atomic_actions.keys():\n",
    "        spadlstore[f\"atomic_actions/game_{game_id}\"] = atomic_actions[game_id]\n",
    "\n",
    "    spadlstore[\"results\"] = spadl.results_df()\n",
    "    spadlstore[\"bodyparts\"] = spadl.bodyparts_df()\n",
    "    spadlstore[\"atomic_actiontypes\"] = atomicspadl.actiontypes_df()"
   ]
  },
  {
   "cell_type": "markdown",
   "metadata": {},
   "source": [
    "## Plot the spadl data\n",
    "Extra library required: ```pip install matplotsoccer```"
   ]
  },
  {
   "cell_type": "code",
   "execution_count": 9,
   "metadata": {
    "execution": {
     "iopub.execute_input": "2021-01-16T14:01:59.914531Z",
     "iopub.status.busy": "2021-01-16T14:01:59.913598Z",
     "iopub.status.idle": "2021-01-16T14:02:00.299125Z",
     "shell.execute_reply": "2021-01-16T14:02:00.298260Z"
    }
   },
   "outputs": [
    {
     "data": {
      "text/html": [
       "<div>\n",
       "<style scoped>\n",
       "    .dataframe tbody tr th:only-of-type {\n",
       "        vertical-align: middle;\n",
       "    }\n",
       "\n",
       "    .dataframe tbody tr th {\n",
       "        vertical-align: top;\n",
       "    }\n",
       "\n",
       "    .dataframe thead th {\n",
       "        text-align: right;\n",
       "    }\n",
       "</style>\n",
       "<table border=\"1\" class=\"dataframe\">\n",
       "  <thead>\n",
       "    <tr style=\"text-align: right;\">\n",
       "      <th></th>\n",
       "      <th>game_id</th>\n",
       "      <th>original_event_id</th>\n",
       "      <th>period_id</th>\n",
       "      <th>time_seconds</th>\n",
       "      <th>team_id</th>\n",
       "      <th>player_id</th>\n",
       "      <th>start_x</th>\n",
       "      <th>start_y</th>\n",
       "      <th>end_x</th>\n",
       "      <th>end_y</th>\n",
       "      <th>type_id</th>\n",
       "      <th>result_id</th>\n",
       "      <th>bodypart_id</th>\n",
       "      <th>action_id</th>\n",
       "    </tr>\n",
       "  </thead>\n",
       "  <tbody>\n",
       "    <tr>\n",
       "      <th>0</th>\n",
       "      <td>7551</td>\n",
       "      <td>0e97b47d-1744-44bd-b6aa-deaa807181a4</td>\n",
       "      <td>1</td>\n",
       "      <td>0.0</td>\n",
       "      <td>790</td>\n",
       "      <td>5625</td>\n",
       "      <td>52.058824</td>\n",
       "      <td>34.430380</td>\n",
       "      <td>73.235294</td>\n",
       "      <td>30.987342</td>\n",
       "      <td>0</td>\n",
       "      <td>1</td>\n",
       "      <td>0</td>\n",
       "      <td>0</td>\n",
       "    </tr>\n",
       "    <tr>\n",
       "      <th>1</th>\n",
       "      <td>7551</td>\n",
       "      <td>NaN</td>\n",
       "      <td>1</td>\n",
       "      <td>0.5</td>\n",
       "      <td>790</td>\n",
       "      <td>5607</td>\n",
       "      <td>73.235294</td>\n",
       "      <td>30.987342</td>\n",
       "      <td>72.352941</td>\n",
       "      <td>34.430380</td>\n",
       "      <td>21</td>\n",
       "      <td>1</td>\n",
       "      <td>0</td>\n",
       "      <td>1</td>\n",
       "    </tr>\n",
       "    <tr>\n",
       "      <th>2</th>\n",
       "      <td>7551</td>\n",
       "      <td>4621dca4-9a89-4c89-9a24-a8df522a25b8</td>\n",
       "      <td>1</td>\n",
       "      <td>1.0</td>\n",
       "      <td>790</td>\n",
       "      <td>5607</td>\n",
       "      <td>72.352941</td>\n",
       "      <td>34.430380</td>\n",
       "      <td>23.823529</td>\n",
       "      <td>54.227848</td>\n",
       "      <td>0</td>\n",
       "      <td>0</td>\n",
       "      <td>0</td>\n",
       "      <td>2</td>\n",
       "    </tr>\n",
       "    <tr>\n",
       "      <th>3</th>\n",
       "      <td>7551</td>\n",
       "      <td>a8139913-47f6-4651-886e-80494672988d</td>\n",
       "      <td>1</td>\n",
       "      <td>3.0</td>\n",
       "      <td>770</td>\n",
       "      <td>3167</td>\n",
       "      <td>24.705882</td>\n",
       "      <td>53.367089</td>\n",
       "      <td>35.294118</td>\n",
       "      <td>66.278481</td>\n",
       "      <td>0</td>\n",
       "      <td>1</td>\n",
       "      <td>0</td>\n",
       "      <td>3</td>\n",
       "    </tr>\n",
       "    <tr>\n",
       "      <th>4</th>\n",
       "      <td>7551</td>\n",
       "      <td>7e05afc8-ca26-42d1-8438-4d3e29a86c86</td>\n",
       "      <td>1</td>\n",
       "      <td>5.0</td>\n",
       "      <td>770</td>\n",
       "      <td>3186</td>\n",
       "      <td>35.294118</td>\n",
       "      <td>66.278481</td>\n",
       "      <td>34.411765</td>\n",
       "      <td>65.417722</td>\n",
       "      <td>21</td>\n",
       "      <td>1</td>\n",
       "      <td>0</td>\n",
       "      <td>4</td>\n",
       "    </tr>\n",
       "  </tbody>\n",
       "</table>\n",
       "</div>"
      ],
      "text/plain": [
       "   game_id                     original_event_id  period_id  time_seconds  \\\n",
       "0     7551  0e97b47d-1744-44bd-b6aa-deaa807181a4          1           0.0   \n",
       "1     7551                                   NaN          1           0.5   \n",
       "2     7551  4621dca4-9a89-4c89-9a24-a8df522a25b8          1           1.0   \n",
       "3     7551  a8139913-47f6-4651-886e-80494672988d          1           3.0   \n",
       "4     7551  7e05afc8-ca26-42d1-8438-4d3e29a86c86          1           5.0   \n",
       "\n",
       "   team_id  player_id    start_x    start_y      end_x      end_y  type_id  \\\n",
       "0      790       5625  52.058824  34.430380  73.235294  30.987342        0   \n",
       "1      790       5607  73.235294  30.987342  72.352941  34.430380       21   \n",
       "2      790       5607  72.352941  34.430380  23.823529  54.227848        0   \n",
       "3      770       3167  24.705882  53.367089  35.294118  66.278481        0   \n",
       "4      770       3186  35.294118  66.278481  34.411765  65.417722       21   \n",
       "\n",
       "   result_id  bodypart_id  action_id  \n",
       "0          1            0          0  \n",
       "1          1            0          1  \n",
       "2          0            0          2  \n",
       "3          1            0          3  \n",
       "4          1            0          4  "
      ]
     },
     "execution_count": 1,
     "metadata": {},
     "output_type": "execute_result"
    }
   ],
   "source": [
    "# Select England vs Belgium game at World Cup\n",
    "with pd.HDFStore(spadl_h5) as spadlstore:\n",
    "    games = (\n",
    "        spadlstore[\"games\"]\n",
    "        .merge(spadlstore[\"competitions\"], how='left')\n",
    "        .merge(spadlstore[\"teams\"].add_prefix('home_'), how='left')\n",
    "        .merge(spadlstore[\"teams\"].add_prefix('away_'), how='left'))\n",
    "    game = games[(games.competition_name == \"FIFA World Cup\") \n",
    "                  & (games.away_team_name == \"England\")\n",
    "                  & (games.home_team_name == \"Belgium\")]\n",
    "    game_id = game.game_id.values[0]\n",
    "    atomic_actions = spadlstore[f\"atomic_actions/game_{game_id}\"]\n",
    "    atomic_actions = (\n",
    "        atomic_actions\n",
    "        .merge(spadlstore[\"atomic_actiontypes\"], how=\"left\")\n",
    "        .merge(spadlstore[\"bodyparts\"], how=\"left\")\n",
    "        .merge(spadlstore[\"players\"], how=\"left\")\n",
    "        .merge(spadlstore[\"teams\"], how=\"left\")\n",
    "    )\n",
    "\n",
    "# use nickname if available else use full name\n",
    "atomic_actions[\"player_name\"] = atomic_actions[[\"nickname\", \"player_name\"]].apply(lambda x: x[0] if x[0] else x[1],axis=1)\n",
    "del atomic_actions['nickname']\n",
    "actions[:5]"
   ]
  },
  {
   "cell_type": "code",
   "execution_count": 10,
   "metadata": {
    "execution": {
     "iopub.execute_input": "2021-01-16T14:02:00.307303Z",
     "iopub.status.busy": "2021-01-16T14:02:00.306656Z",
     "iopub.status.idle": "2021-01-16T14:02:01.613998Z",
     "shell.execute_reply": "2021-01-16T14:02:01.614506Z"
    }
   },
   "outputs": [
    {
     "name": "stdout",
     "output_type": "stream",
     "text": [
      "2018-07-14 16:00:00 Belgium 2-0 England 4'\n"
     ]
    },
    {
     "data": {
      "image/png": "[encoded data removed]",
      "text/plain": [
       "<Figure size 432x288 with 1 Axes>"
      ]
     },
     "metadata": {
      "needs_background": "light"
     },
     "output_type": "display_data"
    },
    {
     "name": "stdout",
     "output_type": "stream",
     "text": [
      "2018-07-14 16:00:00 Belgium 2-0 England 82'\n"
     ]
    },
    {
     "data": {
      "image/png": "[encoded data removed]",
      "text/plain": [
       "<Figure size 432x288 with 1 Axes>"
      ]
     },
     "metadata": {
      "needs_background": "light"
     },
     "output_type": "display_data"
    }
   ],
   "source": [
    "import matplotsoccer\n",
    "\n",
    "for shot in list(atomic_actions[(atomic_actions.type_name == \"goal\")].index):\n",
    "    a = atomic_actions[shot-8:shot+1].copy()\n",
    "\n",
    "    a[\"start_x\"] = a.x\n",
    "    a[\"start_y\"] = a.y\n",
    "    a[\"end_x\"] = a.x + a.dx\n",
    "    a[\"end_y\"] = a.y + a.dy\n",
    "\n",
    "    g = game.iloc[0]\n",
    "    minute = int((a.period_id.values[0] - 1) * 45 + a.time_seconds.values[0] // 60)\n",
    "    game_info = f\"{g.game_date} {g.home_team_name} {g.home_score}-{g.away_score} {g.away_team_name} {minute + 1}'\"\n",
    "    print(game_info)\n",
    "\n",
    "    def nice_time(row):\n",
    "        minute = int((row.period_id-1) * 45 + row.time_seconds // 60)\n",
    "        second = int(row.time_seconds % 60)\n",
    "        return f\"{minute}m{second}s\"\n",
    "\n",
    "    a[\"nice_time\"] = a.apply(nice_time,axis=1)\n",
    "    labels = a[[\"nice_time\", \"type_name\", \"player_name\", \"team_name\"]]\n",
    "\n",
    "    matplotsoccer.actions(\n",
    "        location=a[[\"start_x\", \"start_y\", \"end_x\", \"end_y\"]],\n",
    "        action_type=a.type_name,\n",
    "        team= a.team_name,\n",
    "        label=labels,\n",
    "        labeltitle=[\"time\", \"actiontype\", \"player_name\", \"team\"],\n",
    "        zoom=False,\n",
    "        figsize=6\n",
    "    )"
   ]
  },
  {
   "cell_type": "code",
   "execution_count": null,
   "metadata": {},
   "outputs": [],
   "source": []
  }
 ],
 "metadata": {
  "kernelspec": {
   "display_name": "socceraction",
   "language": "python",
   "name": "socceraction"
  },
  "language_info": {
   "codemirror_mode": {
    "name": "ipython",
    "version": 3
   },
   "file_extension": ".py",
   "mimetype": "text/x-python",
   "name": "python",
   "nbconvert_exporter": "python",
   "pygments_lexer": "ipython3",
   "version": "3.6.2"
  },
  "varInspector": {
   "cols": {
    "lenName": 16,
    "lenType": 16,
    "lenVar": 40
   },
   "kernels_config": {
    "python": {
     "delete_cmd_postfix": "",
     "delete_cmd_prefix": "del ",
     "library": "var_list.py",
     "varRefreshCmd": "print(var_dic_list())"
    },
    "r": {
     "delete_cmd_postfix": ") ",
     "delete_cmd_prefix": "rm(",
     "library": "var_list.r",
     "varRefreshCmd": "cat(var_dic_list()) "
    }
   },
   "types_to_exclude": [
    "module",
    "function",
    "builtin_function_or_method",
    "instance",
    "_Feature"
   ],
   "window_display": false
  }
 },
 "nbformat": 4,
 "nbformat_minor": 2
}
