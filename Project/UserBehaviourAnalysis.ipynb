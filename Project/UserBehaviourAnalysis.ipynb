{
 "cells": [
  {
   "cell_type": "markdown",
   "source": [
    "# 用户行为分析\n",
    "\n",
    "## 数据预处理"
   ],
   "metadata": {
    "collapsed": false,
    "pycharm": {
     "name": "#%% md\n"
    }
   }
  },
  {
   "cell_type": "code",
   "metadata": {
    "collapsed": true,
    "pycharm": {
     "name": "#%%\n"
    }
   },
   "source": [
    "import numpy as np\n",
    "import pandas as pd\n",
    "import matplotlib.pyplot as plt\n",
    "import seaborn as sns\n",
    "from datetime import datetime\n",
    "\n",
    "# matplotlib 设置中文\n",
    "plt.rcParams['font.sans-serif'] = ['SimHei']\n",
    "plt.rcParams['axes.unicode_minus'] = False\n",
    "pd.options.mode.chained_assignment = None  # default='warn'\n",
    "\n",
    "DATA_PATH = \"UserBehavior.csv\"\n",
    "\n",
    "# 读取数据\n",
    "df = pd.read_csv(DATA_PATH, header=None, nrows=10000)\n",
    "\n",
    "# 由于原始数据没有列名信息，进行列名重命名\n",
    "df.columns = ['user_id', 'product_id', 'category_id', 'behaviour', 'timestamp']\n",
    "\n",
    "# 处理缺失值\n",
    "df.dropna(inplace=True)\n",
    "\n",
    "# 转换时间戳\n",
    "## 时间戳转换为时间\n",
    "df['datetime'] = pd.to_datetime(df['timestamp'], unit='s', origin=pd.Timestamp('1970-01-01 08:00:00'))\n",
    "df['date'] = df['datetime'].dt.date\n",
    "df['time'] = df['datetime'].dt.time\n",
    "df['hour'] = df['datetime'].dt.hour\n",
    "df['weekday'] = df['datetime'].dt.weekday\n",
    "\n",
    "df['date'].value_counts()\n",
    "\n",
    "# 发现有异常事件，处理异常时间\n",
    "df = df[(df['datetime'] >= '2017-11-25 00:00:00') & (df['datetime'] < '2017-12-04 00:00:00')]"
   ],
   "execution_count": 29,
   "outputs": []
  },
  {
   "cell_type": "markdown",
   "source": [
    "## 用户购物情况整体分析\n",
    "\n",
    "1. 统计访问量、用户数、平均访问量\n",
    "2. 统计跳失率（跳失率即只有点击行为的用户/总用户数）"
   ],
   "metadata": {
    "collapsed": false
   }
  },
  {
   "cell_type": "code",
   "execution_count": 27,
   "outputs": [
    {
     "name": "stdout",
     "output_type": "stream",
     "text": [
      "访问量：8983\n",
      "用户数：92\n",
      "平均访问量：97.6413043478261\n",
      "\n",
      "在 92 用户中，有 8 用户跳失，跳失率为  8.70%\n"
     ]
    }
   ],
   "source": [
    "PV = df['behaviour'].value_counts()['pv']\n",
    "UV = len(df['user_id'].unique())\n",
    "average = PV / UV\n",
    "print('访问量：{}\\n用户数：{}\\n平均访问量：{}\\n'.format(PV, UV, average))\n",
    "\n",
    "not_lost_behaviour = ['fav', 'buy', 'cart']\n",
    "lost_UV = UV - len(df[df['behaviour'].isin(not_lost_behaviour)]['user_id'].unique())\n",
    "lost_rate = lost_UV / UV\n",
    "\n",
    "print('在 {} 用户中，有 {} 用户跳失，跳失率为 {: .2f}%'.format(UV, lost_UV, lost_rate * 100))"
   ],
   "metadata": {
    "collapsed": false,
    "pycharm": {
     "name": "#%%\n"
    }
   }
  },
  {
   "cell_type": "markdown",
   "source": [
    "## 用户活跃规律\n",
    "\n",
    "1. 用户在一天中的活跃情况\n",
    "2. 用户在一周中的活跃情况\n",
    "3. 一天不同时段的成交量\n",
    "\n",
    "### 用户在一天中的活跃情况"
   ],
   "metadata": {
    "collapsed": false,
    "pycharm": {
     "name": "#%% md\n"
    }
   }
  },
  {
   "cell_type": "code",
   "source": [
    "data = df.drop_duplicates(['user_id', 'date'])\n",
    "df['user_id'].groupby(df['date']).count()\n",
    "\n",
    "df[df['behaviour'] == 'pv']['behaviour'].groupby(df['date']).count()\n",
    "\n",
    "plt.figure(figsize=(10, 5))  #调整画布大小\n",
    "plt.tick_params(labelsize=10)  #调整标签字体大小\n",
    "sns.countplot(x='hour', data=df[df['behaviour'] == 'pv'], color='red', label='访问量')"
   ],
   "metadata": {
    "collapsed": false,
    "pycharm": {
     "name": "#%%\n"
    }
   },
   "execution_count": 28,
   "outputs": [
    {
     "data": {
      "text/plain": "<AxesSubplot:xlabel='hour', ylabel='count'>"
     },
     "execution_count": 28,
     "metadata": {},
     "output_type": "execute_result"
    },
    {
     "data": {
      "text/plain": "<Figure size 720x360 with 1 Axes>",
      "image/png": "[encoded data removed]"
     },
     "metadata": {
      "needs_background": "light"
     },
     "output_type": "display_data"
    }
   ]
  },
  {
   "cell_type": "markdown",
   "source": [
    "### 用户在一周中的活跃情况"
   ],
   "metadata": {
    "collapsed": false
   }
  },
  {
   "cell_type": "code",
   "execution_count": 29,
   "outputs": [
    {
     "data": {
      "text/plain": "<AxesSubplot:title={'center':'用户在一周中的活跃情况'}, xlabel='weekday', ylabel='count'>"
     },
     "execution_count": 29,
     "metadata": {},
     "output_type": "execute_result"
    },
    {
     "data": {
      "text/plain": "<Figure size 720x360 with 1 Axes>",
      "image/png": "[encoded data removed]"
     },
     "metadata": {
      "needs_background": "light"
     },
     "output_type": "display_data"
    }
   ],
   "source": [
    "f, ax = plt.subplots(figsize=(10, 5))\n",
    "ax.tick_params(labelsize=10)\n",
    "ax.set_title('用户在一周中的活跃情况', fontsize=18)\n",
    "sns.countplot(x='weekday', data=df[df['behaviour'] == 'pv'], color='red')"
   ],
   "metadata": {
    "collapsed": false,
    "pycharm": {
     "name": "#%%\n"
    }
   }
  },
  {
   "cell_type": "markdown",
   "source": [
    "### 在一天不同时段的成交量"
   ],
   "metadata": {
    "collapsed": false,
    "pycharm": {
     "name": "#%% md\n"
    }
   }
  },
  {
   "cell_type": "code",
   "execution_count": 30,
   "outputs": [
    {
     "data": {
      "text/plain": "<AxesSubplot:title={'center':'一天不同时段的成交量'}, xlabel='hour', ylabel='count'>"
     },
     "execution_count": 30,
     "metadata": {},
     "output_type": "execute_result"
    },
    {
     "data": {
      "text/plain": "<Figure size 720x360 with 1 Axes>",
      "image/png": "[encoded data removed]"
     },
     "metadata": {
      "needs_background": "light"
     },
     "output_type": "display_data"
    }
   ],
   "source": [
    "data[data['behaviour'] == 'buy']['behaviour'].groupby(data['hour']).count()\n",
    "f, ax = plt.subplots(figsize=(10, 5))\n",
    "ax.tick_params(labelsize=10)\n",
    "ax.set_title('一天不同时段的成交量', fontsize=18)\n",
    "sns.countplot(x='hour', data=df[df['behaviour'] == 'buy'], color=\"red\")"
   ],
   "metadata": {
    "collapsed": false,
    "pycharm": {
     "name": "#%%\n"
    }
   }
  },
  {
   "cell_type": "markdown",
   "source": [
    "## 行为转化漏斗模型"
   ],
   "metadata": {
    "collapsed": false,
    "pycharm": {
     "name": "#%% md\n"
    }
   }
  },
  {
   "cell_type": "code",
   "execution_count": 31,
   "outputs": [
    {
     "data": {
      "text/plain": "<AxesSubplot:xlabel='count', ylabel='behaviour'>"
     },
     "execution_count": 31,
     "metadata": {},
     "output_type": "execute_result"
    },
    {
     "data": {
      "text/plain": "<Figure size 432x288 with 1 Axes>",
      "image/png": "[encoded data removed]"
     },
     "metadata": {
      "needs_background": "light"
     },
     "output_type": "display_data"
    }
   ],
   "source": [
    "sns.countplot(y='behaviour', data=df, color='red', order=['pv', 'cart', 'fav', 'buy'])"
   ],
   "metadata": {
    "collapsed": false,
    "pycharm": {
     "name": "#%%\n"
    }
   }
  },
  {
   "cell_type": "code",
   "execution_count": 32,
   "outputs": [
    {
     "name": "stdout",
     "output_type": "stream",
     "text": [
      "浏览到加入购物车转化率：43.48%\n",
      "浏览到加入收藏转化率：11.96%\n",
      "收藏到购买转化率：15.15%\n"
     ]
    }
   ],
   "source": [
    "# 每个环节的转化率\n",
    "\n",
    "# 浏览到加入购物车转化率\n",
    "data = pd.merge(df[df['behaviour'] == 'pv'], df[df['behaviour'] == 'cart'],\n",
    "                on=['user_id', 'product_id', 'category_id'])\n",
    "data = data[data['timestamp_x'] < data['timestamp_y']]\n",
    "pv2cart = len(data['user_id'].unique()) / len(df[df['behaviour'] == 'pv']['user_id'].unique())\n",
    "\n",
    "print('浏览到加入购物车转化率：{:.2f}%'.format(pv2cart * 100))\n",
    "\n",
    "# 浏览到收藏转化率\n",
    "data = pd.merge(df[df['behaviour'] == 'pv'], df[df['behaviour'] == 'fav'],\n",
    "                on=['user_id', 'product_id', 'category_id'])  #同一用户同一商品既浏览又收藏数据\n",
    "data = data[data['timestamp_x'] < data['timestamp_y']]  #同一用户同一商品先浏览再收藏数据\n",
    "pv2fav = len(data['user_id'].unique()) / len(df[df['behaviour'] == 'pv']['user_id'].unique())  #用户浏览加入收藏的转化率\n",
    "\n",
    "print('浏览到加入收藏转化率：{:.2f}%'.format(pv2fav * 100))\n",
    "\n",
    "# 收藏到购买转化率\n",
    "data = pd.merge(df[df['behaviour'] == 'fav'], df[df['behaviour'] == 'buy'],\n",
    "                on=['user_id', 'product_id', 'category_id'])\n",
    "data = data[data['timestamp_x'] < data['timestamp_y']]\n",
    "fav2buy = len(data['user_id'].unique()) / len(df[df['behaviour'] == 'fav']['user_id'].unique())\n",
    "\n",
    "print('收藏到购买转化率：{:.2f}%'.format(fav2buy * 100))"
   ],
   "metadata": {
    "collapsed": false,
    "pycharm": {
     "name": "#%%\n"
    }
   }
  },
  {
   "cell_type": "markdown",
   "source": [
    "## 参照 RFM 模型，对用户进行分类找出有价值的用户\n",
    "\n",
    "RFM 模型是衡量客户价值和客户创利能力的重要工具。该模型通过客户的最近交易行为（Recency）、交易频率（Frequency）以及交易金额（Monetary）三项指标来描述该客户的价值状况。一般来说，会将这三项指标分成几个区间进行评分，通过计算评分找到有价值的用户，并对用户进行分类。\n",
    "\n",
    "因为数据源里没有金额相关的信息，所以只通过 R 和 F 来对客户价值进行评分。"
   ],
   "metadata": {
    "collapsed": false,
    "pycharm": {
     "name": "#%% md\n"
    }
   }
  },
  {
   "cell_type": "code",
   "execution_count": 33,
   "outputs": [],
   "source": [
    "data = df[df['behaviour'] == 'buy']  #购买数据\n",
    "data['day_past'] = np.floor((df['timestamp'] - 1511539200) / (60 * 60 * 24))  #购买日期离2017年11月25日的天数\n",
    "\n",
    "\n",
    "def count_recency(n):\n",
    "    if n in [0, 1, 2]:\n",
    "        return 1\n",
    "    elif n in [3, 4]:\n",
    "        return 2\n",
    "    elif n in [5, 6]:\n",
    "        return 3\n",
    "    else:\n",
    "        return 4\n",
    "\n",
    "\n",
    "data['recency'] = data['day_past'].map(lambda x: count_recency(x))\n",
    "\n",
    "recency_data = data.drop_duplicates(['user_id'])\n",
    "\n",
    "\n",
    "def count_frequency(n):\n",
    "    if 1 <= n <= 21:\n",
    "        return 1\n",
    "    elif 22 <= n <= 42:\n",
    "        return 2\n",
    "    elif 43 <= n <= 63:\n",
    "        return 3\n",
    "    else:\n",
    "        return 4\n",
    "\n",
    "\n",
    "repurchase_data = pd.DataFrame(data['user_id'].value_counts())\n",
    "repurchase_data.columns = ['repurchase_count']\n",
    "repurchase_data['user_id'] = repurchase_data.index\n",
    "data = pd.merge(repurchase_data, data, on='user_id')\n",
    "\n",
    "data['frequency'] = data['repurchase_count'].map(lambda x: count_frequency(x))"
   ],
   "metadata": {
    "collapsed": false,
    "pycharm": {
     "name": "#%%\n"
    }
   }
  },
  {
   "cell_type": "markdown",
   "source": [
    "### 分析"
   ],
   "metadata": {
    "collapsed": false,
    "pycharm": {
     "name": "#%% md\n"
    }
   }
  },
  {
   "cell_type": "markdown",
   "source": [
    "对用户进行分类"
   ],
   "metadata": {
    "collapsed": false,
    "pycharm": {
     "name": "#%% md\n"
    }
   }
  },
  {
   "cell_type": "code",
   "execution_count": 34,
   "outputs": [
    {
     "name": "stdout",
     "output_type": "stream",
     "text": [
      "平均最近购买等级：2.3128491620111733\n",
      "平均购买频率等级：1.0\n",
      "重要价值用户数量：0\n",
      "重要保持用户数量：71\n",
      "重要发展用户数量：0\n",
      "一般价值用户数量：108\n",
      "\n"
     ]
    }
   ],
   "source": [
    "recency_avg = data['recency'].mean()\n",
    "frequency_avg = data['frequency'].mean()\n",
    "print('平均最近购买等级：{}\\n平均购买频率等级：{}'.format(recency_avg, frequency_avg))\n",
    "\n",
    "data['user_category'] = np.select([\n",
    "    (data['recency'] > recency_avg) & (data['frequency'] > frequency_avg),\n",
    "    (data['recency'] > recency_avg) & (data['frequency'] <= frequency_avg),\n",
    "    (data['recency'] <= recency_avg) & (data['frequency'] > frequency_avg),\n",
    "    (data['recency'] <= recency_avg) & (data['frequency'] <= frequency_avg)],\n",
    "    ['重要价值用户', '重要保持用户', '重要发展用户', '一般价值用户'])\n",
    "\n",
    "level1 = len(data[data['user_category'] == '重要价值用户'])\n",
    "level2 = len(data[data['user_category'] == '重要保持用户'])\n",
    "level3 = len(data[data['user_category'] == '重要发展用户'])\n",
    "level4 = len(data[data['user_category'] == '一般价值用户'])\n",
    "\n",
    "print('重要价值用户数量：{}\\n重要保持用户数量：{}\\n重要发展用户数量：{}\\n一般价值用户数量：{}\\n'.format(level1, level2, level3, level4))"
   ],
   "metadata": {
    "collapsed": false,
    "pycharm": {
     "name": "#%%\n"
    }
   }
  },
  {
   "cell_type": "markdown",
   "source": [
    "## 基于用户的协同过滤和基于项目的协同过滤"
   ],
   "metadata": {
    "collapsed": false,
    "pycharm": {
     "name": "#%% md\n"
    }
   }
  },
  {
   "cell_type": "code",
   "execution_count": 37,
   "outputs": [
    {
     "name": "stderr",
     "output_type": "stream",
     "text": [
      "<ipython-input-37-a44910a8f2ce>:5: DeprecationWarning: The default dtype for empty Series will be 'object' instead of 'float64' in a future version. Specify a dtype explicitly to silence this warning.\n",
      "  df['tight_user_id'] = pd.Series()\n",
      "<ipython-input-37-a44910a8f2ce>:6: DeprecationWarning: The default dtype for empty Series will be 'object' instead of 'float64' in a future version. Specify a dtype explicitly to silence this warning.\n",
      "  df['tight_product_id'] = pd.Series()\n"
     ]
    },
    {
     "name": "stdout",
     "output_type": "stream",
     "text": [
      "      user_id  product_id  category_id behaviour   timestamp  \\\n",
      "0           1     2268318      2520377        pv  1511544070   \n",
      "1           1     2333346      2520771        pv  1511561733   \n",
      "2           1     2576651       149192        pv  1511572885   \n",
      "3           1     3830808      4181361        pv  1511593493   \n",
      "4           1     4365585      2520377        pv  1511596146   \n",
      "...       ...         ...          ...       ...         ...   \n",
      "9995  1000436     2279117       405755        pv  1512184711   \n",
      "9996  1000436     1542569      3619575       buy  1512184723   \n",
      "9997  1000436     2279117       405755        pv  1512184785   \n",
      "9998  1000436     3249912      2920476        pv  1512184868   \n",
      "9999  1000436      921462      1888306       fav  1512184965   \n",
      "\n",
      "                datetime        date      time  hour  weekday  tight_user_id  \\\n",
      "0    2017-11-25 01:21:10  2017-11-25  01:21:10     1        5              0   \n",
      "1    2017-11-25 06:15:33  2017-11-25  06:15:33     6        5              0   \n",
      "2    2017-11-25 09:21:25  2017-11-25  09:21:25     9        5              0   \n",
      "3    2017-11-25 15:04:53  2017-11-25  15:04:53    15        5              0   \n",
      "4    2017-11-25 15:49:06  2017-11-25  15:49:06    15        5              0   \n",
      "...                  ...         ...       ...   ...      ...            ...   \n",
      "9995 2017-12-02 11:18:31  2017-12-02  11:18:31    11        5             91   \n",
      "9996 2017-12-02 11:18:43  2017-12-02  11:18:43    11        5             91   \n",
      "9997 2017-12-02 11:19:45  2017-12-02  11:19:45    11        5             91   \n",
      "9998 2017-12-02 11:21:08  2017-12-02  11:21:08    11        5             91   \n",
      "9999 2017-12-02 11:22:45  2017-12-02  11:22:45    11        5             91   \n",
      "\n",
      "      tight_product_id  \n",
      "0                 3276  \n",
      "1                 3366  \n",
      "2                 3689  \n",
      "3                 5503  \n",
      "4                 6216  \n",
      "...                ...  \n",
      "9995              3293  \n",
      "9996              2232  \n",
      "9997              3293  \n",
      "9998              4663  \n",
      "9999              1294  \n",
      "\n",
      "[9997 rows x 12 columns]\n",
      "User-based CF RMSE: 1.2277512097919272\n",
      "Item-based CF RMSE: 1.2240596457366568\n"
     ]
    }
   ],
   "source": [
    "n_users = df['user_id'].unique().shape[0]\n",
    "n_items = df['product_id'].unique().shape[0]\n",
    "from sklearn import model_selection as cv\n",
    "\n",
    "df['tight_user_id'] = pd.Series()\n",
    "df['tight_product_id'] = pd.Series()\n",
    "\n",
    "user_id_count = 0\n",
    "product_id_count = 0\n",
    "\n",
    "\n",
    "def count_user_id(x):\n",
    "    global user_id_count\n",
    "    x['tight_user_id'] = user_id_count\n",
    "    user_id_count += 1\n",
    "    return x\n",
    "\n",
    "\n",
    "def count_product_id(x):\n",
    "    global product_id_count\n",
    "    x['tight_product_id'] = product_id_count\n",
    "    product_id_count += 1\n",
    "    return x\n",
    "\n",
    "\n",
    "df = df.groupby('user_id').apply(count_user_id)\n",
    "df = df.groupby('product_id').apply(count_product_id)\n",
    "\n",
    "print(df)\n",
    "\n",
    "train_data, test_data = cv.train_test_split(df, test_size=0.2)\n",
    "\n",
    "\n",
    "def count_rate(behaviour):\n",
    "    if behaviour == 'pv':\n",
    "        return 1\n",
    "    elif behaviour == 'fav' or behaviour == 'cart':\n",
    "        return 2\n",
    "    elif behaviour == 'buy':\n",
    "        return 4\n",
    "    else:\n",
    "        return 1\n",
    "\n",
    "\n",
    "#Create two user-item matrices, one for training and another for testing\n",
    "train_data_matrix = np.zeros((n_users, n_items))\n",
    "for line in train_data.itertuples():\n",
    "    train_data_matrix[line[-2], line[-1]] = count_rate(line[4])\n",
    "test_data_matrix = np.zeros((n_users, n_items))\n",
    "for line in test_data.itertuples():\n",
    "    test_data_matrix[line[-2], line[-1]] = count_rate(line[4])\n",
    "# 你可以使用 sklearn 的 pairwise_distances 函数来计算余弦相似性。注意，因为评价都为正值输出取值应为0到1.\n",
    "from sklearn.metrics.pairwise import pairwise_distances\n",
    "\n",
    "user_similarity = pairwise_distances(train_data_matrix, metric='cosine')\n",
    "item_similarity = pairwise_distances(train_data_matrix.T, metric='cosine')\n",
    "\n",
    "\n",
    "def predict(ratings, similarity, type='user'):\n",
    "    if type == 'user':\n",
    "        mean_user_rating = ratings.mean(axis=1)\n",
    "        #You use np.newaxis so that mean_user_rating has same format as ratings\n",
    "        ratings_diff = (ratings - mean_user_rating[:, np.newaxis])\n",
    "        pred = mean_user_rating[:, np.newaxis] + similarity.dot(ratings_diff) / np.array(\n",
    "            [np.abs(similarity).sum(axis=1)]).T\n",
    "    elif type == 'item':\n",
    "        pred = ratings.dot(similarity) / np.array([np.abs(similarity).sum(axis=1)])\n",
    "    return pred\n",
    "\n",
    "\n",
    "item_prediction = predict(train_data_matrix, item_similarity, type='item')\n",
    "user_prediction = predict(train_data_matrix, user_similarity, type='user')\n",
    "\n",
    "# 用于评估预测精度最流行的指标之一是 Root Mean Squared Error (RMSE)。\n",
    "from sklearn.metrics import mean_squared_error\n",
    "from math import sqrt\n",
    "\n",
    "\n",
    "def rmse(prediction, ground_truth):\n",
    "    prediction = prediction[ground_truth.nonzero()].flatten()  #nonzero(a)返回数组a中值不为零的元素的下标,相当于对稀疏矩阵进行提取\n",
    "    ground_truth = ground_truth[ground_truth.nonzero()].flatten()\n",
    "    return sqrt(mean_squared_error(prediction, ground_truth))\n",
    "\n",
    "\n",
    "print('User-based CF RMSE: ' + str(rmse(user_prediction, test_data_matrix)))\n",
    "print('Item-based CF RMSE: ' + str(rmse(item_prediction, test_data_matrix)))"
   ],
   "metadata": {
    "collapsed": false,
    "pycharm": {
     "name": "#%%\n"
    }
   }
  }
 ],
 "metadata": {
  "kernelspec": {
   "display_name": "Python 3",
   "language": "python",
   "name": "python3"
  },
  "language_info": {
   "codemirror_mode": {
    "name": "ipython",
    "version": 2
   },
   "file_extension": ".py",
   "mimetype": "text/x-python",
   "name": "python",
   "nbconvert_exporter": "python",
   "pygments_lexer": "ipython2",
   "version": "2.7.6"
  }
 },
 "nbformat": 4,
 "nbformat_minor": 0
}