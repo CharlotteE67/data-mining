{
 "cells": [
  {
   "cell_type": "code",
   "execution_count": 1,
   "metadata": {},
   "outputs": [
    {
     "name": "stdout",
     "output_type": "stream",
     "text": [
      "Read and preprocess data finished! Time cost: 15.17 s\n"
     ]
    }
   ],
   "source": [
    "import pandas as pd\n",
    "import numpy as np\n",
    "from matplotlib import pyplot as plt\n",
    "import time\n",
    "\n",
    "start_time = time.time()\n",
    "# 数据读取\n",
    "file_path =\"./dataset/UserBehavior.csv\"\n",
    "data=pd.read_csv(file_path, header=None, index_col=None, nrows=20000000)\n",
    "data.columns=['User_Id','Item_Id','Category_Id','Behavior_type','Timestamp']\n",
    "# data.head(5)\n",
    "end_time = time.time()\n",
    "print(\"Read and preprocess data finished! Time cost: %.2f s\" % (end_time - start_time))"
   ]
  },
  {
   "cell_type": "code",
   "execution_count": 2,
   "metadata": {},
   "outputs": [
    {
     "name": "stdout",
     "output_type": "stream",
     "text": [
      "   User_Id  Item_Id  Category_Id Behavior_type   Timestamp\n",
      "0        1  2268318      2520377            pv  1511544070\n",
      "1        1  2333346      2520771            pv  1511561733\n",
      "2        1  2576651       149192            pv  1511572885\n",
      "3        1  3830808      4181361            pv  1511593493\n",
      "4        1  4365585      2520377            pv  1511596146\n"
     ]
    }
   ],
   "source": [
    "print(data.head(5))"
   ]
  },
  {
   "cell_type": "code",
   "execution_count": 3,
   "metadata": {},
   "outputs": [
    {
     "name": "stdout",
     "output_type": "stream",
     "text": [
      "False    20000000\n",
      "Name: Timestamp, dtype: int64\n",
      "False    20000000\n",
      "Name: Item_Id, dtype: int64\n"
     ]
    }
   ],
   "source": [
    "# 一、数据读取和数据清洗\n",
    "# 1.检查空值 ---检查结果数据无空值\n",
    "print(pd.isnull(data[\"Timestamp\"]).value_counts())\n",
    "print(pd.isnull(data[\"Item_Id\"]).value_counts())"
   ]
  },
  {
   "cell_type": "code",
   "execution_count": 4,
   "metadata": {},
   "outputs": [
    {
     "name": "stdout",
     "output_type": "stream",
     "text": [
      "          User_Id  Item_Id  Category_Id Behavior_type   Timestamp\n",
      "5896224     34939  1384459      4719814            pv -1586903608\n",
      "9025584     49210  2691161      2640118            pv -2034497153\n",
      "9025585     49210  4409284      2640118            pv -2034497135\n",
      "9025586     49210  4944697      2640118            pv -2034497078\n",
      "9025587     49210  4409284      2640118            pv -2034496919\n",
      "9025588     49210  1973455      2578647            pv -2034496686\n",
      "9025589     49210  2156732      2578647            pv -2034496606\n",
      "9025590     49210  4386323      2578647            pv -2034496566\n",
      "9025591     49210  4882098      2578647            pv -2034496546\n",
      "9025592     49210  3552038      2578647            pv -2034496512\n",
      "9025593     49210   890796      2578647            pv -2034496438\n",
      "9025594     49210  5105888      2578647            pv -2034496407\n",
      "9025595     49210  3713509      1467750            pv -2034496405\n",
      "9025596     49210  5105888      2578647            pv -2034496402\n",
      "9025597     49210  3808329      2578647            pv -2034496353\n",
      "9025598     49210  4262697      2578647            pv -2034496291\n",
      "9025599     49210  3687100      2578647            pv -2034495972\n",
      "9025600     49210  1292308      2578647            pv -2034495937\n",
      "9025601     49210  1977076      2640118            pv -2034495763\n",
      "9025602     49210  1436405      2640118            pv -2034495752\n",
      "9025603     49210  4090472      2640118            pv -2034495721\n",
      "9025604     49210  2289899      2640118            pv -2034495541\n",
      "9025605     49210  2602496      3738615            pv -2034494609\n",
      "9025606     49210  3405132      3738615            pv -2034494471\n",
      "9025607     49210  2638656      3738615            pv -2034494443\n",
      "9025608     49210  3968510      3738615            pv -2034494392\n",
      "9025609     49210  4764746      3738615            pv -2034494343\n",
      "9025610     49210  4146103      3738615            pv -2034493975\n",
      "9025611     49210  4556977      3738615            pv -2034493566\n",
      "16048797   819319  4870053      3002561            pv -1270657622\n",
      "19850633   995597  5041910      1216617            pv -1271752600\n",
      "pv      17912690\n",
      "cart     1107532\n",
      "fav       575114\n",
      "buy       404633\n",
      "Name: Behavior_type, dtype: int64\n",
      "Empty DataFrame\n",
      "Columns: [User_Id, Item_Id, Category_Id, Behavior_type, Timestamp]\n",
      "Index: []\n",
      "pv      17912690\n",
      "cart     1107532\n",
      "fav       575114\n",
      "buy       404633\n",
      "Name: Behavior_type, dtype: int64\n"
     ]
    },
    {
     "data": {
      "text/html": [
       "<div>\n",
       "<style scoped>\n",
       "    .dataframe tbody tr th:only-of-type {\n",
       "        vertical-align: middle;\n",
       "    }\n",
       "\n",
       "    .dataframe tbody tr th {\n",
       "        vertical-align: top;\n",
       "    }\n",
       "\n",
       "    .dataframe thead th {\n",
       "        text-align: right;\n",
       "    }\n",
       "</style>\n",
       "<table border=\"1\" class=\"dataframe\">\n",
       "  <thead>\n",
       "    <tr style=\"text-align: right;\">\n",
       "      <th></th>\n",
       "      <th>User_Id</th>\n",
       "      <th>Item_Id</th>\n",
       "      <th>Category_Id</th>\n",
       "      <th>Behavior_type</th>\n",
       "      <th>Timestamp</th>\n",
       "    </tr>\n",
       "  </thead>\n",
       "  <tbody>\n",
       "    <tr>\n",
       "      <th>0</th>\n",
       "      <td>1</td>\n",
       "      <td>2268318</td>\n",
       "      <td>2520377</td>\n",
       "      <td>pv</td>\n",
       "      <td>1511544070</td>\n",
       "    </tr>\n",
       "    <tr>\n",
       "      <th>1</th>\n",
       "      <td>1</td>\n",
       "      <td>2333346</td>\n",
       "      <td>2520771</td>\n",
       "      <td>pv</td>\n",
       "      <td>1511561733</td>\n",
       "    </tr>\n",
       "    <tr>\n",
       "      <th>2</th>\n",
       "      <td>1</td>\n",
       "      <td>2576651</td>\n",
       "      <td>149192</td>\n",
       "      <td>pv</td>\n",
       "      <td>1511572885</td>\n",
       "    </tr>\n",
       "    <tr>\n",
       "      <th>3</th>\n",
       "      <td>1</td>\n",
       "      <td>3830808</td>\n",
       "      <td>4181361</td>\n",
       "      <td>pv</td>\n",
       "      <td>1511593493</td>\n",
       "    </tr>\n",
       "    <tr>\n",
       "      <th>4</th>\n",
       "      <td>1</td>\n",
       "      <td>4365585</td>\n",
       "      <td>2520377</td>\n",
       "      <td>pv</td>\n",
       "      <td>1511596146</td>\n",
       "    </tr>\n",
       "  </tbody>\n",
       "</table>\n",
       "</div>"
      ],
      "text/plain": [
       "   User_Id  Item_Id  Category_Id Behavior_type   Timestamp\n",
       "0        1  2268318      2520377            pv  1511544070\n",
       "1        1  2333346      2520771            pv  1511561733\n",
       "2        1  2576651       149192            pv  1511572885\n",
       "3        1  3830808      4181361            pv  1511593493\n",
       "4        1  4365585      2520377            pv  1511596146"
      ]
     },
     "execution_count": 4,
     "metadata": {},
     "output_type": "execute_result"
    }
   ],
   "source": [
    "# 2.检查异常值\n",
    "# 1）Timestamp存在负值\n",
    "print(data[data[\"Timestamp\"]<0])\n",
    "data = data[data[\"Timestamp\"]>0]\n",
    "# 2）Behavior_type存在异常值\n",
    "print(data[\"Behavior_type\"].value_counts())\n",
    "# 3）检查异常处理结果\n",
    "print(data[data[\"Timestamp\"]<0])\n",
    "print(data[\"Behavior_type\"].value_counts())\n",
    "\n",
    "# print(data.info())  # [19999969 rows x 5 columns]\n",
    "data.head()"
   ]
  },
  {
   "cell_type": "code",
   "execution_count": 5,
   "metadata": {},
   "outputs": [
    {
     "name": "stdout",
     "output_type": "stream",
     "text": [
      "2017-12-02    2762194\n",
      "2017-12-03    2742393\n",
      "2017-12-01    2167368\n",
      "2017-11-26    2124383\n",
      "2017-11-30    2087264\n",
      "2017-11-25    2070079\n",
      "2017-11-29    2047138\n",
      "2017-11-27    2012639\n",
      "2017-11-28    1975748\n",
      "Name: Date, dtype: int64\n"
     ]
    }
   ],
   "source": [
    "# 3.时间戳转换时间单位\n",
    "data.loc[:,'Timestamp']=data['Timestamp'].apply(lambda x: time.strftime(\"%Y-%m-%d %H:%M:%S\", time.localtime(x)))\n",
    "data.loc[:,'Date']=data['Timestamp'].apply(lambda x:x.split(' ')[0])\n",
    "data.loc[:,'Time']=data['Timestamp'].apply(lambda x:x.split(' ')[1])\n",
    "# 只取2017年11月25日至2017年12月3日之间的数据进行研究\n",
    "# print(data[\"Date\"].value_counts())\n",
    "cleaned_data=data[(data[\"Date\"]>='2017-11-25')&(data[\"Date\"]<='2017-12-03')]\n",
    "print(cleaned_data[\"Date\"].value_counts())"
   ]
  },
  {
   "cell_type": "code",
   "execution_count": 6,
   "metadata": {},
   "outputs": [
    {
     "name": "stdout",
     "output_type": "stream",
     "text": [
      "False    19989198\n",
      "True            8\n",
      "dtype: int64\n",
      "False    19989198\n",
      "dtype: int64\n"
     ]
    }
   ],
   "source": [
    "# 4.去除重复数据\n",
    "print(cleaned_data.duplicated().value_counts())\n",
    "cleaned_data=cleaned_data.drop_duplicates(subset=['User_Id','Item_Id','Category_Id','Behavior_type','Timestamp'],keep='first')\n",
    "print(cleaned_data.duplicated().value_counts())\n"
   ]
  },
  {
   "cell_type": "code",
   "execution_count": 7,
   "metadata": {},
   "outputs": [
    {
     "name": "stdout",
     "output_type": "stream",
     "text": [
      "False    19989198\n",
      "dtype: int64\n"
     ]
    }
   ],
   "source": [
    "# 5.预处理数据保存\n",
    "cleaned_data.to_csv('./dataset/cleaned_data.csv', encoding = 'utf-8', index = False)\n",
    "print(cleaned_data.duplicated().value_counts())"
   ]
  },
  {
   "cell_type": "code",
   "execution_count": 8,
   "metadata": {},
   "outputs": [
    {
     "data": {
      "text/html": [
       "<div>\n",
       "<style scoped>\n",
       "    .dataframe tbody tr th:only-of-type {\n",
       "        vertical-align: middle;\n",
       "    }\n",
       "\n",
       "    .dataframe tbody tr th {\n",
       "        vertical-align: top;\n",
       "    }\n",
       "\n",
       "    .dataframe thead th {\n",
       "        text-align: right;\n",
       "    }\n",
       "</style>\n",
       "<table border=\"1\" class=\"dataframe\">\n",
       "  <thead>\n",
       "    <tr style=\"text-align: right;\">\n",
       "      <th></th>\n",
       "      <th>User_Id</th>\n",
       "      <th>Item_Id</th>\n",
       "      <th>Category_Id</th>\n",
       "      <th>Behavior_type</th>\n",
       "      <th>Timestamp</th>\n",
       "      <th>Date</th>\n",
       "      <th>Time</th>\n",
       "    </tr>\n",
       "  </thead>\n",
       "  <tbody>\n",
       "    <tr>\n",
       "      <th>0</th>\n",
       "      <td>1</td>\n",
       "      <td>2268318</td>\n",
       "      <td>2520377</td>\n",
       "      <td>pv</td>\n",
       "      <td>2017-11-25 01:21:10</td>\n",
       "      <td>2017-11-25</td>\n",
       "      <td>01:21:10</td>\n",
       "    </tr>\n",
       "    <tr>\n",
       "      <th>1</th>\n",
       "      <td>1</td>\n",
       "      <td>2333346</td>\n",
       "      <td>2520771</td>\n",
       "      <td>pv</td>\n",
       "      <td>2017-11-25 06:15:33</td>\n",
       "      <td>2017-11-25</td>\n",
       "      <td>06:15:33</td>\n",
       "    </tr>\n",
       "    <tr>\n",
       "      <th>2</th>\n",
       "      <td>1</td>\n",
       "      <td>2576651</td>\n",
       "      <td>149192</td>\n",
       "      <td>pv</td>\n",
       "      <td>2017-11-25 09:21:25</td>\n",
       "      <td>2017-11-25</td>\n",
       "      <td>09:21:25</td>\n",
       "    </tr>\n",
       "    <tr>\n",
       "      <th>3</th>\n",
       "      <td>1</td>\n",
       "      <td>3830808</td>\n",
       "      <td>4181361</td>\n",
       "      <td>pv</td>\n",
       "      <td>2017-11-25 15:04:53</td>\n",
       "      <td>2017-11-25</td>\n",
       "      <td>15:04:53</td>\n",
       "    </tr>\n",
       "    <tr>\n",
       "      <th>4</th>\n",
       "      <td>1</td>\n",
       "      <td>4365585</td>\n",
       "      <td>2520377</td>\n",
       "      <td>pv</td>\n",
       "      <td>2017-11-25 15:49:06</td>\n",
       "      <td>2017-11-25</td>\n",
       "      <td>15:49:06</td>\n",
       "    </tr>\n",
       "  </tbody>\n",
       "</table>\n",
       "</div>"
      ],
      "text/plain": [
       "   User_Id  Item_Id  Category_Id Behavior_type            Timestamp  \\\n",
       "0        1  2268318      2520377            pv  2017-11-25 01:21:10   \n",
       "1        1  2333346      2520771            pv  2017-11-25 06:15:33   \n",
       "2        1  2576651       149192            pv  2017-11-25 09:21:25   \n",
       "3        1  3830808      4181361            pv  2017-11-25 15:04:53   \n",
       "4        1  4365585      2520377            pv  2017-11-25 15:49:06   \n",
       "\n",
       "         Date      Time  \n",
       "0  2017-11-25  01:21:10  \n",
       "1  2017-11-25  06:15:33  \n",
       "2  2017-11-25  09:21:25  \n",
       "3  2017-11-25  15:04:53  \n",
       "4  2017-11-25  15:49:06  "
      ]
     },
     "execution_count": 8,
     "metadata": {},
     "output_type": "execute_result"
    }
   ],
   "source": [
    "import pandas as pd\n",
    "import numpy as np\n",
    "from matplotlib import pyplot as plt\n",
    "file_path =\"./dataset/cleaned_data.csv\"\n",
    "data=pd.read_csv(file_path)\n",
    "data.head()"
   ]
  },
  {
   "cell_type": "code",
   "execution_count": 9,
   "metadata": {},
   "outputs": [
    {
     "data": {
      "text/html": [
       "<div>\n",
       "<style scoped>\n",
       "    .dataframe tbody tr th:only-of-type {\n",
       "        vertical-align: middle;\n",
       "    }\n",
       "\n",
       "    .dataframe tbody tr th {\n",
       "        vertical-align: top;\n",
       "    }\n",
       "\n",
       "    .dataframe thead th {\n",
       "        text-align: right;\n",
       "    }\n",
       "</style>\n",
       "<table border=\"1\" class=\"dataframe\">\n",
       "  <thead>\n",
       "    <tr style=\"text-align: right;\">\n",
       "      <th></th>\n",
       "      <th>用户数量</th>\n",
       "      <th>产品数量</th>\n",
       "      <th>产品种类数量</th>\n",
       "      <th>统计天数</th>\n",
       "    </tr>\n",
       "  </thead>\n",
       "  <tbody>\n",
       "    <tr>\n",
       "      <th>1</th>\n",
       "      <td>198001</td>\n",
       "      <td>2208950</td>\n",
       "      <td>8562</td>\n",
       "      <td>9</td>\n",
       "    </tr>\n",
       "  </tbody>\n",
       "</table>\n",
       "</div>"
      ],
      "text/plain": [
       "     用户数量     产品数量  产品种类数量  统计天数\n",
       "1  198001  2208950    8562     9"
      ]
     },
     "execution_count": 9,
     "metadata": {},
     "output_type": "execute_result"
    }
   ],
   "source": [
    "describe=pd.DataFrame({\"用户数量\":len(set(list(data[\"User_Id\"]))),\"产品数量\":len(set(list(data[\"Item_Id\"]))),\"产品种类数量\":len(set(list(data[\"Category_Id\"]))),\"统计天数\":len(set(list(data[\"Date\"])))},index=['1'])\n",
    "describe"
   ]
  },
  {
   "cell_type": "code",
   "execution_count": 10,
   "metadata": {
    "scrolled": false
   },
   "outputs": [
    {
     "name": "stdout",
     "output_type": "stream",
     "text": [
      "          User_Id  Item_Id  Category_Id  Behavior_type            Timestamp  \\\n",
      "0               1  2268318      2520377              0  2017-11-25 01:21:10   \n",
      "1               1  2333346      2520771              0  2017-11-25 06:15:33   \n",
      "2               1  2576651       149192              0  2017-11-25 09:21:25   \n",
      "3               1  3830808      4181361              0  2017-11-25 15:04:53   \n",
      "4               1  4365585      2520377              0  2017-11-25 15:49:06   \n",
      "...           ...      ...          ...            ...                  ...   \n",
      "19989193  1002513  3285794      1045172              0  2017-11-28 23:31:22   \n",
      "19989194  1002513   638230      1045172              0  2017-11-28 23:31:43   \n",
      "19989195  1002513  1286197      1045172              0  2017-11-28 23:32:36   \n",
      "19989196  1002513  2009534      1045172              0  2017-11-28 23:34:39   \n",
      "19989197  1002513  1286197      1045172              0  2017-11-28 23:35:29   \n",
      "\n",
      "                Date      Time  \n",
      "0         2017-11-25  01:21:10  \n",
      "1         2017-11-25  06:15:33  \n",
      "2         2017-11-25  09:21:25  \n",
      "3         2017-11-25  15:04:53  \n",
      "4         2017-11-25  15:49:06  \n",
      "...              ...       ...  \n",
      "19989193  2017-11-28  23:31:22  \n",
      "19989194  2017-11-28  23:31:43  \n",
      "19989195  2017-11-28  23:32:36  \n",
      "19989196  2017-11-28  23:34:39  \n",
      "19989197  2017-11-28  23:35:29  \n",
      "\n",
      "[19989198 rows x 7 columns]\n",
      "          User_Id  Item_Id  Category_Id Behavior_type            Timestamp  \\\n",
      "0               1  2268318      2520377           [0]  2017-11-25 01:21:10   \n",
      "1               1  2333346      2520771           [0]  2017-11-25 06:15:33   \n",
      "2               1  2576651       149192           [0]  2017-11-25 09:21:25   \n",
      "3               1  3830808      4181361           [0]  2017-11-25 15:04:53   \n",
      "4               1  4365585      2520377           [0]  2017-11-25 15:49:06   \n",
      "...           ...      ...          ...           ...                  ...   \n",
      "19989193  1002513  3285794      1045172           [0]  2017-11-28 23:31:22   \n",
      "19989194  1002513   638230      1045172           [0]  2017-11-28 23:31:43   \n",
      "19989195  1002513  1286197      1045172           [0]  2017-11-28 23:32:36   \n",
      "19989196  1002513  2009534      1045172           [0]  2017-11-28 23:34:39   \n",
      "19989197  1002513  1286197      1045172           [0]  2017-11-28 23:35:29   \n",
      "\n",
      "                Date      Time  \n",
      "0         2017-11-25  01:21:10  \n",
      "1         2017-11-25  06:15:33  \n",
      "2         2017-11-25  09:21:25  \n",
      "3         2017-11-25  15:04:53  \n",
      "4         2017-11-25  15:49:06  \n",
      "...              ...       ...  \n",
      "19989193  2017-11-28  23:31:22  \n",
      "19989194  2017-11-28  23:31:43  \n",
      "19989195  2017-11-28  23:32:36  \n",
      "19989196  2017-11-28  23:34:39  \n",
      "19989197  2017-11-28  23:35:29  \n",
      "\n",
      "[19989198 rows x 7 columns]\n"
     ]
    },
    {
     "data": {
      "text/html": [
       "<div>\n",
       "<style scoped>\n",
       "    .dataframe tbody tr th:only-of-type {\n",
       "        vertical-align: middle;\n",
       "    }\n",
       "\n",
       "    .dataframe tbody tr th {\n",
       "        vertical-align: top;\n",
       "    }\n",
       "\n",
       "    .dataframe thead th {\n",
       "        text-align: right;\n",
       "    }\n",
       "</style>\n",
       "<table border=\"1\" class=\"dataframe\">\n",
       "  <thead>\n",
       "    <tr style=\"text-align: right;\">\n",
       "      <th></th>\n",
       "      <th></th>\n",
       "      <th>Behavior_list</th>\n",
       "    </tr>\n",
       "    <tr>\n",
       "      <th>User_Id</th>\n",
       "      <th>Category_Id</th>\n",
       "      <th></th>\n",
       "    </tr>\n",
       "  </thead>\n",
       "  <tbody>\n",
       "    <tr>\n",
       "      <th rowspan=\"5\" valign=\"top\">1</th>\n",
       "      <th>149192</th>\n",
       "      <td>[0, 0, 0, 0, 0, 0]</td>\n",
       "    </tr>\n",
       "    <tr>\n",
       "      <th>411153</th>\n",
       "      <td>[0, 0, 0, 0, 0, 0]</td>\n",
       "    </tr>\n",
       "    <tr>\n",
       "      <th>982926</th>\n",
       "      <td>[0]</td>\n",
       "    </tr>\n",
       "    <tr>\n",
       "      <th>1080785</th>\n",
       "      <td>[0]</td>\n",
       "    </tr>\n",
       "    <tr>\n",
       "      <th>1320293</th>\n",
       "      <td>[0, 0]</td>\n",
       "    </tr>\n",
       "    <tr>\n",
       "      <th>...</th>\n",
       "      <th>...</th>\n",
       "      <td>...</td>\n",
       "    </tr>\n",
       "    <tr>\n",
       "      <th rowspan=\"5\" valign=\"top\">1018011</th>\n",
       "      <th>2322253</th>\n",
       "      <td>[0]</td>\n",
       "    </tr>\n",
       "    <tr>\n",
       "      <th>2885642</th>\n",
       "      <td>[0, 0, 0, 0, 0, 0, 0, 0, 0, 0, 0, 0, 0, 0, 0, ...</td>\n",
       "    </tr>\n",
       "    <tr>\n",
       "      <th>3669044</th>\n",
       "      <td>[3, 0]</td>\n",
       "    </tr>\n",
       "    <tr>\n",
       "      <th>4284875</th>\n",
       "      <td>[0]</td>\n",
       "    </tr>\n",
       "    <tr>\n",
       "      <th>4719814</th>\n",
       "      <td>[0, 0, 0, 0]</td>\n",
       "    </tr>\n",
       "  </tbody>\n",
       "</table>\n",
       "<p>4845701 rows × 1 columns</p>\n",
       "</div>"
      ],
      "text/plain": [
       "                                                         Behavior_list\n",
       "User_Id Category_Id                                                   \n",
       "1       149192                                      [0, 0, 0, 0, 0, 0]\n",
       "        411153                                      [0, 0, 0, 0, 0, 0]\n",
       "        982926                                                     [0]\n",
       "        1080785                                                    [0]\n",
       "        1320293                                                 [0, 0]\n",
       "...                                                                ...\n",
       "1018011 2322253                                                    [0]\n",
       "        2885642      [0, 0, 0, 0, 0, 0, 0, 0, 0, 0, 0, 0, 0, 0, 0, ...\n",
       "        3669044                                                 [3, 0]\n",
       "        4284875                                                    [0]\n",
       "        4719814                                           [0, 0, 0, 0]\n",
       "\n",
       "[4845701 rows x 1 columns]"
      ]
     },
     "execution_count": 10,
     "metadata": {},
     "output_type": "execute_result"
    }
   ],
   "source": [
    "data['Behavior_type'] = data['Behavior_type'].map({'pv':0,'cart':1,'fav':2,'buy':3})\n",
    "print(data)\n",
    "data['Behavior_type'] = data['Behavior_type'].apply(lambda x: list(str(x)))\n",
    "print(data)\n",
    "c = data.groupby(['User_Id', 'Category_Id'])['Behavior_type'].sum()\n",
    "process = pd.DataFrame()\n",
    "process['Behavior_list'] = c\n",
    "process"
   ]
  },
  {
   "cell_type": "code",
   "execution_count": 11,
   "metadata": {},
   "outputs": [
    {
     "name": "stdout",
     "output_type": "stream",
     "text": [
      "198001\n",
      "8562\n"
     ]
    }
   ],
   "source": [
    "behaviors = []\n",
    "for item in c:\n",
    "    behaviors.append(item)\n",
    "    \n",
    "# collect index for users and items\n",
    "u_count = 0\n",
    "i_count = 0\n",
    "user_dict = dict()\n",
    "item_dict = dict()\n",
    "for index in c.index:\n",
    "    if index[0] not in user_dict:\n",
    "        user_dict[index[0]] = u_count\n",
    "        u_count += 1\n",
    "    if index[1] not in item_dict:\n",
    "        item_dict[index[1]] = i_count\n",
    "        i_count += 1\n",
    "print(u_count)\n",
    "print(i_count)"
   ]
  },
  {
   "cell_type": "code",
   "execution_count": 24,
   "metadata": {},
   "outputs": [
    {
     "name": "stdout",
     "output_type": "stream",
     "text": [
      "19800 8562\n",
      "[1. 1. 1. 1. 1. 1. 1. 1. 1. 1. 1. 1. 1. 1. 1. 1. 1. 1. 1. 1. 0. 0. 0. 0.\n",
      " 0. 0. 0. 0. 0. 0. 0. 0. 0. 0. 0. 0. 0. 0. 0. 0. 0. 0. 0. 0. 0. 0. 0. 0.\n",
      " 0. 0.]\n",
      "[0. 0. 1. 0. 1. 0. 1. 0. 0. 1. 1. 0. 0. 1. 1. 1. 0. 0. 1. 0. 1. 1. 1. 1.\n",
      " 1. 1. 1. 1. 1. 1. 1. 1. 1. 1. 1. 1. 1. 1. 1. 1. 0. 0. 0. 0. 0. 0. 0. 0.\n",
      " 0. 0.]\n"
     ]
    }
   ],
   "source": [
    "# construct matrix\n",
    "import numpy as np\n",
    "import math\n",
    "view_ratio = 1\n",
    "cart_fav_ratio = 2\n",
    "bug_ratio = 10\n",
    "user_num = len(set(list(data[\"User_Id\"]))) // 10\n",
    "cate_num = len(set(list(data[\"Category_Id\"])))\n",
    "R = np.zeros((user_num, cate_num), dtype=np.float16)\n",
    "print(user_num, cate_num)\n",
    "# indexs = c.index\n",
    "for i in range(len(c.index)):\n",
    "    user_id = c.index[i][0]\n",
    "    category_id = c.index[i][1]\n",
    "    if user_dict[user_id] >= user_num:\n",
    "        continue\n",
    "    behavior = behaviors[i]\n",
    "#     print(behavior)\n",
    "    view_weight = behavior.count('0') / len(behavior) * view_ratio\n",
    "    cart_weight = behavior.count('1') / len(behavior) * cart_fav_ratio\n",
    "    fav_weigth = behavior.count('2') / len(behavior) * cart_fav_ratio\n",
    "    buy_weight = behavior.count('3') / len(behavior) * bug_ratio\n",
    "#     print(view_weight)\n",
    "#     print(user_dict[user_id], item_dict[category_id])\n",
    "    R[user_dict[user_id]][item_dict[category_id]] = view_weight * math.exp((cart_weight + fav_weigth) / 2 + buy_weight)\n",
    "#     R[user_id - 1][category_id - 1] = \n",
    "print(R[0][:50])\n",
    "print(R[1][:50])"
   ]
  },
  {
   "cell_type": "code",
   "execution_count": 25,
   "metadata": {},
   "outputs": [
    {
     "name": "stdout",
     "output_type": "stream",
     "text": [
      "650.0\n",
      "[0.00769 0.00769 0.00769 ... 0.      0.      0.     ]\n"
     ]
    }
   ],
   "source": [
    "# normalize into [0,5]\n",
    "max_scope = -1\n",
    "for item in R:\n",
    "    if max(item) > max_scope:\n",
    "        max_scope = max(item)\n",
    "print(max_scope)\n",
    "\n",
    "R = R / max_scope * 5\n",
    "print(R[0])"
   ]
  },
  {
   "cell_type": "code",
   "execution_count": 26,
   "metadata": {},
   "outputs": [
    {
     "name": "stdout",
     "output_type": "stream",
     "text": [
      "[[1.86412789e-05 3.48962702e-03 9.43909632e-04 1.57518277e-04\n",
      "  1.79303598e-03 8.12441789e-04]\n",
      " [1.29450335e-05 3.37485955e-03 7.89810840e-04 1.28127748e-04\n",
      "  1.42106029e-03 4.34870523e-04]\n",
      " [1.73174414e-05 6.46179432e-04 1.18360289e-03 2.80986165e-04\n",
      "  1.84313469e-03 7.00879624e-04]\n",
      " ...\n",
      " [1.15705249e-05 3.48959149e-04 7.69242961e-04 7.63512055e-05\n",
      "  1.08862246e-03 3.41068167e-04]\n",
      " [1.04635561e-05 1.47473219e-04 5.11308134e-03 6.23822668e-05\n",
      "  5.39974225e-03 4.51418607e-04]\n",
      " [2.54548621e-05 3.38430400e-03 8.28682108e-04 2.50455556e-04\n",
      "  4.15373229e-03 7.69746784e-04]]\n"
     ]
    }
   ],
   "source": [
    "# # sklearn nmf\n",
    "# from sklearn.decomposition import NMF\n",
    "# nmf = NMF(n_components=6, init='nndsvda', tol=5e-3)\n",
    "# result = nmf.fit_transform(R)\n",
    "# print(result)\n"
   ]
  },
  {
   "cell_type": "code",
   "execution_count": 31,
   "metadata": {},
   "outputs": [
    {
     "name": "stdout",
     "output_type": "stream",
     "text": [
      "[[2.84471968e-04 6.00299861e-05 3.64802083e-03 ... 0.00000000e+00\n",
      "  0.00000000e+00 0.00000000e+00]\n",
      " [1.81102679e-02 7.61989097e-03 4.91485183e-02 ... 0.00000000e+00\n",
      "  0.00000000e+00 0.00000000e+00]\n",
      " [3.70264237e-02 6.84004827e-03 3.98979463e-02 ... 0.00000000e+00\n",
      "  0.00000000e+00 0.00000000e+00]\n",
      " [6.72415800e-03 4.66497130e-03 2.39094226e-02 ... 0.00000000e+00\n",
      "  0.00000000e+00 0.00000000e+00]\n",
      " [2.34089107e-02 6.29156192e-03 4.60405755e-02 ... 0.00000000e+00\n",
      "  0.00000000e+00 0.00000000e+00]\n",
      " [2.38138312e-02 8.06258644e-03 4.01055686e-02 ... 0.00000000e+00\n",
      "  0.00000000e+00 0.00000000e+00]]\n",
      "[[1.60526148e-04 5.16132263e-05 3.28130246e-04 ... 0.00000000e+00\n",
      "  0.00000000e+00 0.00000000e+00]\n",
      " [1.34842797e-04 4.41623124e-05 2.83347570e-04 ... 0.00000000e+00\n",
      "  0.00000000e+00 0.00000000e+00]\n",
      " [1.17235360e-04 3.15711040e-05 1.98700168e-04 ... 0.00000000e+00\n",
      "  0.00000000e+00 0.00000000e+00]\n",
      " ...\n",
      " [6.89200166e-05 1.78758416e-05 1.13501903e-04 ... 0.00000000e+00\n",
      "  0.00000000e+00 0.00000000e+00]\n",
      " [3.29566412e-04 7.40022050e-05 4.79494016e-04 ... 0.00000000e+00\n",
      "  0.00000000e+00 0.00000000e+00]\n",
      " [2.09226925e-04 6.49655472e-05 4.27583877e-04 ... 0.00000000e+00\n",
      "  0.00000000e+00 0.00000000e+00]]\n"
     ]
    }
   ],
   "source": [
    "# sklearn nmf\n",
    "from sklearn.decomposition import NMF\n",
    "nmf = NMF(n_components=6, init='nndsvda', tol=5e-3)\n",
    "W = nmf.fit_transform(R)\n",
    "H = nmf.components_\n",
    "print(H)\n",
    "print(W.dot(H))\n",
    "result = W.dot(H)"
   ]
  },
  {
   "cell_type": "code",
   "execution_count": 33,
   "metadata": {},
   "outputs": [
    {
     "data": {
      "text/plain": [
       "array([[1.60526148e-04, 5.16132263e-05, 3.28130246e-04, ...,\n",
       "        0.00000000e+00, 0.00000000e+00, 0.00000000e+00],\n",
       "       [1.34842797e-04, 4.41623124e-05, 2.83347570e-04, ...,\n",
       "        0.00000000e+00, 0.00000000e+00, 0.00000000e+00],\n",
       "       [1.17235360e-04, 3.15711040e-05, 1.98700168e-04, ...,\n",
       "        0.00000000e+00, 0.00000000e+00, 0.00000000e+00],\n",
       "       ...,\n",
       "       [6.89200166e-05, 1.78758416e-05, 1.13501903e-04, ...,\n",
       "        0.00000000e+00, 0.00000000e+00, 0.00000000e+00],\n",
       "       [3.29566412e-04, 7.40022050e-05, 4.79494016e-04, ...,\n",
       "        0.00000000e+00, 0.00000000e+00, 0.00000000e+00],\n",
       "       [2.09226925e-04, 6.49655472e-05, 4.27583877e-04, ...,\n",
       "        0.00000000e+00, 0.00000000e+00, 0.00000000e+00]])"
      ]
     },
     "execution_count": 33,
     "metadata": {},
     "output_type": "execute_result"
    }
   ],
   "source": [
    "result"
   ]
  },
  {
   "cell_type": "code",
   "execution_count": 32,
   "metadata": {},
   "outputs": [],
   "source": [
    "np.save(\"Result.npy\",result) # save the result"
   ]
  }
 ],
 "metadata": {
  "kernelspec": {
   "display_name": "Python 3",
   "language": "python",
   "name": "python3"
  },
  "language_info": {
   "codemirror_mode": {
    "name": "ipython",
    "version": 3
   },
   "file_extension": ".py",
   "mimetype": "text/x-python",
   "name": "python",
   "nbconvert_exporter": "python",
   "pygments_lexer": "ipython3",
   "version": "3.8.5"
  }
 },
 "nbformat": 4,
 "nbformat_minor": 4
}
