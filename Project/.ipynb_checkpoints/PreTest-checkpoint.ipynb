{
 "cells": [
  {
   "cell_type": "code",
   "execution_count": 2,
   "metadata": {},
   "outputs": [
    {
     "name": "stdout",
     "output_type": "stream",
     "text": [
      "Index(['UserID', 'ItemID', 'CategoryID', 'BehaviorType', 'TimeStamp'], dtype='object')\n",
      "        UserID   ItemID  CategoryID BehaviorType   TimeStamp\n",
      "0            1  2333346     2520771           pv  1511561733\n",
      "1            1  2576651      149192           pv  1511572885\n",
      "2            1  3830808     4181361           pv  1511593493\n",
      "3            1  4365585     2520377           pv  1511596146\n",
      "4            1  4606018     2735466           pv  1511616481\n",
      "...        ...      ...         ...          ...         ...\n",
      "999995  128600  4935668     2640118         cart  1511826588\n",
      "999996  128600  3175221     2640118         cart  1511826676\n",
      "999997  128600  3840425     2640118           pv  1511826695\n",
      "999998  128600  2495970     2640118         cart  1511826739\n",
      "999999  128600  1413345     2640118           pv  1511826789\n",
      "\n",
      "[1000000 rows x 5 columns]\n",
      "Read and preprocess data finished! Time cost: 0.90 s\n"
     ]
    }
   ],
   "source": [
    "import numpy as np\n",
    "import pandas as pd\n",
    "import time\n",
    "\n",
    "start_time = time.time()\n",
    "df = pd.read_csv('./dataset/UserBehavior.csv', nrows=1000000)\n",
    "df.columns = ['UserID','ItemID','CategoryID','BehaviorType','TimeStamp']\n",
    "print(df.columns)\n",
    "print(df)\n",
    "end_time = time.time()\n",
    "print(\"Read and preprocess data finished! Time cost: %.2f s\" % (end_time - start_time))\n"
   ]
  },
  {
   "cell_type": "code",
   "execution_count": 3,
   "metadata": {},
   "outputs": [
    {
     "name": "stdout",
     "output_type": "stream",
     "text": [
      "896106\n",
      "[896106, 20359, 55447, 28088]\n",
      "True\n"
     ]
    }
   ],
   "source": [
    "print(sum(df['BehaviorType'] == 'pv'))\n",
    "import matplotlib.pyplot as plt\n",
    "types = ['pv', 'buy', 'cart', 'fav']\n",
    "nums = []\n",
    "for t in types:\n",
    "    nums.append(sum(df['BehaviorType'] == t))\n",
    "print(nums)\n",
    "print(sum(nums) == len(df))\n",
    "# plt.bar()"
   ]
  },
  {
   "cell_type": "code",
   "execution_count": 4,
   "metadata": {},
   "outputs": [
    {
     "data": {
      "image/png": "[encoded data removed]",
      "text/plain": [
       "<Figure size 432x648 with 1 Axes>"
      ]
     },
     "metadata": {},
     "output_type": "display_data"
    }
   ],
   "source": [
    "plt.figure(figsize=(6,9)) #调节图形大小\n",
    "labels = types #定义标签\n",
    "sizes =nums #每块值\n",
    "colors = ['red','yellowgreen','lightskyblue','yellow'] #每块颜色定义\n",
    "explode = (0,0,0,0) #将某一块分割出来，值越大分割出的间隙越大\n",
    "patches,text1,text2 = plt.pie(sizes,\n",
    "                      explode=explode,\n",
    "                      labels=labels,\n",
    "                      colors=colors,\n",
    "                      autopct = '%3.2f%%', #数值保留固定小数位\n",
    "                      shadow = False, #无阴影设置\n",
    "                      startangle =90, #逆时针起始角度设置\n",
    "                      pctdistance = 0.6) #数值距圆心半径倍数距离\n",
    "#patches饼图的返回值，texts1饼图外label的文本，texts2饼图内部的文本\n",
    "# x，y轴刻度设置一致，保证饼图为圆形\n",
    "plt.title(\"Preview on Behaviors\")\n",
    "plt.axis('equal')\n",
    "plt.show()"
   ]
  },
  {
   "cell_type": "code",
   "execution_count": 5,
   "metadata": {},
   "outputs": [
    {
     "name": "stdout",
     "output_type": "stream",
     "text": [
      "Counter({'pv': 896106, 'cart': 55447, 'fav': 28088, 'buy': 20359})\n"
     ]
    }
   ],
   "source": [
    "# processed_df = df.replace({'pv':0, 'buy':1, 'cart':2, 'fav':3})\n",
    "# print(processed_df)\n",
    "from collections import Counter\n",
    "print(Counter(df['BehaviorType']))"
   ]
  },
  {
   "cell_type": "code",
   "execution_count": 6,
   "metadata": {},
   "outputs": [
    {
     "name": "stdout",
     "output_type": "stream",
     "text": [
      "Counter({0: 896106, 1: 55447, 2: 28088, 3: 20359})\n"
     ]
    }
   ],
   "source": [
    "df['BehaviorType'] = df['BehaviorType'].map({'pv':0,'cart':1,'fav':2,'buy':3})\n",
    "print(Counter(df['BehaviorType']))"
   ]
  },
  {
   "cell_type": "code",
   "execution_count": 7,
   "metadata": {},
   "outputs": [
    {
     "name": "stdout",
     "output_type": "stream",
     "text": [
      "['0']\n",
      "['1511561733']\n"
     ]
    }
   ],
   "source": [
    "df['BehaviorType']=df['BehaviorType'].apply(lambda x: list(str(x)))\n",
    "print(df['BehaviorType'].loc[0])\n",
    "df['TimeStamp']=df['TimeStamp'].apply(lambda x: list(str(x).split('.0')))\n",
    "print(df['TimeStamp'].loc[0])"
   ]
  },
  {
   "cell_type": "code",
   "execution_count": 8,
   "metadata": {},
   "outputs": [
    {
     "name": "stdout",
     "output_type": "stream",
     "text": [
      "UserID\n",
      "1          [1511561733, 1511572885, 1511593493, 151159614...\n",
      "100        [1511550516, 1511550600, 1511550806, 151155088...\n",
      "115        [1511595824, 1511597296, 1511597313, 151159742...\n",
      "117        [1511579479, 1511600657, 1511619754, 151168236...\n",
      "118        [1511564492, 1511564693, 1511564895, 151156494...\n",
      "                                 ...                        \n",
      "1017990    [1511668939, 1511691547, 1511691796, 151169419...\n",
      "1017994    [1511774826, 1511774912, 1511774987, 151177597...\n",
      "1017997    [1511542118, 1511542325, 1511542351, 151154237...\n",
      "1018000    [1511567551, 1511567562, 1511567784, 151156794...\n",
      "1018011    [1511576223, 1511577757, 1511657383, 151165753...\n",
      "Name: TimeStamp, Length: 9739, dtype: object\n",
      "                                                time_list  \\\n",
      "UserID                                                      \n",
      "1       [1511561733, 1511572885, 1511593493, 151159614...   \n",
      "100     [1511550516, 1511550600, 1511550806, 151155088...   \n",
      "115     [1511595824, 1511597296, 1511597313, 151159742...   \n",
      "117     [1511579479, 1511600657, 1511619754, 151168236...   \n",
      "118     [1511564492, 1511564693, 1511564895, 151156494...   \n",
      "119     [1511556243, 1511571634, 1511582215, 151158223...   \n",
      "121     [1511540378, 1511540703, 1511540915, 151158078...   \n",
      "122     [1511563505, 1511563535, 1511563562, 151156358...   \n",
      "1000    [1511541853, 1511542034, 1511543045, 151154324...   \n",
      "1016    [1511760905, 1511887762, 1511887844, 151188788...   \n",
      "\n",
      "                                            Behavior_list  \n",
      "UserID                                                     \n",
      "1       [0, 0, 0, 0, 0, 0, 0, 0, 0, 0, 0, 0, 0, 0, 0, ...  \n",
      "100     [0, 0, 0, 0, 0, 0, 0, 0, 0, 2, 0, 0, 2, 0, 2, ...  \n",
      "115     [0, 0, 0, 0, 0, 0, 0, 0, 0, 0, 0, 0, 0, 0, 2, ...  \n",
      "117     [3, 0, 0, 0, 0, 0, 0, 3, 0, 0, 0, 0, 0, 0, 0, ...  \n",
      "118     [0, 0, 0, 0, 0, 0, 0, 0, 0, 0, 0, 0, 0, 0, 0, ...  \n",
      "119     [0, 0, 0, 0, 0, 0, 0, 0, 0, 0, 0, 0, 0, 0, 0, ...  \n",
      "121     [2, 0, 0, 0, 0, 0, 0, 0, 0, 3, 0, 0, 0, 0, 0, ...  \n",
      "122     [0, 0, 0, 0, 0, 0, 0, 0, 0, 0, 0, 0, 0, 0, 0, ...  \n",
      "1000    [0, 1, 0, 0, 0, 0, 0, 0, 0, 0, 2, 0, 0, 2, 0, ...  \n",
      "1016    [0, 0, 0, 0, 0, 0, 0, 0, 0, 0, 0, 0, 0, 0, 0, ...  \n",
      "0\n"
     ]
    }
   ],
   "source": [
    "a = df.groupby('UserID')['BehaviorType'].sum()\n",
    "b = df.groupby('UserID')['TimeStamp'].sum()\n",
    "print(b)\n",
    "data = pd.DataFrame()\n",
    "data['time_list'] = b\n",
    "data['Behavior_list'] = a\n",
    "print(data.head(10))\n",
    "\n",
    "\n",
    "data['is_pv'] = data['Behavior_list'].apply(lambda x: Counter(x)['1'])\n",
    "print(data['is_pv'].loc[1])\n",
    "\n"
   ]
  },
  {
   "cell_type": "code",
   "execution_count": null,
   "metadata": {},
   "outputs": [],
   "source": []
  }
 ],
 "metadata": {
  "kernelspec": {
   "display_name": "Python 3",
   "language": "python",
   "name": "python3"
  },
  "language_info": {
   "codemirror_mode": {
    "name": "ipython",
    "version": 3
   },
   "file_extension": ".py",
   "mimetype": "text/x-python",
   "name": "python",
   "nbconvert_exporter": "python",
   "pygments_lexer": "ipython3",
   "version": "3.8.5"
  }
 },
 "nbformat": 4,
 "nbformat_minor": 4
}
