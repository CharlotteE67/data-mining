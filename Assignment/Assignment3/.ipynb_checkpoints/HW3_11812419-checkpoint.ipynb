{
 "cells": [
  {
   "cell_type": "code",
   "execution_count": null,
   "metadata": {},
   "outputs": [],
   "source": [
    "# Question 1\n",
    "import pandas as pd\n",
    "import time\n",
    "start_time = time.time()\n",
    "data1 = pd.read_csv(\"HW3_1_data.csv\")\n",
    "print(data1)\n",
    "data1 = data1.dropna()\n",
    "print(data1)\n",
    "# data clean"
   ]
  },
  {
   "cell_type": "code",
   "execution_count": null,
   "metadata": {},
   "outputs": [],
   "source": [
    "import matplotlib.pyplot as plt\n",
    "X = data1.iloc[:, 0].values.reshape(-1, 1)\n",
    "Y = data1.iloc[:, 1].values.reshape(-1, 1)\n",
    "plt.scatter(X, Y, color='blue')\n",
    "plt.show()\n",
    "# pre view"
   ]
  },
  {
   "cell_type": "code",
   "execution_count": null,
   "metadata": {},
   "outputs": [],
   "source": [
    "from sklearn.cluster import KMeans\n",
    "import matplotlib.pyplot as plt\n",
    "# from matplotlib import scatter\n",
    "kmeans2 = KMeans(n_clusters=2, random_state=9)\n",
    "X = data1.iloc[:, 0:2].values.reshape(-1, 2)\n",
    "y_pred_2 = kmeans2.fit_predict(X)\n",
    "plt.title(\"K = 2\")\n",
    "plt.scatter(X[:, 0], X[:, 1], c=y_pred_2)\n",
    "plt.show()\n",
    "\n",
    "kmeans3 = KMeans(n_clusters=3, random_state=9)\n",
    "X = data1.iloc[:, 0:2].values.reshape(-1, 2)\n",
    "y_pred_3 = kmeans3.fit_predict(X)\n",
    "plt.title(\"K = 3\")\n",
    "plt.scatter(X[:, 0], X[:, 1], c=y_pred_3)\n",
    "plt.show()\n",
    "\n",
    "kmeans4 = KMeans(n_clusters=4, random_state=9)\n",
    "X = data1.iloc[:, 0:2].values.reshape(-1, 2)\n",
    "y_pred_4 = kmeans4.fit_predict(X)\n",
    "plt.title(\"K = 4\")\n",
    "plt.scatter(X[:, 0], X[:, 1], c=y_pred_4)\n",
    "plt.show()\n",
    "\n",
    "kmeans5 = KMeans(n_clusters=5, random_state=9)\n",
    "X = data1.iloc[:, 0:2].values.reshape(-1, 2)\n",
    "y_pred_5 = kmeans5.fit_predict(X)\n",
    "plt.title(\"K = 5\")\n",
    "plt.scatter(X[:, 0], X[:, 1], c=y_pred_5)\n",
    "plt.show()\n",
    "\n",
    "kmeans6 = KMeans(n_clusters=6, random_state=9)\n",
    "X = data1.iloc[:, 0:2].values.reshape(-1, 2)\n",
    "y_pred_6 = kmeans6.fit_predict(X)\n",
    "plt.title(\"K = 6\")\n",
    "plt.scatter(X[:, 0], X[:, 1], c=y_pred_6)\n",
    "plt.show()"
   ]
  },
  {
   "cell_type": "code",
   "execution_count": null,
   "metadata": {},
   "outputs": [],
   "source": [
    "from sklearn import metrics\n",
    "import numpy as np\n",
    "# score_2 = metrics.calinski_harabasz_score(X, y_pred_2)\n",
    "# score_3 = metrics.calinski_harabasz_score(X, y_pred_3)\n",
    "# score_4 = metrics.calinski_harabasz_score(X, y_pred_4)\n",
    "# score_5 = metrics.calinski_harabasz_score(X, y_pred_5)\n",
    "# score_6 = metrics.calinski_harabasz_score(X, y_pred_6)\n",
    "# print(\"k = 2, Calinski-Harabasz_score = \", score_2)\n",
    "# print(\"k = 3, Calinski-Harabasz_score = \", score_3)\n",
    "# print(\"k = 4, Calinski-Harabasz_score = \", score_4)\n",
    "# print(\"k = 5, Calinski-Harabasz_score = \", score_5)\n",
    "# print(\"k = 6, Calinski-Harabasz_score = \", score_6)\n",
    "# larger score means better effect\n",
    "X = data1.iloc[:, 0:2].values.reshape(-1, 2)\n",
    "print(\"------searching for best clusters number------\")\n",
    "scores = []\n",
    "for i in range(2, 10):\n",
    "    y_pred = KMeans(n_clusters=i, random_state=9).fit_predict(X)\n",
    "#     scores.append(metrics.calinski_harabasz_score(X, y_pred))\n",
    "    scores.append(metrics.silhouette_score(X, y_pred))\n",
    "    print(\"k = \", i, \", silhouette_score = \", scores[i - 2])\n",
    "\n",
    "cluster_num = np.argmax(scores) + 2\n",
    "\n",
    "kmeans = KMeans(n_clusters=cluster_num, random_state=9)\n",
    "X = data1.iloc[:, 0:2].values.reshape(-1, 2)\n",
    "y_pred = kmeans.fit_predict(X)\n",
    "title = \"Final Answer: K = \" + str(cluster_num)\n",
    "plt.title(title)\n",
    "plt.scatter(X[:, 0], X[:, 1], c=y_pred)\n",
    "plt.show()"
   ]
  },
  {
   "cell_type": "markdown",
   "metadata": {},
   "source": [
    "# Explanation for method 1\n",
    "First, we choose K = 2, 3, 4, 5, 6 to get Kmeans results and see their visualization。\n",
    "Then, use method `metrics.silhouette_score()` to test K from 2 to 9, choose the best score to form final result."
   ]
  },
  {
   "cell_type": "code",
   "execution_count": null,
   "metadata": {},
   "outputs": [],
   "source": [
    "from sklearn.cluster import DBSCAN\n",
    "import matplotlib.pyplot as plt\n",
    "param_eps = [0.7, 0.75, 0.8, 0.85, 0.9, 0.95, 1.0, 1.5, 2.0]\n",
    "param_min = [3, 4, 5, 6]\n",
    "max_score = 0.0\n",
    "best_eps = 0.7\n",
    "best_min = 1\n",
    "for i in range(len(param_eps)):\n",
    "    for j in range(len(param_min)):\n",
    "        dbscan = DBSCAN(eps = param_eps[i], min_samples = param_min[j])\n",
    "        X = data1.iloc[:, 0:2].values.reshape(-1, 2)\n",
    "        y_pred = dbscan.fit_predict(X)\n",
    "        current_score = metrics.silhouette_score(X, y_pred)\n",
    "        if current_score > max_score:\n",
    "            max_score = current_score\n",
    "            best_eps = param_eps[i]\n",
    "            best_min = param_min[j]\n",
    "title = \"Final Answer: eps = \" + str(best_eps) + \", min_samples = \" + str(best_min)\n",
    "plt.title(title)\n",
    "plt.scatter(X[:, 0], X[:, 1], c=y_pred)\n",
    "plt.show()\n",
    "end_time = time.time()\n",
    "print(\"Task1's running time: \", end_time - start_time, \" s.\")"
   ]
  },
  {
   "cell_type": "markdown",
   "metadata": {},
   "source": [
    "# Explanation for method 2\n",
    "This method uses DBSCAN and we pre-set some possible parameter range for `eps` and `min_samples`.(I pre-test some parameters and find them unuseful in this task, so I choose the range`param_eps = [0.7, 0.75, 0.8, 0.85, 0.9, 0.95, 1.0, 1.5, 2.0], param_min = [3, 4, 5, 6]`)\n",
    "\n",
    "\n",
    "By evaluating with `silhouette_score`,we can find that when eps = 1.5, min_samples = 3, we will get the best result."
   ]
  },
  {
   "cell_type": "code",
   "execution_count": null,
   "metadata": {},
   "outputs": [],
   "source": [
    "# Question 2\n",
    "import pandas as pd\n",
    "import time\n",
    "start_time = time.time()\n",
    "data2 = pd.read_csv(\"HW3_2_data.csv\")\n",
    "print(data2)\n",
    "data2 = data2.dropna()\n",
    "print(data2)\n",
    "# data clean,drop na data"
   ]
  },
  {
   "cell_type": "code",
   "execution_count": null,
   "metadata": {},
   "outputs": [],
   "source": [
    "import matplotlib.pyplot as plt\n",
    "from sklearn.cluster import KMeans\n",
    "from sklearn import metrics\n",
    "import numpy as np\n",
    "\n",
    "# X = data1.iloc[:, 0].values.reshape(-1, 1)\n",
    "# Y = data1.iloc[:, 1].values.reshape(-1, 1)\n",
    "# plt.scatter(X, Y, color='blue')\n",
    "# plt.show()\n",
    "# pre view\n",
    "X = data2.iloc[:, 1:18].values\n",
    "# print(X)\n",
    "\n",
    "print(\"------searching for best clusters number------\")\n",
    "scores = []\n",
    "for i in range(2, 10):\n",
    "    y_pred = KMeans(n_clusters=i, random_state=9).fit_predict(X)\n",
    "    scores.append(metrics.silhouette_score(X, y_pred))\n",
    "    print(\"k = \", i, \", silhouette_score = \", scores[i - 2])\n",
    "\n",
    "cluster_num = np.argmax(scores) + 2\n",
    "\n",
    "print(\"Ideal cluster number: \", cluster_num)\n",
    "\n",
    "kmeans = KMeans(n_clusters=cluster_num, random_state=9) # final cluster\n",
    "y_pred = kmeans.fit_predict(X)\n",
    "print(\"Final Cluster Model is Kmeans with K = \", cluster_num, \".\")\n",
    "end_time = time.time()\n",
    "print(\"Task1's running time: \", end_time - start_time, \" s.\")\n",
    "# title = \"Final Answer: K = \" + str(cluster_num)\n",
    "# plt.title(title)\n",
    "# plt.scatter(X[:, 0], X[:, 1], c=y_pred)\n",
    "# plt.show()"
   ]
  },
  {
   "cell_type": "markdown",
   "metadata": {},
   "source": [
    "# Explanation for Method\n",
    "Similarly as above, we use `metrics.silhouette_score()` to evaluate cluster's performance. Since it's hard to plot the high-dimensional data, we just find out the best clustering model and print it out."
   ]
  }
 ],
 "metadata": {
  "kernelspec": {
   "display_name": "Python 3",
   "language": "python",
   "name": "python3"
  },
  "language_info": {
   "codemirror_mode": {
    "name": "ipython",
    "version": 3
   },
   "file_extension": ".py",
   "mimetype": "text/x-python",
   "name": "python",
   "nbconvert_exporter": "python",
   "pygments_lexer": "ipython3",
   "version": "3.8.5"
  }
 },
 "nbformat": 4,
 "nbformat_minor": 4
}
