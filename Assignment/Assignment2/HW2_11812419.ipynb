{
 "cells": [
  {
   "cell_type": "code",
   "execution_count": null,
   "metadata": {},
   "outputs": [],
   "source": [
    "# question 1\n",
    "import pandas as pd\n",
    "import time\n",
    "time_start = time.time()\n",
    "# read data into `wine`\n",
    "wine = pd.read_csv(\"HW2_1_data.csv\")\n",
    "print(wine)\n",
    "# data clean\n",
    "wine = wine.dropna()  # drop NAN\n",
    "# wine = wine.drop_duplicates()  # don't need to drop duplicate data\n",
    "print(wine)"
   ]
  },
  {
   "cell_type": "code",
   "execution_count": null,
   "metadata": {},
   "outputs": [],
   "source": [
    "# get train and test data set\n",
    "from sklearn import model_selection\n",
    "# get X, Y data for training and testing\n",
    "X = wine.iloc[:, 0:11].values.reshape(-1, 11)\n",
    "Y = wine.iloc[:, 11:12].values.reshape(-1, 1)\n",
    "# divide train and test data set\n",
    "X_train, X_test, Y_train, Y_test = model_selection.train_test_split(X ,Y, test_size=0.2, shuffle=True)"
   ]
  },
  {
   "cell_type": "code",
   "execution_count": null,
   "metadata": {},
   "outputs": [],
   "source": [
    "# Decision Tree\n",
    "from sklearn import tree\n",
    "import numpy as np\n",
    "\n",
    "train_acc = []\n",
    "test_acc = []\n",
    "for i in range(1, 8):  \n",
    "    clf = tree.DecisionTreeClassifier(max_depth=i)\n",
    "    clf = clf.fit(X_train,Y_train)\n",
    "    train_acc.append(clf.score(X_train, Y_train))\n",
    "    test_acc.append(clf.score(X_test, Y_test))\n",
    "    \n",
    "clf = tree.DecisionTreeClassifier(max_depth=np.argmax(test_acc)+1)\n",
    "clf = clf.fit(X_train,Y_train)\n",
    "train_acc = clf.score(X_train, Y_train)\n",
    "test_acc = clf.score(X_test, Y_test)\n",
    "print(\"Question1 with Decision Tree\")\n",
    "print(\"Train Accuracy: %.2f\" % train_acc)\n",
    "print(\"Test Accuracy: %.2f\" % test_acc)"
   ]
  },
  {
   "cell_type": "code",
   "execution_count": null,
   "metadata": {},
   "outputs": [],
   "source": [
    "# RBF SVM\n",
    "from sklearn.model_selection import GridSearchCV\n",
    "from sklearn.svm import SVC\n",
    "Y_train = Y_train.ravel()\n",
    "# grid = GridSearchCV(SVC(kernel='rbf'), param_grid={\"C\":[0.1, 1, 10, 40, 50, 60, 70, 80, 90, 100], \"gamma\": [1, 0.1, 0.01, 0.001, 0.005]}, cv=5)\n",
    "grid = GridSearchCV(SVC(kernel='rbf'), param_grid={\"C\":[0.1, 1, 10, 40, 50], \"gamma\": [1, 0.1, 0.01, 0.001]}, cv=5)\n",
    "# higer C turns out higer accuracy\n",
    "grid.fit(X_train, Y_train)\n",
    "print(\"The best parameters are %s with a score of %0.2f\" % (grid.best_params_, grid.best_score_))\n",
    "rbf = SVC(kernel='rbf', C=grid.best_params_['C'], gamma=grid.best_params_['gamma'])\n",
    "rbf.fit(X_train, Y_train)\n",
    "train_acc = rbf.score(X_train, Y_train)\n",
    "test_acc = rbf.score(X_test, Y_test)\n",
    "print(\"Question1 with SVM\")\n",
    "print(\"Train Accuracy: %.2f\" % train_acc)\n",
    "print(\"Test Accuracy: %.2f\" % test_acc)"
   ]
  },
  {
   "cell_type": "code",
   "execution_count": null,
   "metadata": {},
   "outputs": [],
   "source": [
    "time_end = time.time()\n",
    "print(\"Time cost: %0.2f s.\" % (time_end - time_start))"
   ]
  },
  {
   "cell_type": "code",
   "execution_count": null,
   "metadata": {},
   "outputs": [],
   "source": [
    "# question 2\n",
    "import pandas as pd\n",
    "import time\n",
    "time_start = time.time()\n",
    "# read data into `data`\n",
    "data = pd.read_csv(\"HW2_2_data.csv\")\n",
    "print(data)\n",
    "# data clean\n",
    "data = data.dropna() # drop NAN \n",
    "# data = data.drop_duplicates() # don't need to drop duplicate data\n",
    "print(data)"
   ]
  },
  {
   "cell_type": "code",
   "execution_count": null,
   "metadata": {},
   "outputs": [],
   "source": [
    "# get train and test data set\n",
    "from sklearn import model_selection\n",
    "# get X, Y data for training and testing\n",
    "X = data.iloc[:, 0:3].values.reshape(-1, 3)\n",
    "Y = data.iloc[:, 3:4].values.reshape(-1, 1)\n",
    "# divide train and test data set\n",
    "X_train, X_test, Y_train, Y_test = model_selection.train_test_split(X ,Y, test_size=0.2, shuffle=True)"
   ]
  },
  {
   "cell_type": "code",
   "execution_count": null,
   "metadata": {},
   "outputs": [],
   "source": [
    "# RBF SVM\n",
    "from sklearn.model_selection import GridSearchCV\n",
    "Y_train = Y_train.ravel()\n",
    "grid = GridSearchCV(SVC(kernel='rbf'), param_grid={\"C\":[0.1, 1, 10, 20], \"gamma\": [1, 0.1, 0.01]}, cv=5)\n",
    "# higer C turns out higer accuracy\n",
    "grid.fit(X_train, Y_train)\n",
    "# print(\"The best parameters are %s with a score of %0.2f\" % (grid.best_params_, grid.best_score_))\n",
    "rbf = SVC(kernel='rbf', C=grid.best_params_['C'], gamma=grid.best_params_['gamma'])\n",
    "rbf.fit(X_train, Y_train)\n",
    "train_acc = rbf.score(X_train, Y_train)\n",
    "test_acc = rbf.score(X_test, Y_test)\n",
    "print(\"Question2 with SVM\")\n",
    "print(\"Train Accuracy: %.2f\" % train_acc)\n",
    "print(\"Test Accuracy: %.2f\" % test_acc)"
   ]
  },
  {
   "cell_type": "code",
   "execution_count": null,
   "metadata": {},
   "outputs": [],
   "source": [
    "time_end = time.time()\n",
    "print(\"Time cost: %0.2f s.\" % (time_end - time_start))"
   ]
  }
 ],
 "metadata": {
  "kernelspec": {
   "display_name": "Python 3",
   "language": "python",
   "name": "python3"
  },
  "language_info": {
   "codemirror_mode": {
    "name": "ipython",
    "version": 3
   },
   "file_extension": ".py",
   "mimetype": "text/x-python",
   "name": "python",
   "nbconvert_exporter": "python",
   "pygments_lexer": "ipython3",
   "version": "3.8.5"
  }
 },
 "nbformat": 4,
 "nbformat_minor": 4
}
