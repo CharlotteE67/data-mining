{
 "cells": [
  {
   "cell_type": "code",
   "execution_count": null,
   "metadata": {},
   "outputs": [],
   "source": [
    "import pandas\n",
    "import chardet\n",
    "#Load data\n",
    "with open(\"HW1data.csv\", \"rb\") as rawdata:\n",
    "    detect_result = chardet.detect(rawdata.read(30000))\n",
    "print(\"Detect encoding: \", detect_result)\n",
    "# print(detect_result['encoding'])\n",
    "hwdata = pandas.read_csv(\"HW1data.csv\", encoding=detect_result['encoding'])\n",
    "# print(hwdata.head())\n",
    "print(\"The shape of dataframe: \", hwdata.shape)\n",
    "print(\"Loss rate of each column:\") \n",
    "print(hwdata.isnull().sum() / len(hwdata))"
   ]
  },
  {
   "cell_type": "code",
   "execution_count": null,
   "metadata": {},
   "outputs": [],
   "source": [
    "#Preprocess\n",
    "#2-a\n",
    "data2_a = pandas.DataFrame(hwdata, columns=['PatientId', 'Gender', 'Age', 'Neighbourhood'])\n",
    "data2_a = data2_a.dropna(subset=['PatientId'])\n",
    "print(data2_a.head())\n",
    "init_len = len(data2_a)\n",
    "new_data2_a = data2_a.drop_duplicates(subset=['PatientId'])\n",
    "after_len = len(new_data2_a)\n",
    "print(new_data2_a)\n",
    "print(new_data2_a.isnull().sum())\n",
    "print(\"Initial length: \", init_len, \", after drop duplicates length: \",after_len,\n",
    "              \". Remain percentage: \",after_len/init_len )\n",
    "\n",
    "#2-b\n",
    "data2_b = hwdata.dropna(subset=['PatientId', 'ScheduledDay', 'AppointmentDay', 'SMS_received', 'No-show'])\n",
    "print(len(data2_b))\n",
    "\n",
    "#2-c\n",
    "new_data2_a = new_data2_a.set_index(['PatientId'])\n",
    "data2_b = data2_b.set_index(['PatientId'])\n",
    "print(data2_b.isnull().sum())\n",
    "# data2_b_copy = data2_b\n",
    "data2_b.update(new_data2_a, overwrite=False)\n",
    "print(data2_b.isnull().sum())\n"
   ]
  },
  {
   "cell_type": "code",
   "execution_count": null,
   "metadata": {},
   "outputs": [],
   "source": [
    "#3\n",
    "data2_b.reset_index(col_fill='PatientId', inplace=True)\n",
    "# print(data2_b.head())\n",
    "print(len(data2_b))\n",
    "data3 = data2_b.dropna(subset=['PatientId', 'Gender', 'Age', 'Neighbourhood', 'ScheduledDay', 'AppointmentDay', 'SMS_received', 'No-show'])\n",
    "print(len(data3))"
   ]
  },
  {
   "cell_type": "code",
   "execution_count": null,
   "metadata": {},
   "outputs": [],
   "source": [
    "#4\n",
    "d3 = data3.copy()\n",
    "d3['Scholarship'] = d3['Scholarship'].fillna(0)\n",
    "d3['Hipertension'] = d3['Hipertension'].fillna(0) \n",
    "d3['Diabetes'] = d3['Diabetes'].fillna(0) \n",
    "d3['Alcoholism'] = d3['Alcoholism'].fillna(0)\n",
    "d3['Handcap'] = d3['Handcap'].fillna(0)\n",
    "print(d3.isnull().sum())"
   ]
  },
  {
   "cell_type": "code",
   "execution_count": null,
   "metadata": {},
   "outputs": [],
   "source": [
    "#5\n",
    "print(d3.shape)\n",
    "data5 = d3.drop(columns=['PatientId', 'AppointmentID'])\n",
    "print(data5.shape)"
   ]
  },
  {
   "cell_type": "code",
   "execution_count": null,
   "metadata": {},
   "outputs": [],
   "source": [
    "#6\n",
    "#Only ages less than 0 can be dropped since I don't know whether 0 is valid and what the maximum age is.\n",
    "print(data5.loc[data5['Age'] < 0])\n",
    "data6 = data5.drop(data5.loc[data5['Age'] < 0].index)\n",
    "print(data6.loc[data6['Age'] < 0])\n",
    "# print(\"???\")\n",
    "# data6 = data5.drop(data5['Age'] < 0)\n",
    "# print(data5.loc[data5['Age'] < 0])"
   ]
  },
  {
   "cell_type": "code",
   "execution_count": null,
   "metadata": {},
   "outputs": [],
   "source": [
    "#7\n",
    "data7 = data6.copy()\n",
    "data7['AppointmentDay'] = pandas.to_datetime(data7['AppointmentDay'],format='%Y-%m-%dT%H:%M:%SZ')\n",
    "data7['ScheduledDay'] = pandas.to_datetime(data7['ScheduledDay'],format='%Y-%m-%dT%H:%M:%SZ')\n",
    "print(data7)\n",
    "\n",
    "data7['Delta_Day'] = data7['AppointmentDay'] - data7['ScheduledDay']\n",
    "data7 = data7.drop(data7.loc[data7['Delta_Day'].dt.days < 0].index)\n",
    "print(data7)\n",
    "\n",
    "data7['Delta_Day'] = data7['Delta_Day'].dt.days\n",
    "print(data7)\n"
   ]
  },
  {
   "cell_type": "code",
   "execution_count": null,
   "metadata": {},
   "outputs": [],
   "source": [
    "#8\n",
    "data8 = data7.copy()\n",
    "data8['SDay_DOW'] = data8['ScheduledDay'].dt.dayofweek\n",
    "data8['ADay_DOW'] = data8['AppointmentDay'].dt.dayofweek\n",
    "print(data8)"
   ]
  },
  {
   "cell_type": "code",
   "execution_count": null,
   "metadata": {},
   "outputs": [],
   "source": [
    "#9\n",
    "data9 = data8.copy()\n",
    "data9 = data9.drop(columns=['ScheduledDay', 'AppointmentDay'])\n",
    "#data9 is the variable which store the final result\n",
    "print(\"Final result:\")\n",
    "print(data9)"
   ]
  }
 ],
 "metadata": {
  "kernelspec": {
   "display_name": "Python 3",
   "language": "python",
   "name": "python3"
  },
  "language_info": {
   "codemirror_mode": {
    "name": "ipython",
    "version": 3
   },
   "file_extension": ".py",
   "mimetype": "text/x-python",
   "name": "python",
   "nbconvert_exporter": "python",
   "pygments_lexer": "ipython3",
   "version": "3.8.5"
  }
 },
 "nbformat": 4,
 "nbformat_minor": 4
}
